{
 "cells": [
  {
   "cell_type": "markdown",
   "metadata": {},
   "source": [
    "# 3-2 흐름제어: 반복문 for, while"
   ]
  },
  {
   "cell_type": "markdown",
   "metadata": {},
   "source": [
    "# (1) While 문"
   ]
  },
  {
   "cell_type": "markdown",
   "metadata": {},
   "source": [
    "- **예제1**"
   ]
  },
  {
   "cell_type": "code",
   "execution_count": 2,
   "metadata": {},
   "outputs": [
    {
     "name": "stdout",
     "output_type": "stream",
     "text": [
      "v1 is:  1\n",
      "v1 is:  2\n",
      "v1 is:  3\n",
      "v1 is:  4\n",
      "v1 is:  5\n",
      "v1 is:  6\n",
      "v1 is:  7\n",
      "v1 is:  8\n",
      "v1 is:  9\n",
      "v1 is:  10\n"
     ]
    }
   ],
   "source": [
    "v1 = 1\n",
    "while v1 < 11: \n",
    "    print(\"v1 is: \", v1)\n",
    "    v1 += 1 "
   ]
  },
  {
   "cell_type": "markdown",
   "metadata": {},
   "source": [
    "- **예제2**"
   ]
  },
  {
   "cell_type": "code",
   "execution_count": 8,
   "metadata": {},
   "outputs": [],
   "source": [
    "sum1 = 0 \n",
    "cnt1 = 1"
   ]
  },
  {
   "cell_type": "code",
   "execution_count": 11,
   "metadata": {},
   "outputs": [
    {
     "name": "stdout",
     "output_type": "stream",
     "text": [
      "5050\n"
     ]
    }
   ],
   "source": [
    "while cnt1 <= 100: \n",
    "    sum1 += cnt1\n",
    "    cnt1 += 1 \n",
    "print(sum1)"
   ]
  },
  {
   "cell_type": "markdown",
   "metadata": {},
   "source": [
    "- **참고: 같은 결과를 낼 수 있는 sum**"
   ]
  },
  {
   "cell_type": "code",
   "execution_count": 12,
   "metadata": {},
   "outputs": [
    {
     "name": "stdout",
     "output_type": "stream",
     "text": [
      "5050\n",
      "2500\n"
     ]
    }
   ],
   "source": [
    "print(sum(range(1, 101)))\n",
    "print(sum(range(1, 101, 2)))"
   ]
  },
  {
   "cell_type": "markdown",
   "metadata": {},
   "source": [
    "# (2) for 문"
   ]
  },
  {
   "cell_type": "markdown",
   "metadata": {},
   "source": [
    "- **예제 1**"
   ]
  },
  {
   "cell_type": "code",
   "execution_count": 13,
   "metadata": {},
   "outputs": [
    {
     "name": "stdout",
     "output_type": "stream",
     "text": [
      "v3 is:  1\n",
      "v3 is:  2\n",
      "v3 is:  3\n",
      "v3 is:  4\n",
      "v3 is:  5\n",
      "v3 is:  6\n",
      "v3 is:  7\n",
      "v3 is:  8\n",
      "v3 is:  9\n",
      "v3 is:  10\n"
     ]
    }
   ],
   "source": [
    "for v3 in range(1, 11):\n",
    "    print('v3 is: ', v3)"
   ]
  },
  {
   "cell_type": "markdown",
   "metadata": {},
   "source": [
    "- **예제 2 - 리스트**"
   ]
  },
  {
   "cell_type": "code",
   "execution_count": 14,
   "metadata": {},
   "outputs": [],
   "source": [
    "names = ['kim', 'park', 'cho', 'choi', 'yoo']"
   ]
  },
  {
   "cell_type": "code",
   "execution_count": 15,
   "metadata": {},
   "outputs": [
    {
     "name": "stdout",
     "output_type": "stream",
     "text": [
      "Your name is  kim\n",
      "Your name is  park\n",
      "Your name is  cho\n",
      "Your name is  choi\n",
      "Your name is  yoo\n"
     ]
    }
   ],
   "source": [
    "for name in names:\n",
    "    print('Your name is ', name)"
   ]
  },
  {
   "cell_type": "markdown",
   "metadata": {},
   "source": [
    "- **예제 3 - 문자열**"
   ]
  },
  {
   "cell_type": "code",
   "execution_count": 18,
   "metadata": {},
   "outputs": [],
   "source": [
    "word = 'dreams'"
   ]
  },
  {
   "cell_type": "code",
   "execution_count": 19,
   "metadata": {},
   "outputs": [
    {
     "name": "stdout",
     "output_type": "stream",
     "text": [
      "Word:  d\n",
      "Word:  r\n",
      "Word:  e\n",
      "Word:  a\n",
      "Word:  m\n",
      "Word:  s\n"
     ]
    }
   ],
   "source": [
    "for s in word: \n",
    "    print(\"Word: \", s)"
   ]
  },
  {
   "cell_type": "markdown",
   "metadata": {},
   "source": [
    "- **예제 4 - 딕셔너리**"
   ]
  },
  {
   "cell_type": "code",
   "execution_count": 20,
   "metadata": {},
   "outputs": [],
   "source": [
    "my_info = {\n",
    "    'name': 'Silver',\n",
    "    'age': 33,\n",
    "    'city': 'Seoul'\n",
    "}"
   ]
  },
  {
   "cell_type": "markdown",
   "metadata": {},
   "source": [
    "- 기본: key"
   ]
  },
  {
   "cell_type": "code",
   "execution_count": 21,
   "metadata": {},
   "outputs": [
    {
     "name": "stdout",
     "output_type": "stream",
     "text": [
      "name\n",
      "age\n",
      "city\n"
     ]
    }
   ],
   "source": [
    "for key in my_info:\n",
    "    print(key)"
   ]
  },
  {
   "cell_type": "markdown",
   "metadata": {},
   "source": [
    "- values"
   ]
  },
  {
   "cell_type": "code",
   "execution_count": 22,
   "metadata": {},
   "outputs": [
    {
     "name": "stdout",
     "output_type": "stream",
     "text": [
      "Silver\n",
      "33\n",
      "Seoul\n"
     ]
    }
   ],
   "source": [
    "for val in my_info.values():\n",
    "    print(val)"
   ]
  },
  {
   "cell_type": "markdown",
   "metadata": {},
   "source": [
    "- keys"
   ]
  },
  {
   "cell_type": "code",
   "execution_count": 23,
   "metadata": {},
   "outputs": [
    {
     "name": "stdout",
     "output_type": "stream",
     "text": [
      "name\n",
      "age\n",
      "city\n"
     ]
    }
   ],
   "source": [
    "for key in my_info.keys():\n",
    "    print(key)"
   ]
  },
  {
   "cell_type": "markdown",
   "metadata": {},
   "source": [
    "- items"
   ]
  },
  {
   "cell_type": "code",
   "execution_count": 29,
   "metadata": {},
   "outputs": [
    {
     "name": "stdout",
     "output_type": "stream",
     "text": [
      "name | Silver\n",
      "age | 33\n",
      "city | Seoul\n"
     ]
    }
   ],
   "source": [
    "for key, val in my_info.items():\n",
    "    print(key, '|', val)"
   ]
  },
  {
   "cell_type": "markdown",
   "metadata": {},
   "source": [
    "- **예제 5 - 반복문 + 조건문**"
   ]
  },
  {
   "cell_type": "code",
   "execution_count": 30,
   "metadata": {},
   "outputs": [],
   "source": [
    "name = 'SilveR'\n",
    "name2 = \"\""
   ]
  },
  {
   "cell_type": "code",
   "execution_count": 31,
   "metadata": {},
   "outputs": [
    {
     "name": "stdout",
     "output_type": "stream",
     "text": [
      "s\n",
      "I\n",
      "L\n",
      "V\n",
      "E\n",
      "r\n"
     ]
    }
   ],
   "source": [
    "for n in name:\n",
    "    if n.isupper():\n",
    "        print(n.lower())\n",
    "        name2 += n.lower()\n",
    "    else: \n",
    "        print(n.upper())\n",
    "        name2 += n.upper()"
   ]
  },
  {
   "cell_type": "code",
   "execution_count": 32,
   "metadata": {},
   "outputs": [
    {
     "name": "stdout",
     "output_type": "stream",
     "text": [
      "sILVEr\n"
     ]
    }
   ],
   "source": [
    "print(name2)"
   ]
  },
  {
   "cell_type": "markdown",
   "metadata": {},
   "source": [
    "- **예제 6 - break**"
   ]
  },
  {
   "cell_type": "code",
   "execution_count": 34,
   "metadata": {},
   "outputs": [],
   "source": [
    "numbers = [14, 3, 4, 7, 10, 24, 17, 2, 33, 35, 36, 38]\n",
    "numbers2 = [14, 3, 4, 7, 10, 24, 17, 2, 37, 35, 36, 38]"
   ]
  },
  {
   "cell_type": "code",
   "execution_count": 35,
   "metadata": {},
   "outputs": [
    {
     "name": "stdout",
     "output_type": "stream",
     "text": [
      "not found 33 !!!\n",
      "not found 33 !!!\n",
      "not found 33 !!!\n",
      "not found 33 !!!\n",
      "not found 33 !!!\n",
      "not found 33 !!!\n",
      "not found 33 !!!\n",
      "not found 33 !!!\n",
      "found 33 !!!\n"
     ]
    }
   ],
   "source": [
    "for num in numbers: \n",
    "    if num == 33:\n",
    "        print(\"found 33 !!!\")\n",
    "        break\n",
    "    else:\n",
    "        print(\"not found 33 !!!\")"
   ]
  },
  {
   "cell_type": "markdown",
   "metadata": {},
   "source": [
    " - **예제 7 - for-else 구문**\n",
    "- 모든값 정상 순회 -> else 블럭 수행"
   ]
  },
  {
   "cell_type": "code",
   "execution_count": 37,
   "metadata": {},
   "outputs": [
    {
     "name": "stdout",
     "output_type": "stream",
     "text": [
      "not found 33 !!!\n",
      "not found 33 !!!\n",
      "not found 33 !!!\n",
      "not found 33 !!!\n",
      "not found 33 !!!\n",
      "not found 33 !!!\n",
      "not found 33 !!!\n",
      "not found 33 !!!\n",
      "not found 33 !!!\n",
      "not found 33 !!!\n",
      "not found 33 !!!\n",
      "not found 33 !!!\n",
      "Not found 33.........\n"
     ]
    }
   ],
   "source": [
    "for num in numbers2:\n",
    "    if num == 33:\n",
    "        print('found 33 !!!')\n",
    "        break\n",
    "    else:\n",
    "        print('not found 33 !!!')\n",
    "else:\n",
    "    print(\"Not found 33.........\")"
   ]
  },
  {
   "cell_type": "markdown",
   "metadata": {},
   "source": [
    "- **예제 8 - continue**"
   ]
  },
  {
   "cell_type": "code",
   "execution_count": 41,
   "metadata": {},
   "outputs": [],
   "source": [
    "l1 = ['1', 2, 5, True, 4.3, complex(4)]"
   ]
  },
  {
   "cell_type": "code",
   "execution_count": 44,
   "metadata": {},
   "outputs": [
    {
     "name": "stdout",
     "output_type": "stream",
     "text": [
      "type:  <class 'str'>\n",
      "type:  <class 'int'>\n",
      "type:  <class 'int'>\n",
      "type:  <class 'bool'>\n",
      "type:  <class 'complex'>\n"
     ]
    }
   ],
   "source": [
    "for i in l1:\n",
    "    if type(i) is float:\n",
    "        continue\n",
    "    print(\"type: \", type(i))"
   ]
  },
  {
   "cell_type": "markdown",
   "metadata": {},
   "source": [
    "- **예제 9 - reversed 함수**"
   ]
  },
  {
   "cell_type": "code",
   "execution_count": 45,
   "metadata": {},
   "outputs": [
    {
     "name": "stdout",
     "output_type": "stream",
     "text": [
      "<reversed object at 0x0000019C1B6ACEF0>\n",
      "['n', 'a', 'm', 'e', 'c', 'i', 'N']\n",
      "('n', 'a', 'm', 'e', 'c', 'i', 'N')\n"
     ]
    }
   ],
   "source": [
    "name = 'Niceman'\n",
    "print(reversed(name))\n",
    "print(list(reversed(name)))\n",
    "print(tuple(reversed(name)))"
   ]
  },
  {
   "cell_type": "code",
   "execution_count": 47,
   "metadata": {},
   "outputs": [
    {
     "name": "stdout",
     "output_type": "stream",
     "text": [
      "n\n",
      "a\n",
      "m\n",
      "e\n",
      "c\n",
      "i\n",
      "N\n"
     ]
    }
   ],
   "source": [
    "for n in reversed(name): \n",
    "    print(n)"
   ]
  },
  {
   "cell_type": "code",
   "execution_count": null,
   "metadata": {},
   "outputs": [],
   "source": []
  }
 ],
 "metadata": {
  "kernelspec": {
   "display_name": "Python 3",
   "language": "python",
   "name": "python3"
  },
  "language_info": {
   "codemirror_mode": {
    "name": "ipython",
    "version": 3
   },
   "file_extension": ".py",
   "mimetype": "text/x-python",
   "name": "python",
   "nbconvert_exporter": "python",
   "pygments_lexer": "ipython3",
   "version": "3.7.3"
  }
 },
 "nbformat": 4,
 "nbformat_minor": 4
}
