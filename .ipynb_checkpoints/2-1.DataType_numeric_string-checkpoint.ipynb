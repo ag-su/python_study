{
 "cells": [
  {
   "cell_type": "markdown",
   "metadata": {},
   "source": [
    "# 2. Data Type : 숫자형, 문자열"
   ]
  },
  {
   "cell_type": "markdown",
   "metadata": {},
   "source": [
    "### 데이터 타입 한눈에 보기 "
   ]
  },
  {
   "cell_type": "code",
   "execution_count": 36,
   "metadata": {},
   "outputs": [],
   "source": [
    "v_str = \"Niceman\"\n",
    "v_bool = True\n",
    "v_float = 7.77\n",
    "v_int = 7\n",
    "v_dict = {\n",
    "    'name' : 'Silver',\n",
    "    'age' : 25\n",
    "}\n",
    "v_list = [7, 8, 9]\n",
    "v_tuple = 7, 8, 9\n",
    "v_set = {7, 8, 9}"
   ]
  },
  {
   "cell_type": "code",
   "execution_count": 37,
   "metadata": {},
   "outputs": [
    {
     "name": "stdout",
     "output_type": "stream",
     "text": [
      "<class 'str'>\n",
      "<class 'bool'>\n",
      "<class 'float'>\n",
      "<class 'int'>\n",
      "<class 'dict'>\n",
      "<class 'list'>\n",
      "<class 'tuple'>\n",
      "<class 'set'>\n"
     ]
    }
   ],
   "source": [
    "print(type(v_str))\n",
    "print(type(v_bool))\n",
    "print(type(v_float))\n",
    "print(type(v_int))\n",
    "print(type(v_dict))\n",
    "print(type(v_list))\n",
    "print(type(v_tuple))\n",
    "print(type(v_set))"
   ]
  },
  {
   "cell_type": "markdown",
   "metadata": {},
   "source": [
    "## (1) 숫자형\n",
    "\n",
    " https://docs.python.org/3/library/stdtypes.html#numeric-types-int-float-complex  (참고문서) "
   ]
  },
  {
   "cell_type": "code",
   "execution_count": 38,
   "metadata": {},
   "outputs": [
    {
     "name": "stdout",
     "output_type": "stream",
     "text": [
      "<class 'int'>\n",
      "<class 'int'>\n",
      "<class 'float'>\n",
      "<class 'float'>\n"
     ]
    }
   ],
   "source": [
    "# 변수 선언 \n",
    "i1 = 7 \n",
    "i2 = 77\n",
    "f1 = 4.321\n",
    "f2 = .999\n",
    "\n",
    "print(type(i1))\n",
    "print(type(i2))\n",
    "print(type(f1))\n",
    "print(type(f2))"
   ]
  },
  {
   "cell_type": "code",
   "execution_count": 39,
   "metadata": {},
   "outputs": [
    {
     "name": "stdout",
     "output_type": "stream",
     "text": [
      "539\n",
      "4.314680898380055\n"
     ]
    }
   ],
   "source": [
    "print(i1 * i2)\n",
    "print(f1 ** f2)"
   ]
  },
  {
   "cell_type": "code",
   "execution_count": 40,
   "metadata": {},
   "outputs": [
    {
     "name": "stdout",
     "output_type": "stream",
     "text": [
      "7.999 <class 'float'>\n"
     ]
    }
   ],
   "source": [
    "result = i1 + f2\n",
    "print(result, type(result))  # int + float => float"
   ]
  },
  {
   "cell_type": "markdown",
   "metadata": {},
   "source": [
    "- 숫자형 형변환 (유연한 형변환 가능 )"
   ]
  },
  {
   "cell_type": "code",
   "execution_count": 41,
   "metadata": {},
   "outputs": [
    {
     "name": "stdout",
     "output_type": "stream",
     "text": [
      "7\n",
      "7.0\n",
      "(7+0j)\n",
      "1\n",
      "0\n",
      "3\n",
      "0j\n"
     ]
    }
   ],
   "source": [
    "print(int(result))\n",
    "print(float(i1))\n",
    "print(complex(7))  # 복소수 \n",
    "print(int(True))\n",
    "print(int(False))\n",
    "print(int('3'))\n",
    "print(complex(False))"
   ]
  },
  {
   "cell_type": "markdown",
   "metadata": {},
   "source": [
    "- 수치 연산 함수 \n",
    "\n",
    "https://docs.python.org/3/library/math.html (참고문서)"
   ]
  },
  {
   "cell_type": "code",
   "execution_count": 43,
   "metadata": {},
   "outputs": [
    {
     "name": "stdout",
     "output_type": "stream",
     "text": [
      "777\n",
      "14 2\n"
     ]
    }
   ],
   "source": [
    "print(abs(-777))  # 절댓값 \n",
    "n, m = divmod(100, 7)  # 몫, 나머지 \n",
    "print(n, m)"
   ]
  },
  {
   "cell_type": "code",
   "execution_count": 44,
   "metadata": {},
   "outputs": [
    {
     "name": "stdout",
     "output_type": "stream",
     "text": [
      "8\n",
      "7\n"
     ]
    }
   ],
   "source": [
    "import math \n",
    "print(math.ceil(7.1))  # 괄호 안의 숫자보다 크면서 가장 작은 정수 \n",
    "print(math.floor(7.1))  # 괄호 안의 숫자보다 작으면서 가장 큰 정수 "
   ]
  },
  {
   "cell_type": "markdown",
   "metadata": {},
   "source": [
    "## (2) 문자열"
   ]
  },
  {
   "cell_type": "code",
   "execution_count": 45,
   "metadata": {},
   "outputs": [],
   "source": [
    "str1 = \"I am a geak!\"\n",
    "str2 = \"NiceGirl\"\n",
    "str3 = \"\"\n",
    "str4 = str()"
   ]
  },
  {
   "cell_type": "code",
   "execution_count": 49,
   "metadata": {},
   "outputs": [
    {
     "name": "stdout",
     "output_type": "stream",
     "text": [
      "12\n",
      "8\n",
      "0\n",
      "0\n"
     ]
    }
   ],
   "source": [
    "print(len(str1), len(str2), len(str3), len(str4), sep='\\n')  # 공백 포함 글자 수 "
   ]
  },
  {
   "cell_type": "markdown",
   "metadata": {},
   "source": [
    "- 이스케이프 문자 사용 "
   ]
  },
  {
   "cell_type": "code",
   "execution_count": 50,
   "metadata": {},
   "outputs": [
    {
     "name": "stdout",
     "output_type": "stream",
     "text": [
      "Do you have a \"big apple\"?\n",
      "Tab1\tTab2\tTab3\tTab4\n"
     ]
    }
   ],
   "source": [
    "escape1 = \"Do you have a \\\"big apple\\\"?\"\n",
    "print(escape1)\n",
    "escape2 = \"Tab1\\tTab2\\tTab3\\tTab4\"\n",
    "print(escape2)"
   ]
  },
  {
   "cell_type": "markdown",
   "metadata": {},
   "source": [
    "- Raw String"
   ]
  },
  {
   "cell_type": "code",
   "execution_count": 58,
   "metadata": {},
   "outputs": [
    {
     "name": "stdout",
     "output_type": "stream",
     "text": [
      "C:\\Python\\Test\\...\n",
      "\\\\a\\\\b\n"
     ]
    }
   ],
   "source": [
    "raw_str1 = r\"C:\\Python\\Test\\...\"\n",
    "print(raw_str1)\n",
    "raw_str2 = r\"\\\\a\\\\b\"\n",
    "print(raw_str2)"
   ]
  },
  {
   "cell_type": "markdown",
   "metadata": {},
   "source": [
    "- 멀티라인 : 다음줄과 이어짐"
   ]
  },
  {
   "cell_type": "code",
   "execution_count": 59,
   "metadata": {},
   "outputs": [
    {
     "name": "stdout",
     "output_type": "stream",
     "text": [
      "\n",
      "문자열\n",
      "멀티라인\n",
      "테스트\n",
      "입니다\n",
      "\n"
     ]
    }
   ],
   "source": [
    "multi = \\\n",
    "\"\"\"\n",
    "문자열\n",
    "멀티라인\n",
    "테스트\n",
    "입니다\n",
    "\"\"\"\n",
    "\n",
    "print(multi)"
   ]
  },
  {
   "cell_type": "markdown",
   "metadata": {},
   "source": [
    "- 문자열 연산"
   ]
  },
  {
   "cell_type": "code",
   "execution_count": 60,
   "metadata": {},
   "outputs": [],
   "source": [
    "str_o1 = \"*\"\n",
    "str_o2 = \"abc\"\n",
    "str_o3 = \"def\"\n",
    "str_o4= \"NiceGirl\""
   ]
  },
  {
   "cell_type": "code",
   "execution_count": 65,
   "metadata": {},
   "outputs": [
    {
     "name": "stdout",
     "output_type": "stream",
     "text": [
      "****************************************************************************************************\n",
      "abcdef\n",
      "False\n",
      "True\n",
      "True\n"
     ]
    }
   ],
   "source": [
    "print(str_o1 * 100)\n",
    "print(str_o2 + str_o3)\n",
    "print('g' in str_o4)\n",
    "print('G' in str_o4)\n",
    "print('z' not in str_o4)"
   ]
  },
  {
   "cell_type": "markdown",
   "metadata": {},
   "source": [
    "- 문자열 형변환"
   ]
  },
  {
   "cell_type": "code",
   "execution_count": 67,
   "metadata": {},
   "outputs": [
    {
     "name": "stdout",
     "output_type": "stream",
     "text": [
      "77A <class 'str'>\n",
      "10.4 <class 'str'>\n"
     ]
    }
   ],
   "source": [
    "str1 = str(77) + 'A'\n",
    "str2 = str(10.4)\n",
    "print(str1, type(str1))\n",
    "print(str2, type(str2))"
   ]
  },
  {
   "cell_type": "markdown",
   "metadata": {},
   "source": [
    "- 문자열 함수\n",
    "\n",
    "https://www.w3schools.com/python/python_ref_string.asp (참고 문서) "
   ]
  },
  {
   "cell_type": "code",
   "execution_count": 68,
   "metadata": {},
   "outputs": [],
   "source": [
    "a = \"nicegirl\"\n",
    "b = \"orange\""
   ]
  },
  {
   "cell_type": "code",
   "execution_count": 69,
   "metadata": {
    "scrolled": true
   },
   "outputs": [
    {
     "name": "stdout",
     "output_type": "stream",
     "text": [
      "True\n",
      "True\n",
      "Nicegirl\n",
      "goodgirl\n",
      "['e', 'g', 'n', 'a', 'r', 'o']\n"
     ]
    }
   ],
   "source": [
    "print(a.islower())  # 소문자인지 : Bool 반환\n",
    "print(b.endswith('e'))  # e로 끝나는지 : Boot 반환 \n",
    "print(a.capitalize())  # 첫 글자를 대문자로 \n",
    "print(a.replace('nice', \"good\"))  # nice 를 good으로 대체\n",
    "print(list(reversed(b)))  # 뒤집어서 리스트로 반환 "
   ]
  },
  {
   "cell_type": "markdown",
   "metadata": {},
   "source": [
    "- 문자열 슬라이싱"
   ]
  },
  {
   "cell_type": "code",
   "execution_count": 71,
   "metadata": {},
   "outputs": [],
   "source": [
    "a = \"nicegirl\" \n",
    "b = \"orange\" "
   ]
  },
  {
   "cell_type": "code",
   "execution_count": 73,
   "metadata": {},
   "outputs": [
    {
     "name": "stdout",
     "output_type": "stream",
     "text": [
      "nic\n",
      "nice\n",
      "nicegirl\n",
      "nice\n",
      "oa\n",
      "ran\n",
      "egnaro\n"
     ]
    }
   ],
   "source": [
    "print(a[0:3])\n",
    "print(a[0:4])\n",
    "print(a[0:len(a)])\n",
    "print(a[:4])\n",
    "print(b[0:4:2])\n",
    "print(b[1:-2])\n",
    "print(b[::-1])"
   ]
  }
 ],
 "metadata": {
  "kernelspec": {
   "display_name": "Python 3",
   "language": "python",
   "name": "python3"
  },
  "language_info": {
   "codemirror_mode": {
    "name": "ipython",
    "version": 3
   },
   "file_extension": ".py",
   "mimetype": "text/x-python",
   "name": "python",
   "nbconvert_exporter": "python",
   "pygments_lexer": "ipython3",
   "version": "3.7.3"
  }
 },
 "nbformat": 4,
 "nbformat_minor": 4
}
