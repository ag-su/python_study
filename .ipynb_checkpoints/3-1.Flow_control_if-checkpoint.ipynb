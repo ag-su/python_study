{
 "cells": [
  {
   "cell_type": "markdown",
   "metadata": {},
   "source": [
    "# 3-1. 흐름제어: 조건문 if "
   ]
  },
  {
   "cell_type": "markdown",
   "metadata": {},
   "source": [
    "### - cf) 참(True), 거짓(False) 종류"
   ]
  },
  {
   "cell_type": "markdown",
   "metadata": {},
   "source": [
    "- **참: \"내용\", [내용], (내용), {내용}, 1, True**\n",
    "- **거짓: \"\", [], (), {}, 0, False**"
   ]
  },
  {
   "cell_type": "code",
   "execution_count": 1,
   "metadata": {},
   "outputs": [
    {
     "name": "stdout",
     "output_type": "stream",
     "text": [
      "Yes\n",
      "Yes\n"
     ]
    }
   ],
   "source": [
    "# 예 1 \n",
    "if True: \n",
    "    print(\"Yes\")\n",
    "    \n",
    "# 예 2 \n",
    "if False:\n",
    "    print('No')\n",
    "    \n",
    "# 예 3 \n",
    "if False:\n",
    "    print('No')\n",
    "else:\n",
    "    print('Yes')"
   ]
  },
  {
   "cell_type": "code",
   "execution_count": 2,
   "metadata": {},
   "outputs": [
    {
     "name": "stdout",
     "output_type": "stream",
     "text": [
      ">>>>>False\n"
     ]
    }
   ],
   "source": [
    "city = \"\"\n",
    "\n",
    "if city:\n",
    "    print(\">>>>>True\")\n",
    "else:\n",
    "    print(\">>>>>False\")"
   ]
  },
  {
   "cell_type": "markdown",
   "metadata": {},
   "source": [
    "### - 관계연산자\n",
    "- **>, >=, <, <=, ==, !=**"
   ]
  },
  {
   "cell_type": "code",
   "execution_count": 3,
   "metadata": {},
   "outputs": [],
   "source": [
    "a = 10 \n",
    "b = 0 "
   ]
  },
  {
   "cell_type": "code",
   "execution_count": 4,
   "metadata": {},
   "outputs": [
    {
     "name": "stdout",
     "output_type": "stream",
     "text": [
      "False\n",
      "True\n",
      "True\n",
      "True\n",
      "False\n",
      "False\n"
     ]
    }
   ],
   "source": [
    "print(a == b)\n",
    "print(a != b)\n",
    "print(a > b)\n",
    "print(a >= b)\n",
    "print(a < b)\n",
    "print(a <= b)"
   ]
  },
  {
   "cell_type": "markdown",
   "metadata": {},
   "source": [
    "### - 논리연산자\n",
    "- **and, or, not**"
   ]
  },
  {
   "cell_type": "code",
   "execution_count": 5,
   "metadata": {},
   "outputs": [],
   "source": [
    "a = 100\n",
    "b = 60 \n",
    "c = 15 "
   ]
  },
  {
   "cell_type": "code",
   "execution_count": 6,
   "metadata": {},
   "outputs": [
    {
     "name": "stdout",
     "output_type": "stream",
     "text": [
      "and:  True\n",
      "or:  True\n",
      "not:  False\n",
      "False\n",
      "True\n"
     ]
    }
   ],
   "source": [
    "print('and: ', a > b and b > c)\n",
    "print('or: ', a > b or c < b)\n",
    "print('not: ', not a > b)\n",
    "print(not True)\n",
    "print(not False)"
   ]
  },
  {
   "cell_type": "markdown",
   "metadata": {},
   "source": [
    "### - 산술, 관계, 논리 연산자 적용 순서 \n",
    "- **산술 > 관계 > 논리**"
   ]
  },
  {
   "cell_type": "code",
   "execution_count": 7,
   "metadata": {},
   "outputs": [
    {
     "name": "stdout",
     "output_type": "stream",
     "text": [
      "False\n"
     ]
    }
   ],
   "source": [
    "print(5 + 10 > 0 and not 7 + 3 == 10)"
   ]
  },
  {
   "cell_type": "markdown",
   "metadata": {},
   "source": [
    "## (1) if문 기본 사용"
   ]
  },
  {
   "cell_type": "code",
   "execution_count": 8,
   "metadata": {},
   "outputs": [],
   "source": [
    "score1 = 90\n",
    "score2 = 'A'"
   ]
  },
  {
   "cell_type": "code",
   "execution_count": 9,
   "metadata": {},
   "outputs": [
    {
     "name": "stdout",
     "output_type": "stream",
     "text": [
      "합격하셨습니다.\n"
     ]
    }
   ],
   "source": [
    "if score1 >= 90 and score2 == \"A\":\n",
    "    print('합격하셨습니다.')\n",
    "else: \n",
    "    print(\"불합격입니다. \")"
   ]
  },
  {
   "cell_type": "markdown",
   "metadata": {},
   "source": [
    "## (2) 다중 조건문"
   ]
  },
  {
   "cell_type": "code",
   "execution_count": 10,
   "metadata": {},
   "outputs": [],
   "source": [
    "num = 82"
   ]
  },
  {
   "cell_type": "code",
   "execution_count": 11,
   "metadata": {},
   "outputs": [
    {
     "name": "stdout",
     "output_type": "stream",
     "text": [
      "등급 B | 점수:  82\n"
     ]
    }
   ],
   "source": [
    "if num >= 90:\n",
    "    print(\"등급 A | 점수: \", num)\n",
    "elif num >= 80 :\n",
    "    print(\"등급 B | 점수: \", num)\n",
    "elif num >= 70: \n",
    "    print(\"등급 C | 점수: \", num)\n",
    "else:\n",
    "    print(\"꽝\")"
   ]
  },
  {
   "cell_type": "markdown",
   "metadata": {},
   "source": [
    "## (3) 중첩 조건문"
   ]
  },
  {
   "cell_type": "code",
   "execution_count": 12,
   "metadata": {},
   "outputs": [],
   "source": [
    "age = 27\n",
    "height = 175"
   ]
  },
  {
   "cell_type": "code",
   "execution_count": 13,
   "metadata": {},
   "outputs": [
    {
     "name": "stdout",
     "output_type": "stream",
     "text": [
      "A 지망 지원 가능 \n"
     ]
    }
   ],
   "source": [
    "if age >= 20:\n",
    "    if height >= 170: \n",
    "        print(\"A 지망 지원 가능 \")\n",
    "    elif height >= 160:\n",
    "        print(\"B 지망 지원 가능\")\n",
    "    else: \n",
    "        print(\" 지원 불가\")\n",
    "else: \n",
    "    print(\"20세 이상 지원 가능 \")"
   ]
  }
 ],
 "metadata": {
  "kernelspec": {
   "display_name": "Python 3",
   "language": "python",
   "name": "python3"
  },
  "language_info": {
   "codemirror_mode": {
    "name": "ipython",
    "version": 3
   },
   "file_extension": ".py",
   "mimetype": "text/x-python",
   "name": "python",
   "nbconvert_exporter": "python",
   "pygments_lexer": "ipython3",
   "version": "3.7.3"
  }
 },
 "nbformat": 4,
 "nbformat_minor": 4
}
