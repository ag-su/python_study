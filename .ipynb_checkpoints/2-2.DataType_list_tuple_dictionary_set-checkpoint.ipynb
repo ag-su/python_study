{
 "cells": [
  {
   "cell_type": "markdown",
   "metadata": {},
   "source": [
    "# 2-2 Data Type : 리스트, 튜플, 딕셔너리, 집합"
   ]
  },
  {
   "cell_type": "markdown",
   "metadata": {},
   "source": [
    "## (1) 리스트 (list)\n",
    "- 순서 O, 중복 O, 삭제 O "
   ]
  },
  {
   "cell_type": "markdown",
   "metadata": {},
   "source": [
    "### - 선언"
   ]
  },
  {
   "cell_type": "code",
   "execution_count": 14,
   "metadata": {},
   "outputs": [],
   "source": [
    "a = []\n",
    "b = list()\n",
    "c = [1, 2, 3, 4]\n",
    "d = [10, 100, 'Pen', 'Banana', 'Orange']\n",
    "e = [10, 100, ['Pen', 'Banana', 'Orange']]"
   ]
  },
  {
   "cell_type": "markdown",
   "metadata": {},
   "source": [
    "### - 인덱싱"
   ]
  },
  {
   "cell_type": "code",
   "execution_count": 3,
   "metadata": {},
   "outputs": [
    {
     "name": "stdout",
     "output_type": "stream",
     "text": [
      "Banana\n",
      "Banana\n",
      "110\n",
      "Banana\n",
      "Banana\n"
     ]
    }
   ],
   "source": [
    "print(d[3])\n",
    "print(d[-2])\n",
    "print(d[0] + d[1])\n",
    "print(e[2][1])\n",
    "print(e[-1][-2])"
   ]
  },
  {
   "cell_type": "markdown",
   "metadata": {},
   "source": [
    "### - 슬라이싱"
   ]
  },
  {
   "cell_type": "code",
   "execution_count": 4,
   "metadata": {},
   "outputs": [
    {
     "name": "stdout",
     "output_type": "stream",
     "text": [
      "[10, 100, 'Pen']\n",
      "['Banana', 'Orange']\n"
     ]
    }
   ],
   "source": [
    "print(d[0:3])\n",
    "print(e[2][1:3])"
   ]
  },
  {
   "cell_type": "markdown",
   "metadata": {},
   "source": [
    "### - 연산"
   ]
  },
  {
   "cell_type": "code",
   "execution_count": 8,
   "metadata": {},
   "outputs": [
    {
     "name": "stdout",
     "output_type": "stream",
     "text": [
      "[1, 2, 3, 4, 10, 100, 'Pen', 'Banana', 'Orange']\n",
      "[1, 2, 3, 4, 1, 2, 3, 4, 1, 2, 3, 4]\n",
      "1hi\n"
     ]
    }
   ],
   "source": [
    "print(c + d)\n",
    "print(c * 3)\n",
    "print(str(c[0]) + 'hi')"
   ]
  },
  {
   "cell_type": "markdown",
   "metadata": {},
   "source": [
    "### - 리스트 수정, 삭제 "
   ]
  },
  {
   "cell_type": "code",
   "execution_count": 15,
   "metadata": {},
   "outputs": [
    {
     "name": "stdout",
     "output_type": "stream",
     "text": [
      "[77, 2, 3, 4]\n"
     ]
    }
   ],
   "source": [
    "c[0] = 77\n",
    "print(c)"
   ]
  },
  {
   "cell_type": "code",
   "execution_count": 16,
   "metadata": {},
   "outputs": [
    {
     "name": "stdout",
     "output_type": "stream",
     "text": [
      "[77, 100, 1000, 10000, 3, 4]\n"
     ]
    }
   ],
   "source": [
    "c[1:2] = [100, 1000, 10000]  # 슬라이싱: 원소가 들어감 \n",
    "print(c)"
   ]
  },
  {
   "cell_type": "code",
   "execution_count": 17,
   "metadata": {},
   "outputs": [
    {
     "name": "stdout",
     "output_type": "stream",
     "text": [
      "[77, ['a', 'b', 'c'], 1000, 10000, 3, 4]\n"
     ]
    }
   ],
   "source": [
    "c[1] = ['a', 'b', 'c']  # 인덱싱: 리스트 자체가 들어감\n",
    "print(c)"
   ]
  },
  {
   "cell_type": "code",
   "execution_count": 18,
   "metadata": {},
   "outputs": [
    {
     "name": "stdout",
     "output_type": "stream",
     "text": [
      "[77, 1000, 10000, 3, 4]\n"
     ]
    }
   ],
   "source": [
    "del c[1]\n",
    "print(c)"
   ]
  },
  {
   "cell_type": "code",
   "execution_count": 19,
   "metadata": {},
   "outputs": [
    {
     "name": "stdout",
     "output_type": "stream",
     "text": [
      "[77, 1000, 10000, 3]\n"
     ]
    }
   ],
   "source": [
    "del c[-1]\n",
    "print(c)"
   ]
  },
  {
   "cell_type": "markdown",
   "metadata": {},
   "source": [
    "### - 리스트 관련 함수 "
   ]
  },
  {
   "cell_type": "markdown",
   "metadata": {},
   "source": [
    "- append"
   ]
  },
  {
   "cell_type": "code",
   "execution_count": 21,
   "metadata": {},
   "outputs": [
    {
     "name": "stdout",
     "output_type": "stream",
     "text": [
      "[5, 2, 3, 1, 4]\n",
      "[5, 2, 3, 1, 4, 6]\n"
     ]
    }
   ],
   "source": [
    "y = [5, 2, 3, 1, 4]\n",
    "print(y)\n",
    "y.append(6)\n",
    "print(y)"
   ]
  },
  {
   "cell_type": "markdown",
   "metadata": {},
   "source": [
    "- sort"
   ]
  },
  {
   "cell_type": "code",
   "execution_count": 22,
   "metadata": {},
   "outputs": [
    {
     "name": "stdout",
     "output_type": "stream",
     "text": [
      "[1, 2, 3, 4, 5, 6]\n"
     ]
    }
   ],
   "source": [
    "y.sort()\n",
    "print(y)"
   ]
  },
  {
   "cell_type": "markdown",
   "metadata": {},
   "source": [
    "- reverse"
   ]
  },
  {
   "cell_type": "code",
   "execution_count": 25,
   "metadata": {},
   "outputs": [
    {
     "name": "stdout",
     "output_type": "stream",
     "text": [
      "[1, 2, 3, 4, 5, 6]\n"
     ]
    }
   ],
   "source": [
    "y.reverse()\n",
    "print(y)"
   ]
  },
  {
   "cell_type": "markdown",
   "metadata": {},
   "source": [
    "- insert"
   ]
  },
  {
   "cell_type": "code",
   "execution_count": 26,
   "metadata": {},
   "outputs": [
    {
     "name": "stdout",
     "output_type": "stream",
     "text": [
      "[1, 2, 7, 3, 4, 5, 6]\n"
     ]
    }
   ],
   "source": [
    "y.insert(2, 7)\n",
    "print(y)"
   ]
  },
  {
   "cell_type": "markdown",
   "metadata": {},
   "source": [
    "- remove"
   ]
  },
  {
   "cell_type": "code",
   "execution_count": 27,
   "metadata": {},
   "outputs": [
    {
     "name": "stdout",
     "output_type": "stream",
     "text": [
      "[1, 3, 4, 5, 6]\n"
     ]
    }
   ],
   "source": [
    "y.remove(2)\n",
    "y.remove(7)\n",
    "print(y)"
   ]
  },
  {
   "cell_type": "markdown",
   "metadata": {},
   "source": [
    "- pop"
   ]
  },
  {
   "cell_type": "code",
   "execution_count": 28,
   "metadata": {},
   "outputs": [
    {
     "name": "stdout",
     "output_type": "stream",
     "text": [
      "[1, 3, 4, 5]\n"
     ]
    }
   ],
   "source": [
    "y.pop()\n",
    "print(y)"
   ]
  },
  {
   "cell_type": "markdown",
   "metadata": {},
   "source": [
    "- extend"
   ]
  },
  {
   "cell_type": "code",
   "execution_count": 29,
   "metadata": {},
   "outputs": [
    {
     "name": "stdout",
     "output_type": "stream",
     "text": [
      "[1, 3, 4, 5, 77, 88]\n"
     ]
    }
   ],
   "source": [
    "ex = [77, 88]\n",
    "# y.append(ex) # ---> 리스트 자체를 추가 함 \n",
    "y.extend(ex) # 값을 추가 함\n",
    "print(y)"
   ]
  },
  {
   "cell_type": "markdown",
   "metadata": {},
   "source": [
    "### - 리스트 삭제 3종류 비교하기 \n",
    "- del(): 인덱스 값 \n",
    "- remove(): 원소 값 \n",
    "- pop(): 가장 마지막 값 ( 예외 발생 주의 ) "
   ]
  },
  {
   "cell_type": "markdown",
   "metadata": {},
   "source": [
    "## (2) 튜플 (tuple)\n",
    "- 순서 O, 중복 O, 수정 X, 삭제 X "
   ]
  },
  {
   "cell_type": "markdown",
   "metadata": {},
   "source": [
    "### - 선언"
   ]
  },
  {
   "cell_type": "code",
   "execution_count": 31,
   "metadata": {},
   "outputs": [],
   "source": [
    "a = ()\n",
    "b = (1,)\n",
    "c = (1, 2, 3, 4)\n",
    "d = (10, 100, ('a', 'b', 'c'))"
   ]
  },
  {
   "cell_type": "markdown",
   "metadata": {},
   "source": [
    "### - 삭제: 불가"
   ]
  },
  {
   "cell_type": "code",
   "execution_count": 33,
   "metadata": {},
   "outputs": [
    {
     "ename": "TypeError",
     "evalue": "'tuple' object doesn't support item deletion",
     "output_type": "error",
     "traceback": [
      "\u001b[1;31m---------------------------------------------------------------------------\u001b[0m",
      "\u001b[1;31mTypeError\u001b[0m                                 Traceback (most recent call last)",
      "\u001b[1;32m<ipython-input-33-501ff3bb334c>\u001b[0m in \u001b[0;36m<module>\u001b[1;34m\u001b[0m\n\u001b[1;32m----> 1\u001b[1;33m \u001b[1;32mdel\u001b[0m \u001b[0mc\u001b[0m\u001b[1;33m[\u001b[0m\u001b[1;36m2\u001b[0m\u001b[1;33m]\u001b[0m  \u001b[1;31m# 오류 발생\u001b[0m\u001b[1;33m\u001b[0m\u001b[1;33m\u001b[0m\u001b[0m\n\u001b[0m",
      "\u001b[1;31mTypeError\u001b[0m: 'tuple' object doesn't support item deletion"
     ]
    }
   ],
   "source": [
    "del c[2]  # 오류 발생"
   ]
  },
  {
   "cell_type": "markdown",
   "metadata": {},
   "source": [
    "### - 인덱싱"
   ]
  },
  {
   "cell_type": "code",
   "execution_count": 34,
   "metadata": {},
   "outputs": [
    {
     "name": "stdout",
     "output_type": "stream",
     "text": [
      "3\n",
      "4\n",
      "c\n"
     ]
    }
   ],
   "source": [
    "print(c[2])\n",
    "print(c[3])\n",
    "print(d[2][2])"
   ]
  },
  {
   "cell_type": "markdown",
   "metadata": {},
   "source": [
    "### - 슬라이싱"
   ]
  },
  {
   "cell_type": "code",
   "execution_count": 35,
   "metadata": {},
   "outputs": [
    {
     "name": "stdout",
     "output_type": "stream",
     "text": [
      "(('a', 'b', 'c'),)\n",
      "('a', 'b')\n"
     ]
    }
   ],
   "source": [
    "print(d[2:])\n",
    "print(d[2][0:2])"
   ]
  },
  {
   "cell_type": "markdown",
   "metadata": {},
   "source": [
    "### - 연산"
   ]
  },
  {
   "cell_type": "code",
   "execution_count": 37,
   "metadata": {},
   "outputs": [
    {
     "name": "stdout",
     "output_type": "stream",
     "text": [
      "(1, 2, 3, 4, 10, 100, ('a', 'b', 'c'))\n",
      "(1, 2, 3, 4, 1, 2, 3, 4, 1, 2, 3, 4)\n"
     ]
    }
   ],
   "source": [
    "print(c + d)\n",
    "print(c * 3)"
   ]
  },
  {
   "cell_type": "markdown",
   "metadata": {},
   "source": [
    "### - 튜플 관련 함수"
   ]
  },
  {
   "cell_type": "code",
   "execution_count": 41,
   "metadata": {},
   "outputs": [
    {
     "name": "stdout",
     "output_type": "stream",
     "text": [
      "(5, 2, 1, 3, 1)\n",
      "True\n",
      "0\n",
      "2\n"
     ]
    }
   ],
   "source": [
    "z = (5, 2, 1, 3, 1)\n",
    "print(z)\n",
    "print(3 in z)  # 튜플 안에 3이 있는가? \n",
    "print(z.index(5))  # 튜플 안의 값 5의 index를 반환 : 없으면 예외 발생 \n",
    "print(z.count(1))  # 튜플 안의 값 1이 몇개 있는가 "
   ]
  },
  {
   "cell_type": "markdown",
   "metadata": {},
   "source": [
    "## (3) 딕셔너리 (Dictionary)\n",
    "- 순서 X, 중복 X, 수정 O, 삭제 O \n",
    "- Key, Value 형식"
   ]
  },
  {
   "cell_type": "markdown",
   "metadata": {},
   "source": [
    "### - 선언"
   ]
  },
  {
   "cell_type": "code",
   "execution_count": 42,
   "metadata": {},
   "outputs": [],
   "source": [
    "a = {'name': 'Kim', 'Phone': \"010-7777-7777\", 'birth': 990101}\n",
    "b = {0: 'Hello Python', 1: 'Hello silver'}\n",
    "c = {'arr': [1, 2, 3, 4, 5]}"
   ]
  },
  {
   "cell_type": "code",
   "execution_count": 43,
   "metadata": {},
   "outputs": [
    {
     "name": "stdout",
     "output_type": "stream",
     "text": [
      "<class 'dict'> <class 'dict'> <class 'dict'>\n"
     ]
    }
   ],
   "source": [
    "print(type(a), type(b), type(c))"
   ]
  },
  {
   "cell_type": "markdown",
   "metadata": {},
   "source": [
    "### - 출력"
   ]
  },
  {
   "cell_type": "code",
   "execution_count": 45,
   "metadata": {},
   "outputs": [
    {
     "name": "stdout",
     "output_type": "stream",
     "text": [
      "Kim\n",
      "Kim\n",
      "None\n",
      "[2, 3]\n"
     ]
    }
   ],
   "source": [
    "print(a['name'])\n",
    "print(a.get('name'))\n",
    "print(a.get('adress')) # 안전한 코딩 방식 -> 값이 존재하지 않아도 에러 나지 않음\n",
    "print(c['arr'][1:3])"
   ]
  },
  {
   "cell_type": "markdown",
   "metadata": {},
   "source": [
    "### - 추가"
   ]
  },
  {
   "cell_type": "code",
   "execution_count": 46,
   "metadata": {},
   "outputs": [
    {
     "name": "stdout",
     "output_type": "stream",
     "text": [
      "{'name': 'Kim', 'Phone': '010-7777-7777', 'birth': 990101, 'adress': 'Seoul'}\n",
      "{'name': 'Kim', 'Phone': '010-7777-7777', 'birth': 990101, 'adress': 'Seoul', 'rank': [1, 3, 4], 'rank2': (1, 2, 3)}\n"
     ]
    }
   ],
   "source": [
    "a['adress'] = 'Seoul'\n",
    "print(a)\n",
    "a['rank'] = [1, 3, 4]\n",
    "a['rank2'] = (1, 2, 3)\n",
    "print(a)"
   ]
  },
  {
   "cell_type": "markdown",
   "metadata": {},
   "source": [
    "### - keys, values, items "
   ]
  },
  {
   "cell_type": "code",
   "execution_count": 48,
   "metadata": {},
   "outputs": [
    {
     "name": "stdout",
     "output_type": "stream",
     "text": [
      "['name', 'Phone', 'birth', 'adress', 'rank', 'rank2']\n",
      "['Phone', 'birth']\n"
     ]
    }
   ],
   "source": [
    "# print(a.keys()[0])  # 리스트 인덱스로 접근 불가 \n",
    "temp = list(a.keys())  # 형변환을 해주어야 함 \n",
    "print(temp)\n",
    "print(temp[1:3])"
   ]
  },
  {
   "cell_type": "code",
   "execution_count": 53,
   "metadata": {},
   "outputs": [
    {
     "name": "stdout",
     "output_type": "stream",
     "text": [
      "dict_values(['Kim', '010-7777-7777', 990101, 'Seoul', [1, 3, 4], (1, 2, 3)])\n",
      "['Kim', '010-7777-7777', 990101, 'Seoul', [1, 3, 4], (1, 2, 3)]\n",
      "-------------------------------------------------------------------------------\n",
      "dict_items([('name', 'Kim'), ('Phone', '010-7777-7777'), ('birth', 990101), ('adress', 'Seoul'), ('rank', [1, 3, 4]), ('rank2', (1, 2, 3))])\n",
      "[('name', 'Kim'), ('Phone', '010-7777-7777'), ('birth', 990101), ('adress', 'Seoul'), ('rank', [1, 3, 4]), ('rank2', (1, 2, 3))]\n"
     ]
    }
   ],
   "source": [
    "print(a.values())\n",
    "print(list(a.values()))\n",
    "print(\"-------------------------------------------------------------------------------\")\n",
    "print(a.items())\n",
    "print(list(a.items()))"
   ]
  },
  {
   "cell_type": "markdown",
   "metadata": {},
   "source": [
    "### - 키 존재 여부"
   ]
  },
  {
   "cell_type": "code",
   "execution_count": 54,
   "metadata": {},
   "outputs": [
    {
     "name": "stdout",
     "output_type": "stream",
     "text": [
      "True\n",
      "False\n",
      "True\n"
     ]
    }
   ],
   "source": [
    "print(1 in b)\n",
    "print(2 in b)\n",
    "print('name' in a )"
   ]
  },
  {
   "cell_type": "markdown",
   "metadata": {},
   "source": [
    "## (3) 집합 (Set)\n",
    "- 순서 X, 중복 X "
   ]
  },
  {
   "cell_type": "markdown",
   "metadata": {},
   "source": [
    "### - 선언"
   ]
  },
  {
   "cell_type": "code",
   "execution_count": 58,
   "metadata": {},
   "outputs": [
    {
     "name": "stdout",
     "output_type": "stream",
     "text": [
      "<class 'dict'>  |  <class 'set'>\n",
      "{1, 2, 3, 4}\n",
      "{1, 4, 6}\n"
     ]
    }
   ],
   "source": [
    "a1 = {} # ----> 주의: dictionary \n",
    "a2 = set()\n",
    "b = set([1, 2, 3, 4])\n",
    "c = set([1, 4, 6, 6, 6])\n",
    "print(type(a1), type(a2), sep='  |  ')\n",
    "print(b)\n",
    "print(c)"
   ]
  },
  {
   "cell_type": "markdown",
   "metadata": {},
   "source": [
    "### - 형변환\n",
    "- set 자료형은 주로 형변환 하여 사용한다. (중복 값 제거 용도) "
   ]
  },
  {
   "cell_type": "code",
   "execution_count": 60,
   "metadata": {},
   "outputs": [
    {
     "name": "stdout",
     "output_type": "stream",
     "text": [
      "(1, 2, 3, 4)\n",
      "[1, 2, 3, 4]\n"
     ]
    }
   ],
   "source": [
    "t = tuple(b)\n",
    "print(t)\n",
    "l = list(b)\n",
    "print(l)"
   ]
  },
  {
   "cell_type": "markdown",
   "metadata": {},
   "source": [
    "### - 집합연산"
   ]
  },
  {
   "cell_type": "code",
   "execution_count": 61,
   "metadata": {},
   "outputs": [],
   "source": [
    "s1 = set([1, 2, 3, 4, 5, 6])\n",
    "s2 = set([4, 5, 6, 7, 8, 9])"
   ]
  },
  {
   "cell_type": "markdown",
   "metadata": {},
   "source": [
    "- **교집합: intersection / &**"
   ]
  },
  {
   "cell_type": "code",
   "execution_count": 62,
   "metadata": {},
   "outputs": [
    {
     "name": "stdout",
     "output_type": "stream",
     "text": [
      "{4, 5, 6}\n",
      "{4, 5, 6}\n"
     ]
    }
   ],
   "source": [
    "print(s1.intersection(s2))\n",
    "print(s1 & s2)"
   ]
  },
  {
   "cell_type": "markdown",
   "metadata": {},
   "source": [
    "- **합집합: union / |**"
   ]
  },
  {
   "cell_type": "code",
   "execution_count": 63,
   "metadata": {},
   "outputs": [
    {
     "name": "stdout",
     "output_type": "stream",
     "text": [
      "{1, 2, 3, 4, 5, 6, 7, 8, 9}\n",
      "{1, 2, 3, 4, 5, 6, 7, 8, 9}\n"
     ]
    }
   ],
   "source": [
    "print(s1.union(s2))\n",
    "print(s1 | s2)"
   ]
  },
  {
   "cell_type": "markdown",
   "metadata": {},
   "source": [
    "- **차집합: difference / -**"
   ]
  },
  {
   "cell_type": "code",
   "execution_count": 64,
   "metadata": {},
   "outputs": [
    {
     "name": "stdout",
     "output_type": "stream",
     "text": [
      "{1, 2, 3}\n",
      "{1, 2, 3}\n"
     ]
    }
   ],
   "source": [
    "print(s1.difference(s2))\n",
    "print(s1 - s2)"
   ]
  },
  {
   "cell_type": "markdown",
   "metadata": {},
   "source": [
    "- **추가 & 제거**"
   ]
  },
  {
   "cell_type": "code",
   "execution_count": 65,
   "metadata": {},
   "outputs": [
    {
     "name": "stdout",
     "output_type": "stream",
     "text": [
      "{7, 8, 10, 15, 18}\n"
     ]
    }
   ],
   "source": [
    "### 추가: add()\n",
    "s3 = set([7, 8, 10, 15])\n",
    "s3.add(18)\n",
    "s3.add(7)\n",
    "print(s3)"
   ]
  },
  {
   "cell_type": "code",
   "execution_count": 66,
   "metadata": {},
   "outputs": [
    {
     "name": "stdout",
     "output_type": "stream",
     "text": [
      "{7, 8, 10, 18}\n"
     ]
    }
   ],
   "source": [
    "### 제거: remove()\n",
    "s3.remove(15)\n",
    "print(s3)"
   ]
  }
 ],
 "metadata": {
  "kernelspec": {
   "display_name": "Python 3",
   "language": "python",
   "name": "python3"
  },
  "language_info": {
   "codemirror_mode": {
    "name": "ipython",
    "version": 3
   },
   "file_extension": ".py",
   "mimetype": "text/x-python",
   "name": "python",
   "nbconvert_exporter": "python",
   "pygments_lexer": "ipython3",
   "version": "3.7.3"
  }
 },
 "nbformat": 4,
 "nbformat_minor": 4
}
