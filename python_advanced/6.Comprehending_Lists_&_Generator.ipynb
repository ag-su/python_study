{
 "cells": [
  {
   "cell_type": "markdown",
   "metadata": {},
   "source": [
    "## 6. 자료형 (지능형 리스트, 제너레이터, 가변불변, 정렬)"
   ]
  },
  {
   "cell_type": "markdown",
   "metadata": {},
   "source": [
    "- **컨테이너(Container):** 서로 다른 자료형 포함 가능 \n",
    "    - __list, tuple, collections.deque__ (ex) list: [1, 3, 0, 'hi']\n",
    "- **Flat:** 한개의 자료형만을 포함 \n",
    "    - __str, bytes, bytearray, array.array, memoryview__ \n",
    "\n",
    "---------------------------------------------------------------------------------------------------------\n",
    "\n",
    "- **가변**\n",
    "    - __list, bytearray, array.array, memoryview, deque__ \n",
    "- **불변** \n",
    "    - __tuple, str, bytes__"
   ]
  },
  {
   "cell_type": "markdown",
   "metadata": {},
   "source": [
    "## - 지능형 리스트 (Comprehending Lists)"
   ]
  },
  {
   "cell_type": "markdown",
   "metadata": {},
   "source": [
    "- None comprehending Lists"
   ]
  },
  {
   "cell_type": "code",
   "execution_count": 2,
   "metadata": {},
   "outputs": [
    {
     "data": {
      "text/plain": [
       "[33, 64, 35, 36, 37, 94, 38, 42, 40, 41, 95, 43]"
      ]
     },
     "execution_count": 2,
     "metadata": {},
     "output_type": "execute_result"
    }
   ],
   "source": [
    "chars = \"!@#$%^&*()_+\"\n",
    "codes1 = []\n",
    "\n",
    "for s in chars:\n",
    "    # 유니코드 변환 \n",
    "    codes1.append(ord(s))\n",
    "codes1"
   ]
  },
  {
   "cell_type": "markdown",
   "metadata": {},
   "source": [
    "- Comprehending Lists <br>\n",
    ": 대단한 영향을 끼치는 것은 아니지만, 빅데이터 분야와 같은 데이터가 현저하게 많은 상황에서는 이 방법을 쓰는 것이 성능, 속도 면에서 더 유리하다. "
   ]
  },
  {
   "cell_type": "code",
   "execution_count": 4,
   "metadata": {},
   "outputs": [
    {
     "data": {
      "text/plain": [
       "[33, 64, 35, 36, 37, 94, 38, 42, 40, 41, 95, 43]"
      ]
     },
     "execution_count": 4,
     "metadata": {},
     "output_type": "execute_result"
    }
   ],
   "source": [
    "codes2 = [ord(s) for s in chars]\n",
    "codes2"
   ]
  },
  {
   "cell_type": "markdown",
   "metadata": {},
   "source": [
    "- Comprehending List + Map Filter <br> \n",
    ": 이 방법 역시 속도가 약간 우세함."
   ]
  },
  {
   "cell_type": "code",
   "execution_count": 6,
   "metadata": {},
   "outputs": [
    {
     "name": "stdout",
     "output_type": "stream",
     "text": [
      "[64, 94, 42, 41, 95, 43]\n",
      "[64, 94, 42, 41, 95, 43]\n"
     ]
    }
   ],
   "source": [
    "codes3 = [ord(s) for s in chars if ord(s) > 40]\n",
    "codes4 = list(filter(lambda x: x > 40, map(ord, chars)))\n",
    "print(codes3, codes4, sep='\\n')"
   ]
  },
  {
   "cell_type": "markdown",
   "metadata": {},
   "source": [
    "- ord() 반대 chr()"
   ]
  },
  {
   "cell_type": "code",
   "execution_count": 7,
   "metadata": {},
   "outputs": [
    {
     "name": "stdout",
     "output_type": "stream",
     "text": [
      "['!', '@', '#', '$', '%', '^', '&', '*', '(', ')', '_', '+']\n",
      "['!', '@', '#', '$', '%', '^', '&', '*', '(', ')', '_', '+']\n",
      "['@', '^', '*', ')', '_', '+']\n",
      "['@', '^', '*', ')', '_', '+']\n"
     ]
    }
   ],
   "source": [
    "print([chr(s) for s in codes1])\n",
    "print([chr(s) for s in codes2])\n",
    "print([chr(s) for s in codes3])\n",
    "print([chr(s) for s in codes4])"
   ]
  },
  {
   "cell_type": "markdown",
   "metadata": {},
   "source": [
    "- **cf)** 리스트 주의할 점"
   ]
  },
  {
   "cell_type": "code",
   "execution_count": 9,
   "metadata": {},
   "outputs": [
    {
     "name": "stdout",
     "output_type": "stream",
     "text": [
      "[['~', '~', '~'], ['~', '~', '~'], ['~', '~', '~']]\n",
      "[['~', '~', '~'], ['~', '~', '~'], ['~', '~', '~']]\n"
     ]
    }
   ],
   "source": [
    "marks1 = [['~'] * 3 for n in range(3)]\n",
    "marks2 = [['~'] * 3] * 3\n",
    "\n",
    "print(marks1)\n",
    "print(marks2)"
   ]
  },
  {
   "cell_type": "code",
   "execution_count": 10,
   "metadata": {},
   "outputs": [
    {
     "name": "stdout",
     "output_type": "stream",
     "text": [
      "[['~', 'x', '~'], ['~', '~', '~'], ['~', '~', '~']]\n",
      "[['~', 'x', '~'], ['~', 'x', '~'], ['~', 'x', '~']]\n"
     ]
    }
   ],
   "source": [
    "# 값을 하나 변경 \n",
    "marks1[0][1] = 'x'\n",
    "marks2[0][1] = 'x'\n",
    "\n",
    "print(marks1)\n",
    "print(marks2)"
   ]
  },
  {
   "cell_type": "code",
   "execution_count": 11,
   "metadata": {},
   "outputs": [
    {
     "name": "stdout",
     "output_type": "stream",
     "text": [
      "[2006881629128, 2006882137736, 2006882115528]\n",
      "[2006881879432, 2006881879432, 2006881879432]\n"
     ]
    }
   ],
   "source": [
    "#### 증명 \n",
    "print([id(i) for i in marks1])  # id 값이 모두 다름. \n",
    "print([id(i) for i in marks2])  # id 값이 모두 같음. "
   ]
  },
  {
   "cell_type": "markdown",
   "metadata": {},
   "source": [
    "## - 제너레이터, Generator & Array"
   ]
  },
  {
   "cell_type": "markdown",
   "metadata": {},
   "source": [
    "### (1) 제너레이터\n",
    "- 제너레이터는 한 번에 한 개의 항목을 생성하므로 메모리를 유지하지 않는다. 메모리를 차지하지 않기 때문에 빅데이터를 사용할 때는 Generator가 훨씬 우세하다. "
   ]
  },
  {
   "cell_type": "code",
   "execution_count": 17,
   "metadata": {},
   "outputs": [],
   "source": [
    "tuple_g = (ord(s) for s in chars)  # 아직 메모리를 생성한 상태가 아님. "
   ]
  },
  {
   "cell_type": "markdown",
   "metadata": {},
   "source": [
    "### (2) Array\n",
    "- **참고)** https://docs.python.org/3/library/array.html"
   ]
  },
  {
   "cell_type": "code",
   "execution_count": 18,
   "metadata": {},
   "outputs": [],
   "source": [
    "import array \n",
    "array_g = array.array('I', (ord(s) for s in chars))"
   ]
  },
  {
   "cell_type": "markdown",
   "metadata": {},
   "source": [
    "- 출력, 사용"
   ]
  },
  {
   "cell_type": "code",
   "execution_count": 20,
   "metadata": {},
   "outputs": [
    {
     "name": "stdout",
     "output_type": "stream",
     "text": [
      "<generator object <genexpr> at 0x000001D3438AC048>\n",
      "33\n",
      "64\n",
      "array('I', [33, 64, 35, 36, 37, 94, 38, 42, 40, 41, 95, 43])\n",
      "[33, 64, 35, 36, 37, 94, 38, 42, 40, 41, 95, 43]\n"
     ]
    }
   ],
   "source": [
    "print(tuple_g)\n",
    "print(next(tuple_g))\n",
    "print(next(tuple_g))\n",
    "print(array_g)\n",
    "print(array_g.tolist())"
   ]
  },
  {
   "cell_type": "markdown",
   "metadata": {},
   "source": [
    "- 제너레이터 for문으로 사용하기"
   ]
  },
  {
   "cell_type": "code",
   "execution_count": 21,
   "metadata": {},
   "outputs": [
    {
     "name": "stdout",
     "output_type": "stream",
     "text": [
      "<generator object <genexpr> at 0x000001D3438AC2A0>\n",
      "a1\n",
      "a2\n",
      "a3\n",
      "a4\n",
      "a5\n",
      "a6\n",
      "a7\n",
      "a8\n",
      "a9\n",
      "a10\n",
      "b1\n",
      "b2\n",
      "b3\n",
      "b4\n",
      "b5\n",
      "b6\n",
      "b7\n",
      "b8\n",
      "b9\n",
      "b10\n",
      "c1\n",
      "c2\n",
      "c3\n",
      "c4\n",
      "c5\n",
      "c6\n",
      "c7\n",
      "c8\n",
      "c9\n",
      "c10\n",
      "d1\n",
      "d2\n",
      "d3\n",
      "d4\n",
      "d5\n",
      "d6\n",
      "d7\n",
      "d8\n",
      "d9\n",
      "d10\n"
     ]
    }
   ],
   "source": [
    "print(('%s' %c + str(n) for c in ['A', 'B', 'C', 'D'] for n in range(1, 11)))\n",
    "for s in ('%s' %c + str(n) for c in list('abcd') for n in range(1, 11)): \n",
    "    print(s)"
   ]
  },
  {
   "cell_type": "markdown",
   "metadata": {},
   "source": [
    "## - Tupl Advanced"
   ]
  },
  {
   "cell_type": "markdown",
   "metadata": {},
   "source": [
    "- packing & unpacking"
   ]
  },
  {
   "cell_type": "code",
   "execution_count": 22,
   "metadata": {},
   "outputs": [
    {
     "name": "stdout",
     "output_type": "stream",
     "text": [
      "(11, 1)\n",
      "(11, 1)\n",
      "11 1\n"
     ]
    }
   ],
   "source": [
    "print(divmod(100, 9))\n",
    "print(divmod(*(100, 9)))\n",
    "print(*(divmod(100, 9)))"
   ]
  },
  {
   "cell_type": "code",
   "execution_count": 24,
   "metadata": {},
   "outputs": [
    {
     "name": "stdout",
     "output_type": "stream",
     "text": [
      "0 1 [2, 3, 4, 5, 6, 7, 8, 9]\n",
      "0 1 []\n",
      "1 2 [3, 4, 5]\n"
     ]
    }
   ],
   "source": [
    "x, y, *rest = range(10)\n",
    "print(x, y, rest)\n",
    "x, y, *rest = range(2)\n",
    "print(x, y, rest)\n",
    "x, y, *rest = 1, 2, 3, 4, 5\n",
    "print(x, y, rest)"
   ]
  },
  {
   "cell_type": "markdown",
   "metadata": {},
   "source": [
    "- __참고)__ **: dictionary를 받음 \n",
    "    - (ex) def test(*args, **args):"
   ]
  },
  {
   "cell_type": "markdown",
   "metadata": {},
   "source": [
    "## - Mutable (가변) vs Immutable (불변)"
   ]
  },
  {
   "cell_type": "code",
   "execution_count": 26,
   "metadata": {},
   "outputs": [
    {
     "name": "stdout",
     "output_type": "stream",
     "text": [
      "(10, 15, 20)\n",
      "[10, 15, 20]\n",
      "2006881867960\n",
      "2006882029384\n"
     ]
    }
   ],
   "source": [
    "i = (10, 15, 20)\n",
    "m = [10, 15, 20]\n",
    "\n",
    "print(i, m, id(i), id(m), sep='\\n')"
   ]
  },
  {
   "cell_type": "markdown",
   "metadata": {},
   "source": [
    "- 객체를 새로 생성 <br> \n",
    ": 메모리를 더 잡아먹을 수도 있다는 것 "
   ]
  },
  {
   "cell_type": "code",
   "execution_count": 28,
   "metadata": {},
   "outputs": [
    {
     "name": "stdout",
     "output_type": "stream",
     "text": [
      "(10, 15, 20, 10, 15, 20, 10, 15, 20, 10, 15, 20)\n",
      "[10, 15, 20, 10, 15, 20, 10, 15, 20, 10, 15, 20]\n",
      "2006881808888\n",
      "2006881199624\n"
     ]
    }
   ],
   "source": [
    "i = i * 2\n",
    "m = m * 2 \n",
    "print(i, m, id(i), id(m), sep='\\n')"
   ]
  },
  {
   "cell_type": "markdown",
   "metadata": {},
   "source": [
    "- 자체에서 연산 <br> \n",
    ": 튜플은 불변이기 때문에 이 방법에서도 객체를 새로 생성한다. "
   ]
  },
  {
   "cell_type": "code",
   "execution_count": 29,
   "metadata": {},
   "outputs": [
    {
     "name": "stdout",
     "output_type": "stream",
     "text": [
      "(10, 15, 20, 10, 15, 20, 10, 15, 20, 10, 15, 20, 10, 15, 20, 10, 15, 20, 10, 15, 20, 10, 15, 20)\n",
      "[10, 15, 20, 10, 15, 20, 10, 15, 20, 10, 15, 20, 10, 15, 20, 10, 15, 20, 10, 15, 20, 10, 15, 20]\n",
      "2006880184744\n",
      "2006881199624\n"
     ]
    }
   ],
   "source": [
    "i *= 2 \n",
    "m *= 2 \n",
    "\n",
    "print(i, m, id(i), id(m), sep='\\n')"
   ]
  },
  {
   "cell_type": "markdown",
   "metadata": {},
   "source": [
    "## - sort vs sorted"
   ]
  },
  {
   "cell_type": "code",
   "execution_count": 30,
   "metadata": {},
   "outputs": [],
   "source": [
    "f_list = ['orange', 'apple', 'mango', 'papaya', 'lemon', 'strawberry', 'coconut']"
   ]
  },
  {
   "cell_type": "markdown",
   "metadata": {},
   "source": [
    "- **(1) sorted:** 정렬 후 __새로운__ 객체 반환 -> __원본 리스트 변화 X__ "
   ]
  },
  {
   "cell_type": "code",
   "execution_count": 35,
   "metadata": {},
   "outputs": [
    {
     "name": "stdout",
     "output_type": "stream",
     "text": [
      "['apple', 'coconut', 'lemon', 'mango', 'orange', 'papaya', 'strawberry']\n",
      "['strawberry', 'papaya', 'orange', 'mango', 'lemon', 'coconut', 'apple']\n",
      "['apple', 'mango', 'lemon', 'orange', 'papaya', 'coconut', 'strawberry']\n",
      "['papaya', 'orange', 'apple', 'lemon', 'mango', 'coconut', 'strawberry']\n",
      "['strawberry', 'coconut', 'mango', 'lemon', 'orange', 'apple', 'papaya']\n",
      "--------------------------------------------------------------------------\n",
      "['orange', 'apple', 'mango', 'papaya', 'lemon', 'strawberry', 'coconut']\n"
     ]
    }
   ],
   "source": [
    "print(sorted(f_list))\n",
    "print(sorted(f_list, reverse=True)) # 역순으로 정렬 \n",
    "print(sorted(f_list, key=len)) # 길이 순서대로 정렬 \n",
    "print(sorted(f_list, key=lambda x: x[-1]))\n",
    "print(sorted(f_list, key=lambda x: x[-1], reverse=True))\n",
    "print('--------------------------------------------------------------------------')\n",
    "print(f_list)"
   ]
  },
  {
   "cell_type": "markdown",
   "metadata": {},
   "source": [
    "- __(2) sort:__ 정렬 후 객체 직접 변경 -> __원본 리스트 변화 O__\n",
    "- None: 반환값이 없다는 뜻"
   ]
  },
  {
   "cell_type": "code",
   "execution_count": 38,
   "metadata": {},
   "outputs": [
    {
     "name": "stdout",
     "output_type": "stream",
     "text": [
      "None ['apple', 'coconut', 'lemon', 'mango', 'orange', 'papaya', 'strawberry']\n",
      "None ['strawberry', 'papaya', 'orange', 'mango', 'lemon', 'coconut', 'apple']\n",
      "None ['mango', 'lemon', 'apple', 'papaya', 'orange', 'coconut', 'strawberry']\n",
      "None ['papaya', 'apple', 'orange', 'lemon', 'mango', 'coconut', 'strawberry']\n",
      "None ['strawberry', 'coconut', 'mango', 'lemon', 'apple', 'orange', 'papaya']\n",
      "--------------------------------------------------------------------------\n",
      "['strawberry', 'coconut', 'mango', 'lemon', 'apple', 'orange', 'papaya']\n"
     ]
    }
   ],
   "source": [
    "print(f_list.sort(), f_list)\n",
    "print(f_list.sort(reverse=True), f_list)\n",
    "print(f_list.sort(key=len), f_list)\n",
    "print(f_list.sort(key=lambda x: x[-1]), f_list)\n",
    "print(f_list.sort(key=lambda x: x[-1], reverse=True), f_list)\n",
    "print('--------------------------------------------------------------------------')\n",
    "print(f_list)"
   ]
  }
 ],
 "metadata": {
  "kernelspec": {
   "display_name": "Python 3",
   "language": "python",
   "name": "python3"
  },
  "language_info": {
   "codemirror_mode": {
    "name": "ipython",
    "version": 3
   },
   "file_extension": ".py",
   "mimetype": "text/x-python",
   "name": "python",
   "nbconvert_exporter": "python",
   "pygments_lexer": "ipython3",
   "version": "3.7.3"
  }
 },
 "nbformat": 4,
 "nbformat_minor": 4
}
