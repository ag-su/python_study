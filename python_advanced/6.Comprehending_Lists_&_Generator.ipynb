{
 "cells": [
  {
   "cell_type": "markdown",
   "metadata": {},
   "source": [
    "## 6. 자료형 (지능형 리스트, 제너레이터, 가변불변, 정렬)"
   ]
  },
  {
   "cell_type": "markdown",
   "metadata": {},
   "source": [
    "- **컨테이너(Container):** 서로 다른 자료형 포함 가능 \n",
    "    - __list, tuple, collections.deque__ (ex) list: [1, 3, 0, 'hi']\n",
    "- **Flat:** 한개의 자료형만을 포함 \n",
    "    - __str, bytes, bytearray, array.array, memoryview__ \n",
    "\n",
    "---------------------------------------------------------------------------------------------------------\n",
    "\n",
    "- **가변**\n",
    "    - __list, bytearray, array.array, memoryview, deque__ \n",
    "- **불변** \n",
    "    - __tuple, str, bytes__"
   ]
  },
  {
   "cell_type": "markdown",
   "metadata": {},
   "source": [
    "## - 지능형 리스트 (Comprehending Lists)"
   ]
  },
  {
   "cell_type": "markdown",
   "metadata": {},
   "source": [
    "- None comprehending Lists"
   ]
  },
  {
   "cell_type": "code",
   "execution_count": 2,
   "metadata": {},
   "outputs": [
    {
     "data": {
      "text/plain": [
       "[33, 64, 35, 36, 37, 94, 38, 42, 40, 41, 95, 43]"
      ]
     },
     "execution_count": 2,
     "metadata": {},
     "output_type": "execute_result"
    }
   ],
   "source": [
    "chars = \"!@#$%^&*()_+\"\n",
    "codes1 = []\n",
    "\n",
    "for s in chars:\n",
    "    # 유니코드 변환 \n",
    "    codes1.append(ord(s))\n",
    "codes1"
   ]
  },
  {
   "cell_type": "markdown",
   "metadata": {},
   "source": [
    "- Comprehending Lists <br>\n",
    ": 대단한 영향을 끼치는 것은 아니지만, 빅데이터 분야와 같은 데이터가 현저하게 많은 상황에서는 이 방법을 쓰는 것이 성능, 속도 면에서 더 유리하다. "
   ]
  },
  {
   "cell_type": "code",
   "execution_count": 4,
   "metadata": {},
   "outputs": [
    {
     "data": {
      "text/plain": [
       "[33, 64, 35, 36, 37, 94, 38, 42, 40, 41, 95, 43]"
      ]
     },
     "execution_count": 4,
     "metadata": {},
     "output_type": "execute_result"
    }
   ],
   "source": [
    "codes2 = [ord(s) for s in chars]\n",
    "codes2"
   ]
  },
  {
   "cell_type": "markdown",
   "metadata": {},
   "source": [
    "- Comprehending List + Map Filter <br> \n",
    ": 이 방법 역시 속도가 약간 우세함."
   ]
  },
  {
   "cell_type": "code",
   "execution_count": 6,
   "metadata": {},
   "outputs": [
    {
     "name": "stdout",
     "output_type": "stream",
     "text": [
      "[64, 94, 42, 41, 95, 43]\n",
      "[64, 94, 42, 41, 95, 43]\n"
     ]
    }
   ],
   "source": [
    "codes3 = [ord(s) for s in chars if ord(s) > 40]\n",
    "codes4 = list(filter(lambda x: x > 40, map(ord, chars)))\n",
    "print(codes3, codes4, sep='\\n')"
   ]
  },
  {
   "cell_type": "markdown",
   "metadata": {},
   "source": [
    "- ord() 반대 chr()"
   ]
  },
  {
   "cell_type": "code",
   "execution_count": 7,
   "metadata": {},
   "outputs": [
    {
     "name": "stdout",
     "output_type": "stream",
     "text": [
      "['!', '@', '#', '$', '%', '^', '&', '*', '(', ')', '_', '+']\n",
      "['!', '@', '#', '$', '%', '^', '&', '*', '(', ')', '_', '+']\n",
      "['@', '^', '*', ')', '_', '+']\n",
      "['@', '^', '*', ')', '_', '+']\n"
     ]
    }
   ],
   "source": [
    "print([chr(s) for s in codes1])\n",
    "print([chr(s) for s in codes2])\n",
    "print([chr(s) for s in codes3])\n",
    "print([chr(s) for s in codes4])"
   ]
  },
  {
   "cell_type": "markdown",
   "metadata": {},
   "source": [
    "- **cf)** 리스트 주의할 점"
   ]
  },
  {
   "cell_type": "code",
   "execution_count": 9,
   "metadata": {},
   "outputs": [
    {
     "name": "stdout",
     "output_type": "stream",
     "text": [
      "[['~', '~', '~'], ['~', '~', '~'], ['~', '~', '~']]\n",
      "[['~', '~', '~'], ['~', '~', '~'], ['~', '~', '~']]\n"
     ]
    }
   ],
   "source": [
    "marks1 = [['~'] * 3 for n in range(3)]\n",
    "marks2 = [['~'] * 3] * 3\n",
    "\n",
    "print(marks1)\n",
    "print(marks2)"
   ]
  },
  {
   "cell_type": "code",
   "execution_count": 10,
   "metadata": {},
   "outputs": [
    {
     "name": "stdout",
     "output_type": "stream",
     "text": [
      "[['~', 'x', '~'], ['~', '~', '~'], ['~', '~', '~']]\n",
      "[['~', 'x', '~'], ['~', 'x', '~'], ['~', 'x', '~']]\n"
     ]
    }
   ],
   "source": [
    "# 값을 하나 변경 \n",
    "marks1[0][1] = 'x'\n",
    "marks2[0][1] = 'x'\n",
    "\n",
    "print(marks1)\n",
    "print(marks2)"
   ]
  },
  {
   "cell_type": "code",
   "execution_count": 11,
   "metadata": {},
   "outputs": [
    {
     "name": "stdout",
     "output_type": "stream",
     "text": [
      "[2006881629128, 2006882137736, 2006882115528]\n",
      "[2006881879432, 2006881879432, 2006881879432]\n"
     ]
    }
   ],
   "source": [
    "#### 증명 \n",
    "print([id(i) for i in marks1])  # id 값이 모두 다름. \n",
    "print([id(i) for i in marks2])  # id 값이 모두 같음. "
   ]
  },
  {
   "cell_type": "markdown",
   "metadata": {},
   "source": [
    "- 제너레이터, Generator & Array"
   ]
  },
  {
   "cell_type": "code",
   "execution_count": null,
   "metadata": {},
   "outputs": [],
   "source": []
  },
  {
   "cell_type": "code",
   "execution_count": null,
   "metadata": {},
   "outputs": [],
   "source": []
  },
  {
   "cell_type": "code",
   "execution_count": null,
   "metadata": {},
   "outputs": [],
   "source": []
  },
  {
   "cell_type": "code",
   "execution_count": null,
   "metadata": {},
   "outputs": [],
   "source": []
  },
  {
   "cell_type": "code",
   "execution_count": null,
   "metadata": {},
   "outputs": [],
   "source": []
  },
  {
   "cell_type": "code",
   "execution_count": null,
   "metadata": {},
   "outputs": [],
   "source": []
  },
  {
   "cell_type": "code",
   "execution_count": null,
   "metadata": {},
   "outputs": [],
   "source": []
  },
  {
   "cell_type": "code",
   "execution_count": null,
   "metadata": {},
   "outputs": [],
   "source": []
  },
  {
   "cell_type": "code",
   "execution_count": null,
   "metadata": {},
   "outputs": [],
   "source": []
  },
  {
   "cell_type": "code",
   "execution_count": null,
   "metadata": {},
   "outputs": [],
   "source": []
  },
  {
   "cell_type": "code",
   "execution_count": null,
   "metadata": {},
   "outputs": [],
   "source": []
  },
  {
   "cell_type": "code",
   "execution_count": null,
   "metadata": {},
   "outputs": [],
   "source": []
  },
  {
   "cell_type": "code",
   "execution_count": null,
   "metadata": {},
   "outputs": [],
   "source": []
  }
 ],
 "metadata": {
  "kernelspec": {
   "display_name": "Python 3",
   "language": "python",
   "name": "python3"
  },
  "language_info": {
   "codemirror_mode": {
    "name": "ipython",
    "version": 3
   },
   "file_extension": ".py",
   "mimetype": "text/x-python",
   "name": "python",
   "nbconvert_exporter": "python",
   "pygments_lexer": "ipython3",
   "version": "3.7.3"
  }
 },
 "nbformat": 4,
 "nbformat_minor": 4
}
