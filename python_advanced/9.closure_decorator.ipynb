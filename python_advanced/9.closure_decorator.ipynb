{
 "cells": [
  {
   "cell_type": "markdown",
   "metadata": {},
   "source": [
    "# 9. 변수 범위, Closure, Decorator"
   ]
  },
  {
   "cell_type": "markdown",
   "metadata": {},
   "source": [
    "## (1) 전역변수 vs 지역변수\n",
    "- **참고)** https://wikidocs.net/62"
   ]
  },
  {
   "cell_type": "markdown",
   "metadata": {},
   "source": [
    "- 예제 1"
   ]
  },
  {
   "cell_type": "code",
   "execution_count": 1,
   "metadata": {},
   "outputs": [
    {
     "name": "stdout",
     "output_type": "stream",
     "text": [
      "5\n"
     ]
    },
    {
     "ename": "NameError",
     "evalue": "name 'b' is not defined",
     "output_type": "error",
     "traceback": [
      "\u001b[1;31m---------------------------------------------------------------------------\u001b[0m",
      "\u001b[1;31mNameError\u001b[0m                                 Traceback (most recent call last)",
      "\u001b[1;32m<ipython-input-1-ff1fcf214e6d>\u001b[0m in \u001b[0;36m<module>\u001b[1;34m\u001b[0m\n\u001b[0;32m      3\u001b[0m     \u001b[0mprint\u001b[0m\u001b[1;33m(\u001b[0m\u001b[0mb\u001b[0m\u001b[1;33m)\u001b[0m\u001b[1;33m\u001b[0m\u001b[1;33m\u001b[0m\u001b[0m\n\u001b[0;32m      4\u001b[0m \u001b[1;33m\u001b[0m\u001b[0m\n\u001b[1;32m----> 5\u001b[1;33m \u001b[0mfunc_v1\u001b[0m\u001b[1;33m(\u001b[0m\u001b[1;36m5\u001b[0m\u001b[1;33m)\u001b[0m  \u001b[1;31m# Error\u001b[0m\u001b[1;33m\u001b[0m\u001b[1;33m\u001b[0m\u001b[0m\n\u001b[0m",
      "\u001b[1;32m<ipython-input-1-ff1fcf214e6d>\u001b[0m in \u001b[0;36mfunc_v1\u001b[1;34m(a)\u001b[0m\n\u001b[0;32m      1\u001b[0m \u001b[1;32mdef\u001b[0m \u001b[0mfunc_v1\u001b[0m\u001b[1;33m(\u001b[0m\u001b[0ma\u001b[0m\u001b[1;33m)\u001b[0m\u001b[1;33m:\u001b[0m\u001b[1;33m\u001b[0m\u001b[1;33m\u001b[0m\u001b[0m\n\u001b[0;32m      2\u001b[0m     \u001b[0mprint\u001b[0m\u001b[1;33m(\u001b[0m\u001b[0ma\u001b[0m\u001b[1;33m)\u001b[0m\u001b[1;33m\u001b[0m\u001b[1;33m\u001b[0m\u001b[0m\n\u001b[1;32m----> 3\u001b[1;33m     \u001b[0mprint\u001b[0m\u001b[1;33m(\u001b[0m\u001b[0mb\u001b[0m\u001b[1;33m)\u001b[0m\u001b[1;33m\u001b[0m\u001b[1;33m\u001b[0m\u001b[0m\n\u001b[0m\u001b[0;32m      4\u001b[0m \u001b[1;33m\u001b[0m\u001b[0m\n\u001b[0;32m      5\u001b[0m \u001b[0mfunc_v1\u001b[0m\u001b[1;33m(\u001b[0m\u001b[1;36m5\u001b[0m\u001b[1;33m)\u001b[0m  \u001b[1;31m# Error\u001b[0m\u001b[1;33m\u001b[0m\u001b[1;33m\u001b[0m\u001b[0m\n",
      "\u001b[1;31mNameError\u001b[0m: name 'b' is not defined"
     ]
    }
   ],
   "source": [
    "def func_v1(a): \n",
    "    print(a)\n",
    "    print(b)\n",
    "    \n",
    "func_v1(5)  # Error: b가 정의되어있지 않은데 b를 출력하라고 명령헀기 때문"
   ]
  },
  {
   "cell_type": "markdown",
   "metadata": {},
   "source": [
    "- 예제 2"
   ]
  },
  {
   "cell_type": "code",
   "execution_count": 2,
   "metadata": {},
   "outputs": [
    {
     "name": "stdout",
     "output_type": "stream",
     "text": [
      "5\n",
      "10\n"
     ]
    }
   ],
   "source": [
    "b = 10  # ---> *** 전역변수 ***\n",
    "\n",
    "def func_v2(a): \n",
    "    print(a)\n",
    "    print(b)\n",
    "\n",
    "func_v2(5)"
   ]
  },
  {
   "cell_type": "markdown",
   "metadata": {},
   "source": [
    "- 예제 3 <br> \n",
    " **UnboundLocalError:** 할당되기 전에 지역변수 'b'가 참조되었다.<br> \n",
    "함수 내에 b가 있는 것은 체크가 되었는데, b에 값을 할당하기 전에 b를 출력했기 때문에 에러가 난다. 같은 이름의 전역변수와 지역변수가 있으면 **함수 내에서는 지역변수가 우선**이며, 런타임의 인터프리터가 함수 내에 b가 있는 것을 체크했지만, 할당은 위에서부터 아래로 이루어지기 때문이다. "
   ]
  },
  {
   "cell_type": "code",
   "execution_count": 3,
   "metadata": {},
   "outputs": [
    {
     "name": "stdout",
     "output_type": "stream",
     "text": [
      "5\n"
     ]
    },
    {
     "ename": "UnboundLocalError",
     "evalue": "local variable 'b' referenced before assignment",
     "output_type": "error",
     "traceback": [
      "\u001b[1;31m---------------------------------------------------------------------------\u001b[0m",
      "\u001b[1;31mUnboundLocalError\u001b[0m                         Traceback (most recent call last)",
      "\u001b[1;32m<ipython-input-3-267c1e84f46b>\u001b[0m in \u001b[0;36m<module>\u001b[1;34m\u001b[0m\n\u001b[0;32m      6\u001b[0m     \u001b[0mb\u001b[0m \u001b[1;33m=\u001b[0m \u001b[1;36m5\u001b[0m\u001b[1;33m\u001b[0m\u001b[1;33m\u001b[0m\u001b[0m\n\u001b[0;32m      7\u001b[0m \u001b[1;33m\u001b[0m\u001b[0m\n\u001b[1;32m----> 8\u001b[1;33m \u001b[0mfunc_v3\u001b[0m\u001b[1;33m(\u001b[0m\u001b[1;36m5\u001b[0m\u001b[1;33m)\u001b[0m\u001b[1;33m\u001b[0m\u001b[1;33m\u001b[0m\u001b[0m\n\u001b[0m",
      "\u001b[1;32m<ipython-input-3-267c1e84f46b>\u001b[0m in \u001b[0;36mfunc_v3\u001b[1;34m(a)\u001b[0m\n\u001b[0;32m      3\u001b[0m \u001b[1;32mdef\u001b[0m \u001b[0mfunc_v3\u001b[0m\u001b[1;33m(\u001b[0m\u001b[0ma\u001b[0m\u001b[1;33m)\u001b[0m\u001b[1;33m:\u001b[0m\u001b[1;33m\u001b[0m\u001b[1;33m\u001b[0m\u001b[0m\n\u001b[0;32m      4\u001b[0m     \u001b[0mprint\u001b[0m\u001b[1;33m(\u001b[0m\u001b[0ma\u001b[0m\u001b[1;33m)\u001b[0m\u001b[1;33m\u001b[0m\u001b[1;33m\u001b[0m\u001b[0m\n\u001b[1;32m----> 5\u001b[1;33m     \u001b[0mprint\u001b[0m\u001b[1;33m(\u001b[0m\u001b[0mb\u001b[0m\u001b[1;33m)\u001b[0m\u001b[1;33m\u001b[0m\u001b[1;33m\u001b[0m\u001b[0m\n\u001b[0m\u001b[0;32m      6\u001b[0m     \u001b[0mb\u001b[0m \u001b[1;33m=\u001b[0m \u001b[1;36m5\u001b[0m\u001b[1;33m\u001b[0m\u001b[1;33m\u001b[0m\u001b[0m\n\u001b[0;32m      7\u001b[0m \u001b[1;33m\u001b[0m\u001b[0m\n",
      "\u001b[1;31mUnboundLocalError\u001b[0m: local variable 'b' referenced before assignment"
     ]
    }
   ],
   "source": [
    "b = 10 \n",
    "\n",
    "def func_v3(a): \n",
    "    print(a)\n",
    "    print(b)\n",
    "    b = 5 \n",
    "    \n",
    "func_v3(5)"
   ]
  },
  {
   "cell_type": "code",
   "execution_count": 4,
   "metadata": {},
   "outputs": [
    {
     "name": "stdout",
     "output_type": "stream",
     "text": [
      "  4           0 LOAD_GLOBAL              0 (print)\n",
      "              2 LOAD_FAST                0 (a)\n",
      "              4 CALL_FUNCTION            1\n",
      "              6 POP_TOP\n",
      "\n",
      "  5           8 LOAD_GLOBAL              0 (print)\n",
      "             10 LOAD_FAST                1 (b)\n",
      "             12 CALL_FUNCTION            1\n",
      "             14 POP_TOP\n",
      "\n",
      "  6          16 LOAD_CONST               1 (5)\n",
      "             18 STORE_FAST               1 (b)\n",
      "             20 LOAD_CONST               0 (None)\n",
      "             22 RETURN_VALUE\n",
      "None\n"
     ]
    }
   ],
   "source": [
    "# 증명 \n",
    "from dis import dis \n",
    "print(dis(func_v3))"
   ]
  },
  {
   "cell_type": "markdown",
   "metadata": {},
   "source": [
    "## (2) 클로저 Closure\n",
    "1. 반환되는 내부 함수에 대해서 선언된 연결 정보를 가지고 참조하는 방식 \n",
    "2. 반환 당시 함수의 유효범위를 벗어난 변수 또는 메소드에 직접 접근이 가능 "
   ]
  },
  {
   "cell_type": "markdown",
   "metadata": {},
   "source": [
    "- __개별적인 계산__"
   ]
  },
  {
   "cell_type": "code",
   "execution_count": 7,
   "metadata": {},
   "outputs": [
    {
     "name": "stdout",
     "output_type": "stream",
     "text": [
      "20\n",
      "110\n",
      "1275\n",
      "3775\n"
     ]
    }
   ],
   "source": [
    "a = 10 \n",
    "\n",
    "print(a + 10)\n",
    "print(a + 100)\n",
    "print(sum(range(1, 51)))\n",
    "print(sum(range(51, 101)))"
   ]
  },
  {
   "cell_type": "markdown",
   "metadata": {},
   "source": [
    "- __결과 누적__\n",
    "    - 1. 클래스 이용"
   ]
  },
  {
   "cell_type": "code",
   "execution_count": 8,
   "metadata": {},
   "outputs": [],
   "source": [
    "class Averager(): \n",
    "    def __init__(self): \n",
    "        self._series = []\n",
    "        \n",
    "    def __call__(self, v): \n",
    "        self._series.append(v)\n",
    "        print('class >>> {} / {}'.format(self._series, len(self._series)))\n",
    "        return sum(self._series) / len(self._series)"
   ]
  },
  {
   "cell_type": "code",
   "execution_count": 10,
   "metadata": {},
   "outputs": [
    {
     "name": "stdout",
     "output_type": "stream",
     "text": [
      "class >>> [15] / 1\n",
      "15.0\n",
      "class >>> [15, 35] / 2\n",
      "25.0\n",
      "class >>> [15, 35, 40] / 3\n",
      "30.0\n"
     ]
    }
   ],
   "source": [
    "avg_cls = Averager()\n",
    "\n",
    "print(avg_cls(15))\n",
    "print(avg_cls(35))\n",
    "print(avg_cls(40))"
   ]
  },
  {
   "cell_type": "markdown",
   "metadata": {},
   "source": [
    "- __결과 누적__\n",
    "    - 클로저 이용\n",
    "        1. 전역변수 사용 감소\n",
    "        2. 디자인 패턴 적용"
   ]
  },
  {
   "cell_type": "code",
   "execution_count": 11,
   "metadata": {},
   "outputs": [],
   "source": [
    "def closure_avg1(): \n",
    "    # free variable\n",
    "    # 클로저 영역 \n",
    "    series = []\n",
    "    def averager(v):\n",
    "        # 여기에 series가 없지만 계속 참조하고 있음 \n",
    "        # series = [] 여기에 쓴다면 계속 초기화된 후 append됨 \n",
    "        series.append(v)\n",
    "        print('def1 >>> {} / {}'.format(series, len(series)))\n",
    "        return sum(series) / len(series)\n",
    "    return averager # 함수 자체를 리턴 averager() 이게 아님 "
   ]
  },
  {
   "cell_type": "code",
   "execution_count": 13,
   "metadata": {},
   "outputs": [
    {
     "name": "stdout",
     "output_type": "stream",
     "text": [
      "def1 >>> [15] / 1\n",
      "15.0\n",
      "def1 >>> [15, 35] / 2\n",
      "25.0\n",
      "def1 >>> [15, 35, 40] / 3\n",
      "30.0\n"
     ]
    }
   ],
   "source": [
    "avg_closure1 = closure_avg1()\n",
    "\n",
    "print(avg_closure1(15))\n",
    "print(avg_closure1(35))\n",
    "print(avg_closure1(40))"
   ]
  },
  {
   "cell_type": "code",
   "execution_count": 22,
   "metadata": {},
   "outputs": [
    {
     "name": "stdout",
     "output_type": "stream",
     "text": [
      "['__annotations__', '__call__', '__class__', '__closure__', '__code__', '__defaults__', '__delattr__', '__dict__', '__dir__', '__doc__', '__eq__', '__format__', '__ge__', '__get__', '__getattribute__', '__globals__', '__gt__', '__hash__', '__init__', '__init_subclass__', '__kwdefaults__', '__le__', '__lt__', '__module__', '__name__', '__ne__', '__new__', '__qualname__', '__reduce__', '__reduce_ex__', '__repr__', '__setattr__', '__sizeof__', '__str__', '__subclasshook__']\n",
      "\n",
      "['__class__', '__delattr__', '__dir__', '__doc__', '__eq__', '__format__', '__ge__', '__getattribute__', '__gt__', '__hash__', '__init__', '__init_subclass__', '__le__', '__lt__', '__ne__', '__new__', '__reduce__', '__reduce_ex__', '__repr__', '__setattr__', '__sizeof__', '__str__', '__subclasshook__', 'co_argcount', 'co_cellvars', 'co_code', 'co_consts', 'co_filename', 'co_firstlineno', 'co_flags', 'co_freevars', 'co_kwonlyargcount', 'co_lnotab', 'co_name', 'co_names', 'co_nlocals', 'co_stacksize', 'co_varnames']\n",
      "\n",
      "('series',)\n",
      "\n",
      "['__class__', '__delattr__', '__dir__', '__doc__', '__eq__', '__format__', '__ge__', '__getattribute__', '__gt__', '__hash__', '__init__', '__init_subclass__', '__le__', '__lt__', '__ne__', '__new__', '__reduce__', '__reduce_ex__', '__repr__', '__setattr__', '__sizeof__', '__str__', '__subclasshook__', 'cell_contents']\n",
      "\n",
      "['__abs__', '__add__', '__and__', '__bool__', '__ceil__', '__class__', '__delattr__', '__dir__', '__divmod__', '__doc__', '__eq__', '__float__', '__floor__', '__floordiv__', '__format__', '__ge__', '__getattribute__', '__getnewargs__', '__gt__', '__hash__', '__index__', '__init__', '__init_subclass__', '__int__', '__invert__', '__le__', '__lshift__', '__lt__', '__mod__', '__mul__', '__ne__', '__neg__', '__new__', '__or__', '__pos__', '__pow__', '__radd__', '__rand__', '__rdivmod__', '__reduce__', '__reduce_ex__', '__repr__', '__rfloordiv__', '__rlshift__', '__rmod__', '__rmul__', '__ror__', '__round__', '__rpow__', '__rrshift__', '__rshift__', '__rsub__', '__rtruediv__', '__rxor__', '__setattr__', '__sizeof__', '__str__', '__sub__', '__subclasshook__', '__truediv__', '__trunc__', '__xor__', 'bit_length', 'conjugate', 'denominator', 'from_bytes', 'imag', 'numerator', 'real', 'to_bytes']\n"
     ]
    }
   ],
   "source": [
    "print(dir(avg_closure1)) # __code__\n",
    "print()\n",
    "print(dir(avg_closure1.__code__))  # co_freevars\n",
    "print()\n",
    "print(avg_closure1.__code__.co_freevars)  # series \n",
    "print()\n",
    "print(dir(avg_closure1.__closure__[0]))\n",
    "print()\n",
    "print(dir(avg_closure1.__closure__[0].cell_contents[1]))"
   ]
  },
  {
   "cell_type": "markdown",
   "metadata": {},
   "source": [
    "- 잘못된 클로저 사용 예"
   ]
  },
  {
   "cell_type": "code",
   "execution_count": 23,
   "metadata": {},
   "outputs": [],
   "source": [
    "def closure_avg2(): \n",
    "    # free variable \n",
    "    # 클로저 영역 \n",
    "    cnt = 0 \n",
    "    total = 0 \n",
    "    \n",
    "    def averager(v): \n",
    "        cnt += 1 \n",
    "        total += v\n",
    "        print(\"def2 >>> {}  {}\".format(total, cnt))\n",
    "        return total / cnt \n",
    "    return averager "
   ]
  },
  {
   "cell_type": "code",
   "execution_count": 24,
   "metadata": {},
   "outputs": [
    {
     "ename": "UnboundLocalError",
     "evalue": "local variable 'cnt' referenced before assignment",
     "output_type": "error",
     "traceback": [
      "\u001b[1;31m---------------------------------------------------------------------------\u001b[0m",
      "\u001b[1;31mUnboundLocalError\u001b[0m                         Traceback (most recent call last)",
      "\u001b[1;32m<ipython-input-24-53358ee7a691>\u001b[0m in \u001b[0;36m<module>\u001b[1;34m\u001b[0m\n\u001b[0;32m      1\u001b[0m \u001b[0mavg_closure2\u001b[0m \u001b[1;33m=\u001b[0m \u001b[0mclosure_avg2\u001b[0m\u001b[1;33m(\u001b[0m\u001b[1;33m)\u001b[0m\u001b[1;33m\u001b[0m\u001b[1;33m\u001b[0m\u001b[0m\n\u001b[0;32m      2\u001b[0m \u001b[1;33m\u001b[0m\u001b[0m\n\u001b[1;32m----> 3\u001b[1;33m \u001b[0mprint\u001b[0m\u001b[1;33m(\u001b[0m\u001b[0mavg_closure2\u001b[0m\u001b[1;33m(\u001b[0m\u001b[1;36m15\u001b[0m\u001b[1;33m)\u001b[0m\u001b[1;33m)\u001b[0m\u001b[1;33m\u001b[0m\u001b[1;33m\u001b[0m\u001b[0m\n\u001b[0m",
      "\u001b[1;32m<ipython-input-23-f9a6d407e2c4>\u001b[0m in \u001b[0;36maverager\u001b[1;34m(v)\u001b[0m\n\u001b[0;32m      6\u001b[0m \u001b[1;33m\u001b[0m\u001b[0m\n\u001b[0;32m      7\u001b[0m     \u001b[1;32mdef\u001b[0m \u001b[0maverager\u001b[0m\u001b[1;33m(\u001b[0m\u001b[0mv\u001b[0m\u001b[1;33m)\u001b[0m\u001b[1;33m:\u001b[0m\u001b[1;33m\u001b[0m\u001b[1;33m\u001b[0m\u001b[0m\n\u001b[1;32m----> 8\u001b[1;33m         \u001b[0mcnt\u001b[0m \u001b[1;33m+=\u001b[0m \u001b[1;36m1\u001b[0m\u001b[1;33m\u001b[0m\u001b[1;33m\u001b[0m\u001b[0m\n\u001b[0m\u001b[0;32m      9\u001b[0m         \u001b[0mtotal\u001b[0m \u001b[1;33m+=\u001b[0m \u001b[0mv\u001b[0m\u001b[1;33m\u001b[0m\u001b[1;33m\u001b[0m\u001b[0m\n\u001b[0;32m     10\u001b[0m         \u001b[0mprint\u001b[0m\u001b[1;33m(\u001b[0m\u001b[1;34m\"def2 >>> {}  {}\"\u001b[0m\u001b[1;33m.\u001b[0m\u001b[0mformat\u001b[0m\u001b[1;33m(\u001b[0m\u001b[0mtotal\u001b[0m\u001b[1;33m,\u001b[0m \u001b[0mcnt\u001b[0m\u001b[1;33m)\u001b[0m\u001b[1;33m)\u001b[0m\u001b[1;33m\u001b[0m\u001b[1;33m\u001b[0m\u001b[0m\n",
      "\u001b[1;31mUnboundLocalError\u001b[0m: local variable 'cnt' referenced before assignment"
     ]
    }
   ],
   "source": [
    "avg_closure2 = closure_avg2()\n",
    "\n",
    "print(avg_closure2(15))  # Error "
   ]
  },
  {
   "cell_type": "markdown",
   "metadata": {},
   "source": [
    "- 해결방법"
   ]
  },
  {
   "cell_type": "code",
   "execution_count": 25,
   "metadata": {},
   "outputs": [],
   "source": [
    "def closure_avg2(): \n",
    "    # free variable\n",
    "    # 클로저 영역 \n",
    "    cnt = 0 \n",
    "    total = 0 \n",
    "    def averager(v): \n",
    "        nonlocal cnt, total \n",
    "        cnt += 1 \n",
    "        total += v \n",
    "        print(\"def2 >>> {} / {}\".format(total, cnt))\n",
    "        return total / cnt\n",
    "    return averager"
   ]
  },
  {
   "cell_type": "code",
   "execution_count": 27,
   "metadata": {},
   "outputs": [
    {
     "name": "stdout",
     "output_type": "stream",
     "text": [
      "def2 >>> 15 / 1\n",
      "15.0\n",
      "def2 >>> 50 / 2\n",
      "25.0\n",
      "def2 >>> 90 / 3\n",
      "30.0\n"
     ]
    }
   ],
   "source": [
    "avg_closure2 = closure_avg2()\n",
    "\n",
    "print(avg_closure2(15))\n",
    "print(avg_closure2(35))\n",
    "print(avg_closure2(40))"
   ]
  },
  {
   "cell_type": "markdown",
   "metadata": {},
   "source": [
    "## (3) 데코레이터 Decorator \n",
    "- **장점**\n",
    "    1. 중복제거, 코드간결 \n",
    "    2. 클로저보다 문법 간결 \n",
    "    3. 조합해서 사용할 때 용이 \n",
    "    \n",
    "    \n",
    "- **단점**\n",
    "    1. 디버깅이 어려움 \n",
    "    2. 에러의 모호함"
   ]
  },
  {
   "cell_type": "code",
   "execution_count": 29,
   "metadata": {},
   "outputs": [],
   "source": [
    "import time \n",
    "\n",
    "def perf_clock(func): \n",
    "    def perf_clocked(*args): \n",
    "        # 시작 시간 \n",
    "        st = time.perf_counter() \n",
    "        result = func(*args)\n",
    "        # 종료 시간 \n",
    "        et = time.perf_counter() - st \n",
    "        # 함수명 \n",
    "        name = func.__name__ \n",
    "        # 매개변수 \n",
    "        arg_str = ','.join(repr(arg) for arg in args)\n",
    "        # 출력 \n",
    "        print('Result: {%0.5fs} %s(%s) -> %r' % (et, name, arg_str, result))\n",
    "        return result \n",
    "    return perf_clocked "
   ]
  },
  {
   "cell_type": "markdown",
   "metadata": {},
   "source": [
    "- 데코레이터 미사용 "
   ]
  },
  {
   "cell_type": "code",
   "execution_count": 31,
   "metadata": {},
   "outputs": [],
   "source": [
    "def time_func(seconds): \n",
    "    time.sleep(seconds)\n",
    "\n",
    "def sum_func(*numbers): \n",
    "    return sum(numbers)\n",
    "\n",
    "def fact_func(n):\n",
    "    return 1 if n < 2 else n * fact_func(n-1)"
   ]
  },
  {
   "cell_type": "code",
   "execution_count": 35,
   "metadata": {},
   "outputs": [],
   "source": [
    "non_deco1 = perf_clock(time_func)\n",
    "non_deco2 = perf_clock(sum_func)\n",
    "non_deco3 = perf_clock(fact_func)"
   ]
  },
  {
   "cell_type": "code",
   "execution_count": 36,
   "metadata": {},
   "outputs": [
    {
     "name": "stdout",
     "output_type": "stream",
     "text": [
      "<function perf_clock.<locals>.perf_clocked at 0x000002679FDCC730> || ('func',)\n",
      "<function perf_clock.<locals>.perf_clocked at 0x000002679FDCC730> || ('func',)\n",
      "<function perf_clock.<locals>.perf_clocked at 0x000002679FDCC730> || ('func',)\n"
     ]
    }
   ],
   "source": [
    "print(non_deco1, non_deco1.__code__.co_freevars, sep=' || ')\n",
    "print(non_deco1, non_deco2.__code__.co_freevars, sep=' || ')\n",
    "print(non_deco1, non_deco3.__code__.co_freevars, sep=' || ')"
   ]
  },
  {
   "cell_type": "code",
   "execution_count": 37,
   "metadata": {},
   "outputs": [
    {
     "name": "stdout",
     "output_type": "stream",
     "text": [
      "**************************************** Called Non Deco -> time_func\n",
      "Result: {2.00739s} time_func(2) -> None\n",
      "None\n",
      "**************************************** Called Non Deco -> sum_func\n",
      "Result: {0.00000s} sum_func(100,200,300,400) -> 1000\n",
      "1000\n",
      "**************************************** Called Non Deco -> fact_func\n",
      "Result: {0.00009s} fact_func(100) -> 93326215443944152681699238856266700490715968264381621468592963895217599993229915608941463976156518286253697920827223758251185210916864000000000000000000000000\n",
      "93326215443944152681699238856266700490715968264381621468592963895217599993229915608941463976156518286253697920827223758251185210916864000000000000000000000000\n"
     ]
    }
   ],
   "source": [
    "print(\"*\" * 40, 'Called Non Deco -> time_func')\n",
    "print(non_deco1(2))\n",
    "print(\"*\" * 40, 'Called Non Deco -> sum_func')\n",
    "print(non_deco2(100, 200, 300, 400))\n",
    "print(\"*\" * 40, 'Called Non Deco -> fact_func')\n",
    "print(non_deco3(100))"
   ]
  },
  {
   "cell_type": "markdown",
   "metadata": {},
   "source": [
    "- 데코레이터 사용"
   ]
  },
  {
   "cell_type": "code",
   "execution_count": 38,
   "metadata": {},
   "outputs": [],
   "source": [
    "@perf_clock\n",
    "def time_func(seconds): \n",
    "    time.sleep(seconds)\n",
    "    \n",
    "@perf_clock\n",
    "def sum_func(*numbers):\n",
    "    return sum(numbers)\n",
    "\n",
    "@perf_clock\n",
    "def fact_func(n): \n",
    "    return 1 if n < 2 else n * fact_func(n-1)"
   ]
  },
  {
   "cell_type": "code",
   "execution_count": 40,
   "metadata": {},
   "outputs": [
    {
     "name": "stdout",
     "output_type": "stream",
     "text": [
      "**************************************** Called Non Deco -> time_func\n",
      "Result: {1.99998s} time_func(2) -> None\n",
      "None\n",
      "**************************************** Called Non Deco -> sum_func\n",
      "Result: {0.00000s} sum_func(100,200,300,400) -> 1000\n",
      "1000\n",
      "**************************************** Called Non Deco -> fact_func\n",
      "Result: {0.00000s} fact_func(1) -> 1\n",
      "Result: {0.00005s} fact_func(2) -> 2\n",
      "Result: {0.00006s} fact_func(3) -> 6\n",
      "Result: {0.00008s} fact_func(4) -> 24\n",
      "Result: {0.00009s} fact_func(5) -> 120\n",
      "120\n"
     ]
    }
   ],
   "source": [
    "print(\"*\" * 40, 'Called Non Deco -> time_func')\n",
    "print(time_func(2))\n",
    "print(\"*\" * 40, 'Called Non Deco -> sum_func')\n",
    "print(sum_func(100, 200, 300, 400))\n",
    "print(\"*\" * 40, 'Called Non Deco -> fact_func')\n",
    "print(fact_func(5))"
   ]
  }
 ],
 "metadata": {
  "kernelspec": {
   "display_name": "Python 3",
   "language": "python",
   "name": "python3"
  },
  "language_info": {
   "codemirror_mode": {
    "name": "ipython",
    "version": 3
   },
   "file_extension": ".py",
   "mimetype": "text/x-python",
   "name": "python",
   "nbconvert_exporter": "python",
   "pygments_lexer": "ipython3",
   "version": "3.7.3"
  }
 },
 "nbformat": 4,
 "nbformat_minor": 4
}
