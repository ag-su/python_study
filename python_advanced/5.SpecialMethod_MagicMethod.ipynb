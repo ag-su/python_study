{
 "cells": [
  {
   "cell_type": "markdown",
   "metadata": {},
   "source": [
    "# 5. Special Method (Magic Method)"
   ]
  },
  {
   "cell_type": "markdown",
   "metadata": {},
   "source": [
    "- __참고__\n",
    "\n",
    "https://docs.python.org/3/reference/datamodel.html#special-method-names\n",
    "https://www.tutorialsteacher.com/python/magic-methods-in-python"
   ]
  },
  {
   "cell_type": "markdown",
   "metadata": {},
   "source": [
    "## - 매직 메소드\n",
    "- **__ xxx __:** 매직 메소드"
   ]
  },
  {
   "cell_type": "code",
   "execution_count": 3,
   "metadata": {},
   "outputs": [
    {
     "name": "stdout",
     "output_type": "stream",
     "text": [
      "['__abs__', '__add__', '__and__', '__bool__', '__ceil__', '__class__', '__delattr__', '__dir__', '__divmod__', '__doc__', '__eq__', '__float__', '__floor__', '__floordiv__', '__format__', '__ge__', '__getattribute__', '__getnewargs__', '__gt__', '__hash__', '__index__', '__init__', '__init_subclass__', '__int__', '__invert__', '__le__', '__lshift__', '__lt__', '__mod__', '__mul__', '__ne__', '__neg__', '__new__', '__or__', '__pos__', '__pow__', '__radd__', '__rand__', '__rdivmod__', '__reduce__', '__reduce_ex__', '__repr__', '__rfloordiv__', '__rlshift__', '__rmod__', '__rmul__', '__ror__', '__round__', '__rpow__', '__rrshift__', '__rshift__', '__rsub__', '__rtruediv__', '__rxor__', '__setattr__', '__sizeof__', '__str__', '__sub__', '__subclasshook__', '__truediv__', '__trunc__', '__xor__', 'bit_length', 'conjugate', 'denominator', 'from_bytes', 'imag', 'numerator', 'real', 'to_bytes']\n"
     ]
    }
   ],
   "source": [
    "n = 100 \n",
    "print(dir(n))  # 모든 속성 및 메소드 출력"
   ]
  },
  {
   "cell_type": "markdown",
   "metadata": {},
   "source": [
    "- **사용**"
   ]
  },
  {
   "cell_type": "code",
   "execution_count": 7,
   "metadata": {},
   "outputs": [
    {
     "name": "stdout",
     "output_type": "stream",
     "text": [
      "300\n",
      "300\n",
      "\n",
      "int([x]) -> integer\n",
      "int(x, base=10) -> integer\n",
      "\n",
      "Convert a number or string to an integer, or return 0 if no arguments\n",
      "are given.  If x is a number, return x.__int__().  For floating point\n",
      "numbers, this truncates towards zero.\n",
      "\n",
      "If x is not a number or if base is given, then x must be a string,\n",
      "bytes, or bytearray instance representing an integer literal in the\n",
      "given base.  The literal can be preceded by '+' or '-' and be surrounded\n",
      "by whitespace.  The base defaults to 10.  Valid bases are 0 and 2-36.\n",
      "Base 0 means to interpret the base from the string as an integer literal.\n",
      ">>> int('0b100', base=0)\n",
      "4\n",
      "\n",
      "True True\n",
      "10000 10000\n"
     ]
    }
   ],
   "source": [
    "print(n + 200)\n",
    "print(n.__add__(200))\n",
    "print()\n",
    "print(n.__doc__)\n",
    "print()\n",
    "print(n.__bool__(), bool(n))\n",
    "print(n * 100, n.__mul__(100))"
   ]
  },
  {
   "cell_type": "markdown",
   "metadata": {},
   "source": [
    "## - 클래스 매직 메소드 예제 1"
   ]
  },
  {
   "cell_type": "markdown",
   "metadata": {},
   "source": [
    "- (1) 클래스 생성 "
   ]
  },
  {
   "cell_type": "code",
   "execution_count": 22,
   "metadata": {},
   "outputs": [],
   "source": [
    "class Student:\n",
    "    # 매직 메서드, 파이썬에서 이미 정의된 메서드 \n",
    "    def __init__(self, name, height):\n",
    "        self._name = name\n",
    "        self._height = height \n",
    "    \n",
    "    def __str__(self): \n",
    "        return 'Student Class Info: {}, {}'.format(self._name, self._height)\n",
    "    \n",
    "    def __ge__(self, x): \n",
    "        print(\"Called>> __ge__ Method.\")\n",
    "        if self._height >= x._height: \n",
    "            return True \n",
    "        else:\n",
    "            return False \n",
    "        \n",
    "    def __le__(self, x): \n",
    "        print(\"Called>> __le__ Method.\")\n",
    "        if self._height <= x._height:\n",
    "            return True\n",
    "        else:\n",
    "            return False \n",
    "        \n",
    "    def __sub__(self, x): \n",
    "        print(\"Called>> __sub__ Method.\")\n",
    "        return self._height - x._height"
   ]
  },
  {
   "cell_type": "markdown",
   "metadata": {},
   "source": [
    "- (2) 사용"
   ]
  },
  {
   "cell_type": "code",
   "execution_count": 23,
   "metadata": {},
   "outputs": [],
   "source": [
    "# 인스턴스 생성 \n",
    "s1 = Student('James', 181)\n",
    "s2 = Student('Mie', 165)"
   ]
  },
  {
   "cell_type": "code",
   "execution_count": 24,
   "metadata": {},
   "outputs": [
    {
     "name": "stdout",
     "output_type": "stream",
     "text": [
      "Called>> __ge__ Method.\n",
      "True\n",
      "Called>> __le__ Method.\n",
      "False\n",
      "Called>> __sub__ Method.\n",
      "16\n",
      "Called>> __sub__ Method.\n",
      "-16\n",
      "Student Class Info: James, 181\n",
      "Student Class Info: Mie, 165\n"
     ]
    }
   ],
   "source": [
    "print(s1 >= s2)\n",
    "print(s1 <= s2)\n",
    "print(s1 - s2) \n",
    "print(s2 - s1)\n",
    "print(s1)\n",
    "print(s2)"
   ]
  },
  {
   "cell_type": "markdown",
   "metadata": {},
   "source": [
    "## - 클래스 매직 메소드 사용 예제 2 "
   ]
  },
  {
   "cell_type": "markdown",
   "metadata": {},
   "source": [
    "- (1) 클래스 생성"
   ]
  },
  {
   "cell_type": "code",
   "execution_count": 26,
   "metadata": {},
   "outputs": [],
   "source": [
    "class Vector(object): \n",
    "    def __init__(self, *args): \n",
    "        '''Create a vector, example: v=Vector(1, 2)'''\n",
    "        if len(args) == 0: \n",
    "            self._x, self._y = 0, 0 \n",
    "        else: \n",
    "            self._x, self._y = args \n",
    "            \n",
    "    def __repr__(self): \n",
    "        '''Returns the Vector information''' \n",
    "        return 'Vector(%r, %r)' %(self._x, self._y)\n",
    "    \n",
    "    def __add__(self, other): \n",
    "        '''Returns the vector addition of self and other''' \n",
    "        return Vector(self._x + other._x, self._y + other._y)\n",
    "    \n",
    "    def __mul__(self, t): \n",
    "        '''Returns the vector Multiplication of self and other'''\n",
    "        return Vector(self._x * t, self._y * t)\n",
    "    \n",
    "    def __bool__(self): \n",
    "        return bool(max(self._x, self._y))"
   ]
  },
  {
   "cell_type": "markdown",
   "metadata": {},
   "source": [
    "- (2) 사용"
   ]
  },
  {
   "cell_type": "code",
   "execution_count": 27,
   "metadata": {},
   "outputs": [],
   "source": [
    "# Vector 인스턴스 생성 \n",
    "v1 = Vector(3, 5)\n",
    "v2 = Vector(15, 20)\n",
    "v3 = Vector()"
   ]
  },
  {
   "cell_type": "code",
   "execution_count": 34,
   "metadata": {},
   "outputs": [
    {
     "name": "stdout",
     "output_type": "stream",
     "text": [
      "Create a vector, example: v=Vector(1, 2)\n",
      "Returns the Vector information\n",
      "Returns the vector addition of self and other\n",
      "\n",
      "Vector(3, 5) Vector(15, 20) Vector(0, 0)\n",
      "Vector(18, 25)\n",
      "Vector(12, 20)\n",
      "Vector(150, 200)\n",
      "\n",
      "True|True|False\n"
     ]
    }
   ],
   "source": [
    "# 매직 메소드 출력 \n",
    "print(Vector.__init__.__doc__)\n",
    "print(Vector.__repr__.__doc__)\n",
    "print(Vector.__add__.__doc__)\n",
    "print()\n",
    "print(v1, v2, v3)\n",
    "print(v1 + v2)\n",
    "print(v1 * 4)\n",
    "print(v2 * 10)\n",
    "print()\n",
    "print(bool(v1), bool(v2), bool(v3), sep='|')"
   ]
  }
 ],
 "metadata": {
  "kernelspec": {
   "display_name": "Python 3",
   "language": "python",
   "name": "python3"
  },
  "language_info": {
   "codemirror_mode": {
    "name": "ipython",
    "version": 3
   },
   "file_extension": ".py",
   "mimetype": "text/x-python",
   "name": "python",
   "nbconvert_exporter": "python",
   "pygments_lexer": "ipython3",
   "version": "3.7.3"
  }
 },
 "nbformat": 4,
 "nbformat_minor": 4
}
