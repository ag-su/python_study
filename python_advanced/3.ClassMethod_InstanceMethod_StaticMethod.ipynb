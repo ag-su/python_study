{
 "cells": [
  {
   "cell_type": "markdown",
   "metadata": {},
   "source": [
    "# 3. 클래스 메소드 vs 인스턴스 메소드 vs 스테이틱 메소드 "
   ]
  },
  {
   "cell_type": "markdown",
   "metadata": {},
   "source": [
    "## - 클래스 선언"
   ]
  },
  {
   "cell_type": "code",
   "execution_count": 17,
   "metadata": {},
   "outputs": [],
   "source": [
    "class Student(object): \n",
    "    \"\"\"\n",
    "    Student Class\n",
    "    Author: Silver\n",
    "    Date: 2021. 9. 28 \n",
    "    Description: Class, Static, Instance Method \n",
    "    \"\"\"\n",
    "    \n",
    "    # class Variable \n",
    "    tuition_per = 1.0 \n",
    "    \n",
    "    def __init__(self, id, first_name, last_name, email, grade, tuition, gpa): \n",
    "        self._id = id \n",
    "        self._first_name = first_name \n",
    "        self._last_name = last_name \n",
    "        self._email = email \n",
    "        self._grade = grade \n",
    "        self._tuition = tuition \n",
    "        self._gpa = gpa \n",
    "        \n",
    "    # Instance Method\n",
    "    def full_name(self): \n",
    "        return \"{}, {}\".format(self._first_name, self._last_name)\n",
    "    \n",
    "    # Instance Method \n",
    "    def detail_info(self): \n",
    "        return 'Student Detail info: {}, {}, {}, {}, {}, {}'.format(self._id, self.full_name(), self._email, self._grade, self._tuition, self._gpa)\n",
    "    \n",
    "    # Instance Method \n",
    "    def get_fee(self): \n",
    "        return 'Before Tuition -> Id: {}, fee: {}'.format(self._id, self._tuition)\n",
    "    \n",
    "    # Instance Method \n",
    "    def get_fee_culc(self): \n",
    "        return 'After Tuition -> Id: {}, fee: {}'.format(self._id, self._tuition * Student.tuition_per)\n",
    "    \n",
    "    # Instance Method \n",
    "    def __str__(self): \n",
    "        return 'Student Info -> name: {}, grade: {}, email: {}'.format(self.full_name(), self._grade, self._email)\n",
    "    \n",
    "    # Class Method \n",
    "    @classmethod \n",
    "    def raise_fee(cls, per): \n",
    "        if per <= 1:\n",
    "            print(\"Please Enrer 1 or More\")\n",
    "            return \n",
    "        Student.tuition_per = per \n",
    "        print('Succeed! tuition increased.')\n",
    "        \n",
    "    # Clss Method \n",
    "    @classmethod \n",
    "    def student_const(cls, id, first_name, last_name, email, grade, tuition, gpa): \n",
    "        return cls(id, first_name, last_name, email, grade, tuition * cls.tuition_per, gpa)\n",
    "    \n",
    "    # Static Method \n",
    "    @staticmethod # 요새 잘 쓰지 않음 \n",
    "    def is_scolarship_st(inst): \n",
    "        if inst._gpa >= 4.3: \n",
    "            return '{} is a scholarship recipient'.format(inst._last_name)\n",
    "        return 'Sorry, not a scholarship recipient'"
   ]
  },
  {
   "cell_type": "markdown",
   "metadata": {},
   "source": [
    "## - 인스턴스 생성"
   ]
  },
  {
   "cell_type": "code",
   "execution_count": 18,
   "metadata": {},
   "outputs": [],
   "source": [
    "student_1 = Student(1, 'Kim', 'silver', 'student1@naver.com', '1', 400, 4.4)\n",
    "student_2 = Student(2, 'Han', 'golye', 'student2@daum.net', '2', 500, 3.5)"
   ]
  },
  {
   "cell_type": "code",
   "execution_count": 19,
   "metadata": {},
   "outputs": [
    {
     "name": "stdout",
     "output_type": "stream",
     "text": [
      "Student Info -> name: Kim, silver, grade: 1, email: student1@naver.com\n",
      "Student Info -> name: Han, golye, grade: 2, email: student2@daum.net\n",
      "\n",
      "Student Detail info: 1, Kim, silver, student1@naver.com, 1, 400, 4.4\n",
      "Student Detail info: 2, Han, golye, student2@daum.net, 2, 500, 3.5\n"
     ]
    }
   ],
   "source": [
    "# 기본 정보 \n",
    "print(student_1)\n",
    "print(student_2)\n",
    "\n",
    "print()\n",
    "\n",
    "# 전체 정보 \n",
    "print(student_1.detail_info())\n",
    "print(student_2.detail_info())"
   ]
  },
  {
   "cell_type": "markdown",
   "metadata": {},
   "source": [
    "## - 등록금"
   ]
  },
  {
   "cell_type": "markdown",
   "metadata": {},
   "source": [
    "- 학비 정보 (등록금 인상 전)"
   ]
  },
  {
   "cell_type": "code",
   "execution_count": null,
   "metadata": {},
   "outputs": [],
   "source": [
    "print(student_1.get_fee())\n",
    "print(student_2.get_fee())"
   ]
  },
  {
   "cell_type": "markdown",
   "metadata": {},
   "source": [
    "- 학비 인상 (클래스 메소드 사용)"
   ]
  },
  {
   "cell_type": "code",
   "execution_count": 20,
   "metadata": {},
   "outputs": [
    {
     "name": "stdout",
     "output_type": "stream",
     "text": [
      "Succeed! tuition increased.\n"
     ]
    }
   ],
   "source": [
    "# 학비 인상 (클래스 메소드 미사용) ---> 이렇게 직접 접근하는 것 권장 X \n",
    "# Student.tuition_per = 1.2\n",
    "\n",
    "# 학비 인상 (클래스 메소드 사용)\n",
    "Student.raise_fee(1.2)"
   ]
  },
  {
   "cell_type": "markdown",
   "metadata": {},
   "source": [
    "- 인상 시킨 후의 학비 정보"
   ]
  },
  {
   "cell_type": "code",
   "execution_count": 21,
   "metadata": {},
   "outputs": [
    {
     "name": "stdout",
     "output_type": "stream",
     "text": [
      "After Tuition -> Id: 1, fee: 480.0\n",
      "After Tuition -> Id: 2, fee: 600.0\n"
     ]
    }
   ],
   "source": [
    "print(student_1.get_fee_culc())\n",
    "print(student_2.get_fee_culc())"
   ]
  },
  {
   "cell_type": "markdown",
   "metadata": {},
   "source": [
    "## - 클래스 메소드를 이용하여 인스턴스 생성하기 "
   ]
  },
  {
   "cell_type": "code",
   "execution_count": 22,
   "metadata": {},
   "outputs": [],
   "source": [
    "student_3 = Student.student_const(3, 'Park', 'silver', 'student3@gmail.com', '3', 550, 4.5)\n",
    "student_4 = Student.student_const(4, 'Cho', 'golye', 'student4@gmail.com', '4', 600, 4.1)"
   ]
  },
  {
   "cell_type": "code",
   "execution_count": 24,
   "metadata": {},
   "outputs": [
    {
     "name": "stdout",
     "output_type": "stream",
     "text": [
      "Student Detail info: 3, Park, silver, student3@gmail.com, 3, 660.0, 4.5\n",
      "Student Detail info: 4, Cho, golye, student4@gmail.com, 4, 720.0, 4.1\n",
      "\n",
      "660.0\n",
      "720.0\n"
     ]
    }
   ],
   "source": [
    "# 전체 정보 \n",
    "print(student_3.detail_info())\n",
    "print(student_4.detail_info())\n",
    "\n",
    "print()\n",
    "\n",
    "# 학생 학비 변경 확인 \n",
    "print(student_3._tuition)\n",
    "print(student_4._tuition)"
   ]
  },
  {
   "cell_type": "markdown",
   "metadata": {},
   "source": [
    "## - Static Method를 이용하여 장학금 혜택 여부 알아보기 "
   ]
  },
  {
   "cell_type": "markdown",
   "metadata": {},
   "source": [
    "### (1) static method 미사용"
   ]
  },
  {
   "cell_type": "code",
   "execution_count": 26,
   "metadata": {},
   "outputs": [],
   "source": [
    "def is_scholarship(inst): \n",
    "    if inst._gpa >= 4.3: \n",
    "        return '{} is a scholarship recipient'.format(inst._last_name)\n",
    "    return 'Sorry, Not a scholarship recipient'"
   ]
  },
  {
   "cell_type": "code",
   "execution_count": 28,
   "metadata": {},
   "outputs": [
    {
     "name": "stdout",
     "output_type": "stream",
     "text": [
      "silver is a scholarship recipient\n",
      "Sorry, Not a scholarship recipient\n",
      "silver is a scholarship recipient\n",
      "Sorry, Not a scholarship recipient\n"
     ]
    }
   ],
   "source": [
    "print(is_scholarship(student_1))\n",
    "print(is_scholarship(student_2))\n",
    "print(is_scholarship(student_3))\n",
    "print(is_scholarship(student_4))"
   ]
  },
  {
   "cell_type": "markdown",
   "metadata": {},
   "source": [
    "### (2) static method 사용"
   ]
  },
  {
   "cell_type": "code",
   "execution_count": 34,
   "metadata": {},
   "outputs": [
    {
     "name": "stdout",
     "output_type": "stream",
     "text": [
      "silver is a scholarship recipient\n",
      "Sorry, not a scholarship recipient\n",
      "silver is a scholarship recipient\n",
      "Sorry, not a scholarship recipient\n",
      "\n",
      "silver is a scholarship recipient\n",
      "Sorry, not a scholarship recipient\n",
      "silver is a scholarship recipient\n",
      "Sorry, not a scholarship recipient\n"
     ]
    }
   ],
   "source": [
    "print(Student.is_scolarship_st(student_1))\n",
    "print(Student.is_scolarship_st(student_2))\n",
    "print(Student.is_scolarship_st(student_3))\n",
    "print(Student.is_scolarship_st(student_4))\n",
    "\n",
    "print()\n",
    "\n",
    "print(student_1.is_scolarship_st(student_1))\n",
    "print(student_2.is_scolarship_st(student_2))\n",
    "print(student_3.is_scolarship_st(student_3))\n",
    "print(student_4.is_scolarship_st(student_4))"
   ]
  }
 ],
 "metadata": {
  "kernelspec": {
   "display_name": "Python 3",
   "language": "python",
   "name": "python3"
  },
  "language_info": {
   "codemirror_mode": {
    "name": "ipython",
    "version": 3
   },
   "file_extension": ".py",
   "mimetype": "text/x-python",
   "name": "python",
   "nbconvert_exporter": "python",
   "pygments_lexer": "ipython3",
   "version": "3.7.3"
  }
 },
 "nbformat": 4,
 "nbformat_minor": 4
}
