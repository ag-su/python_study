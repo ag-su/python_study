{
 "cells": [
  {
   "cell_type": "markdown",
   "metadata": {},
   "source": [
    "# 2. 클래스 변수 vs 인스턴스 변수"
   ]
  },
  {
   "cell_type": "markdown",
   "metadata": {},
   "source": [
    "## - 클래스 생성"
   ]
  },
  {
   "cell_type": "code",
   "execution_count": 37,
   "metadata": {},
   "outputs": [],
   "source": [
    "class Students():\n",
    "    \"\"\"\n",
    "    student class \n",
    "    Author: Silver\n",
    "    Date: 2021. 9. 28\n",
    "    \"\"\"\n",
    "    \n",
    "    # 클래스 변수 \n",
    "    student_count = 0 \n",
    "    \n",
    "    def __init__(self, name, number, grade, details, email=None):\n",
    "        # 인스턴스 변수 \n",
    "        self._name = name \n",
    "        self._number = number\n",
    "        self._grade = grade\n",
    "        self._details = details \n",
    "        self._email = email \n",
    "\n",
    "        Students.student_count += 1 \n",
    "        \n",
    "    def __str__(self):\n",
    "        return 'str: {}'.format(self._name)\n",
    "    \n",
    "    def __repr__(self):\n",
    "        return 'repr: {}'.format(self._name)\n",
    "    \n",
    "    def detail_info(self):\n",
    "        print('Current Id: {}'.format(id(self)))\n",
    "        print(\"Student Detail info: {} {} {}\".format(self._name, self._email, self._details))\n",
    "        \n",
    "    def __del__(self): \n",
    "        Students.student_count -= 1 "
   ]
  },
  {
   "cell_type": "markdown",
   "metadata": {},
   "source": [
    "## - 객체 생성"
   ]
  },
  {
   "cell_type": "code",
   "execution_count": 38,
   "metadata": {},
   "outputs": [],
   "source": [
    "studt1 = Students('Cho', 2, 3, {'gender': 'Male', 'score1': 65, 'score2': 44})\n",
    "studt2 = Students('Chang', 4, 1, {'gender': 'Female', 'score1': 85, 'score2': 74}, 'silver@google.com')"
   ]
  },
  {
   "cell_type": "markdown",
   "metadata": {},
   "source": [
    "## - id 확인"
   ]
  },
  {
   "cell_type": "code",
   "execution_count": 45,
   "metadata": {},
   "outputs": [
    {
     "name": "stdout",
     "output_type": "stream",
     "text": [
      "2040188402040\n",
      "2040188399856\n"
     ]
    }
   ],
   "source": [
    "print(id(studt1))\n",
    "print(id(studt2))"
   ]
  },
  {
   "cell_type": "markdown",
   "metadata": {},
   "source": [
    "- **cf) ==, is**의 차이 \n",
    "- **==**: 값을 비교, **is**: id값을 비교"
   ]
  },
  {
   "cell_type": "code",
   "execution_count": 46,
   "metadata": {},
   "outputs": [
    {
     "name": "stdout",
     "output_type": "stream",
     "text": [
      "False\n",
      "False\n"
     ]
    }
   ],
   "source": [
    "##### == \n",
    "print(studt1._name == studt2._name)\n",
    "\n",
    "##### id 값을 비교 \n",
    "print(studt1 is studt2)"
   ]
  },
  {
   "cell_type": "markdown",
   "metadata": {},
   "source": [
    "## - dir & __ dict __ & __ doc __"
   ]
  },
  {
   "cell_type": "markdown",
   "metadata": {},
   "source": [
    "### (1) 내장함수 dir \n",
    "- **참고:** https://wikidocs.net/10307\n",
    "- 해당 객체가 어떤 **변수**와 **메소드**를 가지고 있는지 나열 "
   ]
  },
  {
   "cell_type": "code",
   "execution_count": 47,
   "metadata": {},
   "outputs": [
    {
     "name": "stdout",
     "output_type": "stream",
     "text": [
      "['__class__', '__del__', '__delattr__', '__dict__', '__dir__', '__doc__', '__eq__', '__format__', '__ge__', '__getattribute__', '__gt__', '__hash__', '__init__', '__init_subclass__', '__le__', '__lt__', '__module__', '__ne__', '__new__', '__reduce__', '__reduce_ex__', '__repr__', '__setattr__', '__sizeof__', '__str__', '__subclasshook__', '__weakref__', '_details', '_email', '_grade', '_name', '_number', 'detail_info', 'student_count']\n",
      "------------------------------------------------------------------------------\n",
      "['__class__', '__del__', '__delattr__', '__dict__', '__dir__', '__doc__', '__eq__', '__format__', '__ge__', '__getattribute__', '__gt__', '__hash__', '__init__', '__init_subclass__', '__le__', '__lt__', '__module__', '__ne__', '__new__', '__reduce__', '__reduce_ex__', '__repr__', '__setattr__', '__sizeof__', '__str__', '__subclasshook__', '__weakref__', '_details', '_email', '_grade', '_name', '_number', 'detail_info', 'student_count']\n"
     ]
    }
   ],
   "source": [
    "##### 클래스 변수, 인스턴스 변수, 메소드 정보\n",
    "print(dir(studt1))\n",
    "print(\"------------------------------------------------------------------------------\")\n",
    "print(dir(studt2))"
   ]
  },
  {
   "cell_type": "markdown",
   "metadata": {},
   "source": [
    "### (2) __ dict __\n",
    "- **참고:** https://wikidocs.net/1743\n",
    "- __네임스페이스__ 확인 (해당 변수에 어떤 값들이 들어 가 있는지) "
   ]
  },
  {
   "cell_type": "code",
   "execution_count": 48,
   "metadata": {},
   "outputs": [
    {
     "name": "stdout",
     "output_type": "stream",
     "text": [
      "{'_name': 'Cho', '_number': 2, '_grade': 3, '_details': {'gender': 'Male', 'score1': 65, 'score2': 44}, '_email': None}\n",
      "-------------------------------------------------------------------------------\n",
      "{'_name': 'Chang', '_number': 4, '_grade': 1, '_details': {'gender': 'Female', 'score1': 85, 'score2': 74}, '_email': 'silver@google.com'}\n"
     ]
    }
   ],
   "source": [
    "print(studt1.__dict__)\n",
    "print('-------------------------------------------------------------------------------')\n",
    "print(studt2.__dict__)"
   ]
  },
  {
   "cell_type": "markdown",
   "metadata": {},
   "source": [
    "### (3)  __ doc __\n",
    "- 클래스 안의 주석을 보여줌. "
   ]
  },
  {
   "cell_type": "code",
   "execution_count": 49,
   "metadata": {},
   "outputs": [
    {
     "name": "stdout",
     "output_type": "stream",
     "text": [
      "\n",
      "    student class \n",
      "    Author: Silver\n",
      "    Date: 2021. 9. 28\n",
      "    \n"
     ]
    }
   ],
   "source": [
    "print(Students.__doc__)"
   ]
  },
  {
   "cell_type": "markdown",
   "metadata": {},
   "source": [
    "## - 메소드 실행 "
   ]
  },
  {
   "cell_type": "code",
   "execution_count": 50,
   "metadata": {},
   "outputs": [
    {
     "name": "stdout",
     "output_type": "stream",
     "text": [
      "Current Id: 2040188402040\n",
      "Student Detail info: Cho None {'gender': 'Male', 'score1': 65, 'score2': 44}\n",
      "----------------------------------------------------------------------------\n",
      "Current Id: 2040188399856\n",
      "Student Detail info: Chang silver@google.com {'gender': 'Female', 'score1': 85, 'score2': 74}\n",
      "\n",
      "\n",
      "Current Id: 2040188402040\n",
      "Student Detail info: Cho None {'gender': 'Male', 'score1': 65, 'score2': 44}\n",
      "----------------------------------------------------------------------------\n",
      "Current Id: 2040188399856\n",
      "Student Detail info: Chang silver@google.com {'gender': 'Female', 'score1': 85, 'score2': 74}\n"
     ]
    }
   ],
   "source": [
    "# 인스턴스로 접근 \n",
    "studt1.detail_info()\n",
    "print(\"----------------------------------------------------------------------------\")\n",
    "studt2.detail_info()\n",
    "\n",
    "# Students.detail_info() # 오류 \n",
    "\n",
    "print()\n",
    "print()\n",
    "\n",
    "\n",
    "# 클래스로 접근\n",
    "Students.detail_info(studt1)\n",
    "print(\"----------------------------------------------------------------------------\")\n",
    "Students.detail_info(studt2)"
   ]
  },
  {
   "cell_type": "markdown",
   "metadata": {},
   "source": [
    "\n",
    "## - __ class __\n",
    "\n"
   ]
  },
  {
   "cell_type": "code",
   "execution_count": 51,
   "metadata": {},
   "outputs": [
    {
     "name": "stdout",
     "output_type": "stream",
     "text": [
      "<class '__main__.Student'> <class '__main__.Student'>\n",
      "2040177335976 2040177335976\n"
     ]
    }
   ],
   "source": [
    "print(studt1.__class__, studt2.__class__)\n",
    "print(id(studt1.__class__), id(studt2.__class__))"
   ]
  },
  {
   "cell_type": "markdown",
   "metadata": {},
   "source": [
    "## - 인스턴스 변수와 클래스 변수의 접근 "
   ]
  },
  {
   "cell_type": "markdown",
   "metadata": {},
   "source": [
    "### (1) 인스턴스 변수 접근 "
   ]
  },
  {
   "cell_type": "code",
   "execution_count": 52,
   "metadata": {},
   "outputs": [
    {
     "name": "stdout",
     "output_type": "stream",
     "text": [
      "Cho Chang\n",
      "None silver@google.com\n"
     ]
    }
   ],
   "source": [
    "print(studt1._name, studt2._name)\n",
    "print(studt1._email, studt2._email)"
   ]
  },
  {
   "cell_type": "markdown",
   "metadata": {},
   "source": [
    "### (2) 클래스 변수 접근 "
   ]
  },
  {
   "cell_type": "code",
   "execution_count": 39,
   "metadata": {},
   "outputs": [
    {
     "name": "stdout",
     "output_type": "stream",
     "text": [
      "2\n",
      "2\n",
      "2\n"
     ]
    }
   ],
   "source": [
    "print(studt1.student_count)\n",
    "print(studt2.student_count)\n",
    "print(Students.student_count)"
   ]
  },
  {
   "cell_type": "markdown",
   "metadata": {},
   "source": [
    "## - __ del __ 호출"
   ]
  },
  {
   "cell_type": "code",
   "execution_count": 40,
   "metadata": {},
   "outputs": [
    {
     "name": "stdout",
     "output_type": "stream",
     "text": [
      "1\n",
      "1\n"
     ]
    }
   ],
   "source": [
    "del studt2\n",
    "# del studt1\n",
    "\n",
    "print(studt1.student_count)\n",
    "print(Students.student_count)"
   ]
  }
 ],
 "metadata": {
  "kernelspec": {
   "display_name": "Python 3",
   "language": "python",
   "name": "python3"
  },
  "language_info": {
   "codemirror_mode": {
    "name": "ipython",
    "version": 3
   },
   "file_extension": ".py",
   "mimetype": "text/x-python",
   "name": "python",
   "nbconvert_exporter": "python",
   "pygments_lexer": "ipython3",
   "version": "3.7.3"
  }
 },
 "nbformat": 4,
 "nbformat_minor": 4
}
