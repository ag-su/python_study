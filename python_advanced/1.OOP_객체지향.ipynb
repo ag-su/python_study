{
 "cells": [
  {
   "cell_type": "markdown",
   "metadata": {},
   "source": [
    "# 1. 객체지향"
   ]
  },
  {
   "cell_type": "markdown",
   "metadata": {},
   "source": [
    "## (1) 객체지향 vs 절차지향 간단 비교"
   ]
  },
  {
   "cell_type": "markdown",
   "metadata": {},
   "source": [
    "- 파이썬은 OOP(객체지향) 언어이다. 객체지향과 절차지향은 때에 따라 장점과 단점이 있다. \n",
    " - **객체지향:** 코드의 재사용과 코드 중복 방지 가능 \n",
    " - **절차지향:** 위에서 부터 아래로 실행, 실행속도가 빠르지만, 유지보수와 개선의 작업이 어렵다. 순서가 바뀌면 에러가 발생하며, 디버깅 또한 어렵다는 단점이 있다. \n",
    " - 하지만 무조건 객체지향이 좋은 것은 아니다. **절차지향**이 빠른 속도를 보장하기 때문에 목적이 단순하고 명확한 경우에는 **절차지향**이 유리하다고 할 수 있다. "
   ]
  },
  {
   "cell_type": "markdown",
   "metadata": {},
   "source": [
    "## (2) 객체지향 언어 파이썬: 클래스 사용해 보기"
   ]
  },
  {
   "cell_type": "markdown",
   "metadata": {},
   "source": [
    "- **cf)** __ str __ : 클래스 객체를 출력하면 호출 되는 함수 "
   ]
  },
  {
   "cell_type": "code",
   "execution_count": 2,
   "metadata": {},
   "outputs": [],
   "source": [
    "class Student(): \n",
    "    def __init__(self, name, number, grade, details): \n",
    "        self._name = name\n",
    "        self._number = number\n",
    "        self._grade = grade\n",
    "        self._details = details \n",
    "        \n",
    "    def __str__(self): \n",
    "        return 'str: {} - {}'. format(self._name, self._number)\n",
    "    \n",
    "    # str이 없을 땐 repr이 호출 됨\n",
    "    def __repr__(self):\n",
    "        return 'repr: {} - {}'.format(self._name, self._number)"
   ]
  },
  {
   "cell_type": "markdown",
   "metadata": {},
   "source": [
    "#### - 객체 생성"
   ]
  },
  {
   "cell_type": "code",
   "execution_count": 5,
   "metadata": {},
   "outputs": [],
   "source": [
    "student1 = Student(\"Kim\", 1, 1, {'gender': 'Male', 'score': 95, 'score2': 88})\n",
    "student2 = Student(\"Lee\", 2, 2, {'gender': 'Female', 'score': 77, 'score2': 92})\n",
    "student3 = Student(\"Park\", 3, 3, {'gender': 'Female', 'score': 99, 'score2': 60})"
   ]
  },
  {
   "cell_type": "markdown",
   "metadata": {},
   "source": [
    "#### 객체의 정보를 딕셔너리 형태로 살펴 보기"
   ]
  },
  {
   "cell_type": "code",
   "execution_count": 6,
   "metadata": {},
   "outputs": [
    {
     "name": "stdout",
     "output_type": "stream",
     "text": [
      "{'_name': 'Kim', '_number': 1, '_grade': 1, '_details': {'gender': 'Male', 'score': 95, 'score2': 88}}\n",
      "{'_name': 'Lee', '_number': 2, '_grade': 2, '_details': {'gender': 'Female', 'score': 77, 'score2': 92}}\n",
      "{'_name': 'Park', '_number': 3, '_grade': 3, '_details': {'gender': 'Female', 'score': 99, 'score2': 60}}\n"
     ]
    }
   ],
   "source": [
    "print(student1.__dict__)\n",
    "print(student2.__dict__)\n",
    "print(student3.__dict__)"
   ]
  },
  {
   "cell_type": "markdown",
   "metadata": {},
   "source": [
    "#### - __ str __, __ repr __ 호출"
   ]
  },
  {
   "cell_type": "code",
   "execution_count": 7,
   "metadata": {},
   "outputs": [
    {
     "name": "stdout",
     "output_type": "stream",
     "text": [
      "repr: Kim - 1\n",
      "str: Kim - 1\n",
      "repr: Lee - 2\n",
      "str: Lee - 2\n",
      "repr: Park - 3\n",
      "str: Park - 3\n"
     ]
    }
   ],
   "source": [
    "students_list = []\n",
    "students_list.append(student1)\n",
    "students_list.append(student2)\n",
    "students_list.append(student3)\n",
    "\n",
    "for x in students_list:\n",
    "    print(repr(x))\n",
    "    print(x)  # 지정한 str이 나옴 "
   ]
  }
 ],
 "metadata": {
  "kernelspec": {
   "display_name": "Python 3",
   "language": "python",
   "name": "python3"
  },
  "language_info": {
   "codemirror_mode": {
    "name": "ipython",
    "version": 3
   },
   "file_extension": ".py",
   "mimetype": "text/x-python",
   "name": "python",
   "nbconvert_exporter": "python",
   "pygments_lexer": "ipython3",
   "version": "3.7.3"
  }
 },
 "nbformat": 4,
 "nbformat_minor": 4
}
