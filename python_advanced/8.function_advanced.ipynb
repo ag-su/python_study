{
 "cells": [
  {
   "cell_type": "markdown",
   "metadata": {},
   "source": [
    "# 8. 일급함수, 익명함수, callable, 매개변수, signature, partial"
   ]
  },
  {
   "cell_type": "markdown",
   "metadata": {},
   "source": [
    "### 일급함수 (일급 객체) - 파이썬 함수의 특징 \n",
    "1. 런타임 초기화 가능 \n",
    "2. 변수에 할당 가능 \n",
    "3. 함수 인수에 전달 가능 (ex) sorted(keys=len) - 함수 안에 함수 \n",
    "4. 함수 결과로 반환 가능 (ex) return function "
   ]
  },
  {
   "cell_type": "markdown",
   "metadata": {},
   "source": [
    "## (1) 팩토리얼 함수 구현 예제"
   ]
  },
  {
   "cell_type": "code",
   "execution_count": 1,
   "metadata": {},
   "outputs": [],
   "source": [
    "def factorial(n):\n",
    "    print('run')\n",
    "    \"\"\"Factorial Function -> n: int\"\"\"\n",
    "    if n == 1: # n < 2\n",
    "        return 1 \n",
    "    return n* factorial(n-1)\n",
    "\n",
    "# 함수와 비교를 위해 생성 \n",
    "class A:\n",
    "    pass "
   ]
  },
  {
   "cell_type": "code",
   "execution_count": 2,
   "metadata": {},
   "outputs": [
    {
     "name": "stdout",
     "output_type": "stream",
     "text": [
      "run\n",
      "run\n",
      "run\n",
      "run\n",
      "run\n",
      "120\n",
      "None\n",
      "<class 'function'> <class 'type'>\n",
      "{'__globals__', '__get__', '__qualname__', '__closure__', '__defaults__', '__name__', '__kwdefaults__', '__code__', '__call__', '__module__', '__dict__', '__annotations__'}\n",
      "factorial\n",
      "<code object factorial at 0x000001D05EED9930, file \"<ipython-input-1-a438f89c7b43>\", line 1>\n"
     ]
    }
   ],
   "source": [
    "print(factorial(5))\n",
    "print(factorial.__doc__)\n",
    "print(type(factorial), type(A))\n",
    "print(set(sorted(dir(factorial))) - set(sorted(dir(dir(A))))) # 클래스와 다르게 함수가 갖고있는 메소드들\n",
    "print(factorial.__name__) # 함수 이름\n",
    "print(factorial.__code__) # 함수 코드 위치"
   ]
  },
  {
   "cell_type": "markdown",
   "metadata": {},
   "source": [
    "- __변수 할당/ 함수 인자 전달__"
   ]
  },
  {
   "cell_type": "code",
   "execution_count": 5,
   "metadata": {},
   "outputs": [
    {
     "name": "stdout",
     "output_type": "stream",
     "text": [
      "<function factorial at 0x000001D05EF3A0D0>\n",
      "run\n",
      "run\n",
      "run\n",
      "run\n",
      "run\n",
      "120\n",
      "\n",
      "<map object at 0x000001D05EF39240>\n",
      "\n",
      "run\n",
      "run\n",
      "run\n",
      "run\n",
      "run\n",
      "run\n",
      "run\n",
      "run\n",
      "run\n",
      "run\n",
      "run\n",
      "run\n",
      "run\n",
      "run\n",
      "run\n",
      "[1, 2, 6, 24, 120]\n"
     ]
    }
   ],
   "source": [
    "val_func = factorial \n",
    "print(val_func)\n",
    "print(val_func(5))\n",
    "print()\n",
    "print(map(val_func, range(1, 6)))\n",
    "print()\n",
    "print(list(map(val_func, range(1, 6))))"
   ]
  },
  {
   "cell_type": "markdown",
   "metadata": {},
   "source": [
    "- 함수 인수 전달 및 함수로 결과 반환 -> __고위함수 (Higher-order Fuction)__"
   ]
  },
  {
   "cell_type": "code",
   "execution_count": 7,
   "metadata": {},
   "outputs": [
    {
     "name": "stdout",
     "output_type": "stream",
     "text": [
      "run\n",
      "run\n",
      "run\n",
      "run\n",
      "run\n",
      "run\n",
      "run\n",
      "run\n",
      "run\n",
      "[1, 6, 120]\n",
      "\n",
      "run\n",
      "run\n",
      "run\n",
      "run\n",
      "run\n",
      "run\n",
      "run\n",
      "run\n",
      "run\n",
      "[1, 6, 120]\n"
     ]
    }
   ],
   "source": [
    "print(list(map(val_func, filter(lambda x: x%2, range(1, 6))))) # 함수 안에 함수 전달 \n",
    "print()\n",
    "print([val_func(i) for i in range(1, 6) if i%2])"
   ]
  },
  {
   "cell_type": "markdown",
   "metadata": {},
   "source": [
    "## (2) reduce\n",
    "- lambda, map(), reduce(), filter() 참고 <br> \n",
    "https://wikidocs.net/64"
   ]
  },
  {
   "cell_type": "code",
   "execution_count": 9,
   "metadata": {},
   "outputs": [
    {
     "name": "stdout",
     "output_type": "stream",
     "text": [
      "55\n",
      "55\n"
     ]
    }
   ],
   "source": [
    "from functools import reduce \n",
    "import functools\n",
    "from operator import add \n",
    "\n",
    "print(reduce(add, range(1, 11))) # 누적 \n",
    "print(sum(range(1, 11)))"
   ]
  },
  {
   "cell_type": "markdown",
   "metadata": {},
   "source": [
    "- __익명함수 (lambda) 와 reduce__\n",
    "- __익명함수__\n",
    " 1. 가급적 주석 사용 (가독성이 떨어지기 때문)\n",
    " 2. 가급적 함수 사용\n",
    " 3. 일반 함수 형태로 리팩토링 권장\n",
    " "
   ]
  },
  {
   "cell_type": "code",
   "execution_count": 10,
   "metadata": {},
   "outputs": [
    {
     "name": "stdout",
     "output_type": "stream",
     "text": [
      "55\n"
     ]
    }
   ],
   "source": [
    "print(reduce(lambda x, t: x + t, range(1, 11)))\n",
    "# 1 + 2 ---> 3 + 3 ---> 6 + 4 ---> 10 + 5 ---> ..."
   ]
  },
  {
   "cell_type": "markdown",
   "metadata": {},
   "source": [
    "## (3) Callable: 호출 연산자\n",
    ": 메소드 형태로 호출 가능한지 확인"
   ]
  },
  {
   "cell_type": "markdown",
   "metadata": {},
   "source": [
    "- **로또 추첨 클래스 예제**"
   ]
  },
  {
   "cell_type": "code",
   "execution_count": 19,
   "metadata": {},
   "outputs": [],
   "source": [
    "# 클래스 선언 \n",
    "import random \n",
    "\n",
    "class LottoGame:\n",
    "    def __init__(self): \n",
    "        self._balls = [n for n in range(1, 46)]\n",
    "    \n",
    "    def pick(self): \n",
    "        random.shuffle(self._balls)\n",
    "        return sorted([random.choice(self._balls) for _ in range(6)])"
   ]
  },
  {
   "cell_type": "code",
   "execution_count": 20,
   "metadata": {},
   "outputs": [],
   "source": [
    "# 객체 생성\n",
    "game = LottoGame()"
   ]
  },
  {
   "cell_type": "code",
   "execution_count": 22,
   "metadata": {},
   "outputs": [
    {
     "name": "stdout",
     "output_type": "stream",
     "text": [
      "[6, 11, 14, 24, 32, 35]\n"
     ]
    }
   ],
   "source": [
    "# 로또 추첨 실행\n",
    "print(game.pick())"
   ]
  },
  {
   "cell_type": "markdown",
   "metadata": {},
   "source": [
    "- callable 사용"
   ]
  },
  {
   "cell_type": "code",
   "execution_count": 23,
   "metadata": {},
   "outputs": [
    {
     "name": "stdout",
     "output_type": "stream",
     "text": [
      "True True True False False\n"
     ]
    }
   ],
   "source": [
    "print(callable(str), callable(list), callable(factorial), callable(3.14), callable(game))"
   ]
  },
  {
   "cell_type": "markdown",
   "metadata": {},
   "source": [
    "- __call__ method 사용 (매우 중요한 개념)"
   ]
  },
  {
   "cell_type": "code",
   "execution_count": 26,
   "metadata": {},
   "outputs": [],
   "source": [
    "# 클래스 선언 \n",
    "import random \n",
    "\n",
    "class LottoGame:\n",
    "    def __init__(self): \n",
    "        self._balls = [n for n in range(1, 46)]\n",
    "    \n",
    "    def pick(self): \n",
    "        random.shuffle(self._balls)\n",
    "        return sorted([random.choice(self._balls) for _ in range(6)])\n",
    "    \n",
    "    def __call__(self): \n",
    "        return self.pick()"
   ]
  },
  {
   "cell_type": "code",
   "execution_count": 28,
   "metadata": {},
   "outputs": [],
   "source": [
    "game = LottoGame()"
   ]
  },
  {
   "cell_type": "code",
   "execution_count": 29,
   "metadata": {},
   "outputs": [
    {
     "name": "stdout",
     "output_type": "stream",
     "text": [
      "[14, 16, 39, 39, 41, 41]\n",
      "True\n"
     ]
    }
   ],
   "source": [
    "print(game())\n",
    "print(callable(game))"
   ]
  },
  {
   "cell_type": "markdown",
   "metadata": {},
   "source": [
    "## (4) 매개변수 입력 (*args, **kwargs)"
   ]
  },
  {
   "cell_type": "code",
   "execution_count": 31,
   "metadata": {},
   "outputs": [],
   "source": [
    "def args_test(name, *contents, point=None, **attrs): \n",
    "    return '<args_test> -> (name: {}) (contents: {}) (point: {}) (attrs: {})'.format(name, contents, point, attrs)"
   ]
  },
  {
   "cell_type": "code",
   "execution_count": 32,
   "metadata": {},
   "outputs": [
    {
     "name": "stdout",
     "output_type": "stream",
     "text": [
      "<args_test> -> (name: test1) (contents: ()) (point: None) (attrs: {})\n"
     ]
    }
   ],
   "source": [
    "print(args_test('test1'))"
   ]
  },
  {
   "cell_type": "code",
   "execution_count": 34,
   "metadata": {},
   "outputs": [
    {
     "name": "stdout",
     "output_type": "stream",
     "text": [
      "<args_test> -> (name: test1) (contents: ('test2',)) (point: None) (attrs: {})\n"
     ]
    }
   ],
   "source": [
    "print(args_test('test1', 'test2'))"
   ]
  },
  {
   "cell_type": "code",
   "execution_count": 36,
   "metadata": {},
   "outputs": [
    {
     "name": "stdout",
     "output_type": "stream",
     "text": [
      "<args_test> -> (name: test1) (contents: ('test2', 'test3')) (point: None) (attrs: {'id': 'admin'})\n"
     ]
    }
   ],
   "source": [
    "print(args_test('test1', 'test2', 'test3', id='admin'))"
   ]
  },
  {
   "cell_type": "code",
   "execution_count": 37,
   "metadata": {},
   "outputs": [
    {
     "name": "stdout",
     "output_type": "stream",
     "text": [
      "<args_test> -> (name: test1) (contents: ('test2', 'test3')) (point: 7) (attrs: {'id': 'admin'})\n"
     ]
    }
   ],
   "source": [
    "print(args_test('test1', 'test2', 'test3', id='admin', point=7))"
   ]
  },
  {
   "cell_type": "code",
   "execution_count": 40,
   "metadata": {},
   "outputs": [
    {
     "name": "stdout",
     "output_type": "stream",
     "text": [
      "<args_test> -> (name: test1) (contents: ('test2', 'test3')) (point: 7) (attrs: {'id': 'admin', 'password': '1234'})\n"
     ]
    }
   ],
   "source": [
    "print(args_test('test1', 'test2', 'test3', id='admin', point=7, password='1234'))"
   ]
  },
  {
   "cell_type": "markdown",
   "metadata": {},
   "source": [
    "## (5) 함수 Signature \n",
    ": 함수의 인자에 대한 정보를 표시해줄 수 있는 클래스 형태의 메소드"
   ]
  },
  {
   "cell_type": "code",
   "execution_count": 41,
   "metadata": {},
   "outputs": [],
   "source": [
    "from inspect import signature "
   ]
  },
  {
   "cell_type": "code",
   "execution_count": 42,
   "metadata": {},
   "outputs": [
    {
     "name": "stdout",
     "output_type": "stream",
     "text": [
      "(name, *contents, point=None, **attrs)\n",
      "OrderedDict([('name', <Parameter \"name\">), ('contents', <Parameter \"*contents\">), ('point', <Parameter \"point=None\">), ('attrs', <Parameter \"**attrs\">)])\n"
     ]
    }
   ],
   "source": [
    "sg = signature(args_test)\n",
    "\n",
    "print(sg)  # args_test의 파라미터\n",
    "print(sg.parameters) # args_test의 파라미터 정보가 orderedDict 타입으로 나옴."
   ]
  },
  {
   "cell_type": "markdown",
   "metadata": {},
   "source": [
    "- 인자의 모든 정보 출력해보기"
   ]
  },
  {
   "cell_type": "code",
   "execution_count": 46,
   "metadata": {},
   "outputs": [
    {
     "name": "stdout",
     "output_type": "stream",
     "text": [
      "name || POSITIONAL_OR_KEYWORD || <class 'inspect._empty'>\n",
      "contents || VAR_POSITIONAL || <class 'inspect._empty'>\n",
      "point || KEYWORD_ONLY || None\n",
      "attrs || VAR_KEYWORD || <class 'inspect._empty'>\n"
     ]
    }
   ],
   "source": [
    "for name, params in sg.parameters.items(): \n",
    "    print(name, params.kind, params.default, sep=' || ')"
   ]
  },
  {
   "cell_type": "markdown",
   "metadata": {},
   "source": [
    "## (6) partial\n",
    ": **인수를 고정하는 용도**\n",
    "1. 주로 특정 인수를 고정한 후 콜백함수에 사용 \n",
    "2. 하나 이상의 인수가 이미 할당된 함수의 새 버전 반환 \n",
    "3. 함수의 새 객체 타입은 이전함수의 자체를 기술하고 있음 "
   ]
  },
  {
   "cell_type": "code",
   "execution_count": 48,
   "metadata": {},
   "outputs": [],
   "source": [
    "from functools import partial \n",
    "from operator import mul"
   ]
  },
  {
   "cell_type": "code",
   "execution_count": 50,
   "metadata": {},
   "outputs": [
    {
     "name": "stdout",
     "output_type": "stream",
     "text": [
      "1000\n",
      "1000\n"
     ]
    }
   ],
   "source": [
    "# mul 함수 사용 예\n",
    "print(10 * 100)\n",
    "print(mul(10, 100))"
   ]
  },
  {
   "cell_type": "markdown",
   "metadata": {},
   "source": [
    "- __cf)  mul 함수는 왜 있나__<br>\n",
    ": mul과 같은 함수를 인수로 받는 경우가 있기 때문이다. "
   ]
  },
  {
   "cell_type": "markdown",
   "metadata": {},
   "source": [
    "- 인수 고정"
   ]
  },
  {
   "cell_type": "code",
   "execution_count": 52,
   "metadata": {},
   "outputs": [],
   "source": [
    "five = partial(mul, 5) # ---> mul(5) 이 상태로 고정시켜 놓겠다. "
   ]
  },
  {
   "cell_type": "code",
   "execution_count": 53,
   "metadata": {},
   "outputs": [],
   "source": [
    "six = partial(five, 6) # ---> mul(5, 6) 이 상태로 고정"
   ]
  },
  {
   "cell_type": "markdown",
   "metadata": {},
   "source": [
    "- 사용"
   ]
  },
  {
   "cell_type": "code",
   "execution_count": 54,
   "metadata": {},
   "outputs": [
    {
     "name": "stdout",
     "output_type": "stream",
     "text": [
      "500\n"
     ]
    }
   ],
   "source": [
    "print(five(100)) # 한 개만 받을 수 있음"
   ]
  },
  {
   "cell_type": "code",
   "execution_count": 55,
   "metadata": {},
   "outputs": [
    {
     "ename": "TypeError",
     "evalue": "mul expected 2 arguments, got 3",
     "output_type": "error",
     "traceback": [
      "\u001b[1;31m---------------------------------------------------------------------------\u001b[0m",
      "\u001b[1;31mTypeError\u001b[0m                                 Traceback (most recent call last)",
      "\u001b[1;32m<ipython-input-55-0b3686fb7229>\u001b[0m in \u001b[0;36m<module>\u001b[1;34m\u001b[0m\n\u001b[1;32m----> 1\u001b[1;33m \u001b[0mprint\u001b[0m\u001b[1;33m(\u001b[0m\u001b[0msix\u001b[0m\u001b[1;33m(\u001b[0m\u001b[1;36m100\u001b[0m\u001b[1;33m)\u001b[0m\u001b[1;33m)\u001b[0m \u001b[1;31m# 오류. 아무 것도 받을 수 없음\u001b[0m\u001b[1;33m\u001b[0m\u001b[1;33m\u001b[0m\u001b[0m\n\u001b[0m",
      "\u001b[1;31mTypeError\u001b[0m: mul expected 2 arguments, got 3"
     ]
    }
   ],
   "source": [
    "print(six(100)) # 오류. 아무 것도 받을 수 없음 "
   ]
  },
  {
   "cell_type": "code",
   "execution_count": 56,
   "metadata": {},
   "outputs": [
    {
     "name": "stdout",
     "output_type": "stream",
     "text": [
      "30\n"
     ]
    }
   ],
   "source": [
    "print(six())"
   ]
  },
  {
   "cell_type": "code",
   "execution_count": 57,
   "metadata": {},
   "outputs": [
    {
     "name": "stdout",
     "output_type": "stream",
     "text": [
      "[5, 10, 15, 20, 25, 30, 35, 40, 45, 50]\n"
     ]
    },
    {
     "data": {
      "text/plain": [
       "[5, 10, 15, 20, 25, 30, 35, 40, 45, 50]"
      ]
     },
     "execution_count": 57,
     "metadata": {},
     "output_type": "execute_result"
    }
   ],
   "source": [
    "print([five(i) for i in range(1, 11)])\n",
    "list(map(five, range(1, 11)))"
   ]
  },
  {
   "cell_type": "code",
   "execution_count": null,
   "metadata": {},
   "outputs": [],
   "source": []
  },
  {
   "cell_type": "code",
   "execution_count": null,
   "metadata": {},
   "outputs": [],
   "source": []
  },
  {
   "cell_type": "code",
   "execution_count": null,
   "metadata": {},
   "outputs": [],
   "source": []
  },
  {
   "cell_type": "code",
   "execution_count": null,
   "metadata": {},
   "outputs": [],
   "source": []
  },
  {
   "cell_type": "code",
   "execution_count": null,
   "metadata": {},
   "outputs": [],
   "source": []
  },
  {
   "cell_type": "code",
   "execution_count": null,
   "metadata": {},
   "outputs": [],
   "source": []
  },
  {
   "cell_type": "code",
   "execution_count": null,
   "metadata": {},
   "outputs": [],
   "source": []
  },
  {
   "cell_type": "code",
   "execution_count": null,
   "metadata": {},
   "outputs": [],
   "source": []
  }
 ],
 "metadata": {
  "kernelspec": {
   "display_name": "Python 3",
   "language": "python",
   "name": "python3"
  },
  "language_info": {
   "codemirror_mode": {
    "name": "ipython",
    "version": 3
   },
   "file_extension": ".py",
   "mimetype": "text/x-python",
   "name": "python",
   "nbconvert_exporter": "python",
   "pygments_lexer": "ipython3",
   "version": "3.7.3"
  }
 },
 "nbformat": 4,
 "nbformat_minor": 4
}
