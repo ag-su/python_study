{
 "cells": [
  {
   "cell_type": "markdown",
   "metadata": {},
   "source": [
    "# 7. 해시테이블 (hashtable)"
   ]
  },
  {
   "cell_type": "markdown",
   "metadata": {},
   "source": [
    "## - 해시테이블 \n",
    "- 작은 리소스로 많은 데이터를 효율적으로 관리한다. \n",
    "- __key, value__를 기반으로 데이터를 저장한다. \n",
    "- __Hash값__을 확인함으로써 __중복__이 허용되는지 안되는지 확인할 수 있다. "
   ]
  },
  {
   "cell_type": "code",
   "execution_count": 2,
   "metadata": {},
   "outputs": [
    {
     "name": "stdout",
     "output_type": "stream",
     "text": [
      "5737367089334957572\n"
     ]
    }
   ],
   "source": [
    "# Hash값 확인 -> 중복 허용 확인\n",
    "t1 = (10, 20, (30, 40, 50))\n",
    "t2 = (10, 20, [30, 40, 50])\n",
    "\n",
    "print(hash(t1))\n",
    "# print(hash(t2))  # 리스트가 포함되어 있기 때문에 해쉬를 쓸 수 없음"
   ]
  },
  {
   "cell_type": "markdown",
   "metadata": {},
   "source": [
    "## - 지능형 딕셔너리 (Comprehending Dict)\n",
    ": 예제: 국가코드 csv 파일 -> tuple 변환 -> Dictionary 변환 "
   ]
  },
  {
   "cell_type": "markdown",
   "metadata": {},
   "source": [
    "- (1) __csv__ 파일 불러와서 __tuple__로 변환 (파일: 패캠 제공) "
   ]
  },
  {
   "cell_type": "code",
   "execution_count": 31,
   "metadata": {},
   "outputs": [
    {
     "name": "stdout",
     "output_type": "stream",
     "text": [
      "\n",
      "[('Afghanistan', 'AF'), ('Åland Islands', 'AX'), ('Albania', 'AL'), ('Algeria', 'DZ'), ('American Samoa', 'AS'), ('Andorra', 'AD'), ('Angola', 'AO'), ('Anguilla', 'AI'), ('Antarctica', 'AQ'), ('Antigua and Barbuda', 'AG'), ('Argentina', 'AR'), ('Armenia', 'AM'), ('Aruba', 'AW'), ('Australia', 'AU'), ('Austria', 'AT'), ('Azerbaijan', 'AZ'), ('Bahamas', 'BS'), ('Bahrain', 'BH'), ('Bangladesh', 'BD'), ('Barbados', 'BB'), ('Belarus', 'BY'), ('Belgium', 'BE'), ('Belize', 'BZ'), ('Benin', 'BJ'), ('Bermuda', 'BM'), ('Bhutan', 'BT'), ('Bolivia, Plurinational State of', 'BO'), ('Bonaire, Sint Eustatius and Saba', 'BQ'), ('Bosnia and Herzegovina', 'BA'), ('Botswana', 'BW'), ('Bouvet Island', 'BV'), ('Brazil', 'BR'), ('British Indian Ocean Territory', 'IO'), ('Brunei Darussalam', 'BN'), ('Bulgaria', 'BG'), ('Burkina Faso', 'BF'), ('Burundi', 'BI'), ('Cambodia', 'KH'), ('Cameroon', 'CM'), ('Canada', 'CA'), ('Cape Verde', 'CV'), ('Cayman Islands', 'KY'), ('Central African Republic', 'CF'), ('Chad', 'TD'), ('Chile', 'CL'), ('China', 'CN'), ('Christmas Island', 'CX'), ('Cocos (Keeling) Islands', 'CC'), ('Colombia', 'CO'), ('Comoros', 'KM'), ('Congo', 'CG'), ('Congo, the Democratic Republic of the', 'CD'), ('Cook Islands', 'CK'), ('Costa Rica', 'CR'), (\"Côte d'Ivoire\", 'CI'), ('Croatia', 'HR'), ('Cuba', 'CU'), ('Curaçao', 'CW'), ('Cyprus', 'CY'), ('Czech Republic', 'CZ'), ('Denmark', 'DK'), ('Djibouti', 'DJ'), ('Dominica', 'DM'), ('Dominican Republic', 'DO'), ('Ecuador', 'EC'), ('Egypt', 'EG'), ('El Salvador', 'SV'), ('Equatorial Guinea', 'GQ'), ('Eritrea', 'ER'), ('Estonia', 'EE'), ('Ethiopia', 'ET'), ('Falkland Islands (Malvinas)', 'FK'), ('Faroe Islands', 'FO'), ('Fiji', 'FJ'), ('Finland', 'FI'), ('France', 'FR'), ('French Guiana', 'GF'), ('French Polynesia', 'PF'), ('French Southern Territories', 'TF'), ('Gabon', 'GA'), ('Gambia', 'GM'), ('Georgia', 'GE'), ('Germany', 'DE'), ('Ghana', 'GH'), ('Gibraltar', 'GI'), ('Greece', 'GR'), ('Greenland', 'GL'), ('Grenada', 'GD'), ('Guadeloupe', 'GP'), ('Guam', 'GU'), ('Guatemala', 'GT'), ('Guernsey', 'GG'), ('Guinea', 'GN'), ('Guinea-Bissau', 'GW'), ('Guyana', 'GY'), ('Haiti', 'HT'), ('Heard Island and McDonald Islands', 'HM'), ('Holy See (Vatican City State)', 'VA'), ('Honduras', 'HN'), ('Hong Kong', 'HK'), ('Hungary', 'HU'), ('Iceland', 'IS'), ('India', 'IN'), ('Indonesia', 'ID'), ('Iran, Islamic Republic of', 'IR'), ('Iraq', 'IQ'), ('Ireland', 'IE'), ('Isle of Man', 'IM'), ('Israel', 'IL'), ('Italy', 'IT'), ('Jamaica', 'JM'), ('Japan', 'JP'), ('Jersey', 'JE'), ('Jordan', 'JO'), ('Kazakhstan', 'KZ'), ('Kenya', 'KE'), ('Kiribati', 'KI'), (\"Korea, Democratic People's Republic of\", 'KP'), ('Korea, Republic of', 'KR'), ('Kuwait', 'KW'), ('Kyrgyzstan', 'KG'), (\"Lao People's Democratic Republic\", 'LA'), ('Latvia', 'LV'), ('Lebanon', 'LB'), ('Lesotho', 'LS'), ('Liberia', 'LR'), ('Libya', 'LY'), ('Liechtenstein', 'LI'), ('Lithuania', 'LT'), ('Luxembourg', 'LU'), ('Macao', 'MO'), ('Macedonia, the Former Yugoslav Republic of', 'MK'), ('Madagascar', 'MG'), ('Malawi', 'MW'), ('Malaysia', 'MY'), ('Maldives', 'MV'), ('Mali', 'ML'), ('Malta', 'MT'), ('Marshall Islands', 'MH'), ('Martinique', 'MQ'), ('Mauritania', 'MR'), ('Mauritius', 'MU'), ('Mayotte', 'YT'), ('Mexico', 'MX'), ('Micronesia, Federated States of', 'FM'), ('Moldova, Republic of', 'MD'), ('Monaco', 'MC'), ('Mongolia', 'MN'), ('Montenegro', 'ME'), ('Montserrat', 'MS'), ('Morocco', 'MA'), ('Mozambique', 'MZ'), ('Myanmar', 'MM'), ('Namibia', 'NA'), ('Nauru', 'NR'), ('Nepal', 'NP'), ('Netherlands', 'NL'), ('New Caledonia', 'NC'), ('New Zealand', 'NZ'), ('Nicaragua', 'NI'), ('Niger', 'NE'), ('Nigeria', 'NG'), ('Niue', 'NU'), ('Norfolk Island', 'NF'), ('Northern Mariana Islands', 'MP'), ('Norway', 'NO'), ('Oman', 'OM'), ('Pakistan', 'PK'), ('Palau', 'PW'), ('Palestine, State of', 'PS'), ('Panama', 'PA'), ('Papua New Guinea', 'PG'), ('Paraguay', 'PY'), ('Peru', 'PE'), ('Philippines', 'PH'), ('Pitcairn', 'PN'), ('Poland', 'PL'), ('Portugal', 'PT'), ('Puerto Rico', 'PR'), ('Qatar', 'QA'), ('Réunion', 'RE'), ('Romania', 'RO'), ('Russian Federation', 'RU'), ('Rwanda', 'RW'), ('Saint Barthélemy', 'BL'), ('Saint Helena, Ascension and Tristan da Cunha', 'SH'), ('Saint Kitts and Nevis', 'KN'), ('Saint Lucia', 'LC'), ('Saint Martin (French part)', 'MF'), ('Saint Pierre and Miquelon', 'PM'), ('Saint Vincent and the Grenadines', 'VC'), ('Samoa', 'WS'), ('San Marino', 'SM'), ('Sao Tome and Principe', 'ST'), ('Saudi Arabia', 'SA'), ('Senegal', 'SN'), ('Serbia', 'RS'), ('Seychelles', 'SC'), ('Sierra Leone', 'SL'), ('Singapore', 'SG'), ('Sint Maarten (Dutch part)', 'SX'), ('Slovakia', 'SK'), ('Slovenia', 'SI'), ('Solomon Islands', 'SB'), ('Somalia', 'SO'), ('South Africa', 'ZA'), ('South Georgia and the South Sandwich Islands', 'GS'), ('South Sudan', 'SS'), ('Spain', 'ES'), ('Sri Lanka', 'LK'), ('Sudan', 'SD'), ('Suriname', 'SR'), ('Svalbard and Jan Mayen', 'SJ'), ('Swaziland', 'SZ'), ('Sweden', 'SE'), ('Switzerland', 'CH'), ('Syrian Arab Republic', 'SY'), ('Taiwan, Province of China', 'TW'), ('Tajikistan', 'TJ'), ('Tanzania, United Republic of', 'TZ'), ('Thailand', 'TH'), ('Timor-Leste', 'TL'), ('Togo', 'TG'), ('Tokelau', 'TK'), ('Tonga', 'TO'), ('Trinidad and Tobago', 'TT'), ('Tunisia', 'TN'), ('Turkey', 'TR'), ('Turkmenistan', 'TM'), ('Turks and Caicos Islands', 'TC'), ('Tuvalu', 'TV'), ('Uganda', 'UG'), ('Ukraine', 'UA'), ('United Arab Emirates', 'AE'), ('United Kingdom', 'GB'), ('United States', 'US'), ('United States Minor Outlying Islands', 'UM'), ('Uruguay', 'UY'), ('Uzbekistan', 'UZ'), ('Vanuatu', 'VU'), ('Venezuela, Bolivarian Republic of', 'VE'), ('Viet Nam', 'VN'), ('Virgin Islands, British', 'VG'), ('Virgin Islands, U.S.', 'VI'), ('Wallis and Futuna', 'WF'), ('Western Sahara', 'EH'), ('Yemen', 'YE'), ('Zambia', 'ZM'), ('Zimbabwe', 'ZW')]\n"
     ]
    }
   ],
   "source": [
    "import csv\n",
    "from os import kill\n",
    "\n",
    "# 외부 csv -> list of tuple \n",
    "with open('./resources/test1.csv', 'r', encoding='UTF-8') as f: \n",
    "    temp = csv.reader(f)\n",
    "    # Header Skip \n",
    "    next(temp)\n",
    "    print()\n",
    "    \n",
    "    # 변환\n",
    "    NA_CODES = [tuple(x) for x in temp]\n",
    "    \n",
    "print(NA_CODES)"
   ]
  },
  {
   "cell_type": "markdown",
   "metadata": {},
   "source": [
    "- (2) **Dictionary**로 변환 (지능형 **Dictionary** 사용)"
   ]
  },
  {
   "cell_type": "code",
   "execution_count": 32,
   "metadata": {},
   "outputs": [],
   "source": [
    "n_code1 = {country: code for country, code in NA_CODES}\n",
    "n_code2 = {country.upper(): code for country, code in NA_CODES}"
   ]
  },
  {
   "cell_type": "markdown",
   "metadata": {},
   "source": [
    "## - Dict Setdefault"
   ]
  },
  {
   "cell_type": "code",
   "execution_count": 39,
   "metadata": {},
   "outputs": [],
   "source": [
    "source = (('k1', 'val1'),\n",
    "         ('k1', 'val2'),\n",
    "         ('k2', 'val3'),\n",
    "         ('k2', 'val4'),\n",
    "         ('k2', 'val5'))\n",
    "\n",
    "new_dict1 = {}\n",
    "new_dict2 = {}"
   ]
  },
  {
   "cell_type": "markdown",
   "metadata": {},
   "source": [
    "- (1) No use setdefault"
   ]
  },
  {
   "cell_type": "code",
   "execution_count": 40,
   "metadata": {},
   "outputs": [
    {
     "name": "stdout",
     "output_type": "stream",
     "text": [
      "{'k1': ['val1', 'val2'], 'k2': ['val3', 'val4', 'val5']}\n"
     ]
    }
   ],
   "source": [
    "for k, v in source: \n",
    "    if k in new_dict1: \n",
    "        new_dict1[k].append(v)\n",
    "    else: \n",
    "        new_dict1[k] = [v]\n",
    "        \n",
    "print(new_dict1)"
   ]
  },
  {
   "cell_type": "markdown",
   "metadata": {},
   "source": [
    "- (2) Use setdefault (이것의 성능이 더 좋다.)"
   ]
  },
  {
   "cell_type": "code",
   "execution_count": 41,
   "metadata": {},
   "outputs": [
    {
     "name": "stdout",
     "output_type": "stream",
     "text": [
      "{'k1': ['val1', 'val2'], 'k2': ['val3', 'val4', 'val5']}\n"
     ]
    }
   ],
   "source": [
    "for k, v in source: \n",
    "    new_dict2.setdefault(k, []).append(v)\n",
    "print(new_dict2)"
   ]
  },
  {
   "cell_type": "markdown",
   "metadata": {},
   "source": [
    "## 사용자 정의 dict 상속"
   ]
  },
  {
   "cell_type": "code",
   "execution_count": null,
   "metadata": {},
   "outputs": [],
   "source": []
  },
  {
   "cell_type": "code",
   "execution_count": null,
   "metadata": {},
   "outputs": [],
   "source": []
  },
  {
   "cell_type": "code",
   "execution_count": null,
   "metadata": {},
   "outputs": [],
   "source": []
  },
  {
   "cell_type": "code",
   "execution_count": null,
   "metadata": {},
   "outputs": [],
   "source": []
  },
  {
   "cell_type": "code",
   "execution_count": null,
   "metadata": {},
   "outputs": [],
   "source": []
  },
  {
   "cell_type": "code",
   "execution_count": null,
   "metadata": {},
   "outputs": [],
   "source": []
  },
  {
   "cell_type": "code",
   "execution_count": null,
   "metadata": {},
   "outputs": [],
   "source": []
  }
 ],
 "metadata": {
  "kernelspec": {
   "display_name": "Python 3",
   "language": "python",
   "name": "python3"
  },
  "language_info": {
   "codemirror_mode": {
    "name": "ipython",
    "version": 3
   },
   "file_extension": ".py",
   "mimetype": "text/x-python",
   "name": "python",
   "nbconvert_exporter": "python",
   "pygments_lexer": "ipython3",
   "version": "3.7.3"
  }
 },
 "nbformat": 4,
 "nbformat_minor": 4
}
