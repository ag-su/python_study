{
 "cells": [
  {
   "cell_type": "markdown",
   "metadata": {},
   "source": [
    "# 7. 해시테이블 (hashtable)"
   ]
  },
  {
   "cell_type": "markdown",
   "metadata": {},
   "source": [
    "## - 해시테이블 \n",
    "- 작은 리소스로 많은 데이터를 효율적으로 관리한다. \n",
    "- __key, value__를 기반으로 데이터를 저장한다. \n",
    "- __Hash값__을 확인함으로써 __중복__이 허용되는지 안되는지 확인할 수 있다. "
   ]
  },
  {
   "cell_type": "code",
   "execution_count": 2,
   "metadata": {},
   "outputs": [
    {
     "name": "stdout",
     "output_type": "stream",
     "text": [
      "5737367089334957572\n"
     ]
    }
   ],
   "source": [
    "# Hash값 확인 -> 중복 허용 확인\n",
    "t1 = (10, 20, (30, 40, 50))\n",
    "t2 = (10, 20, [30, 40, 50])\n",
    "\n",
    "print(hash(t1))\n",
    "# print(hash(t2))  # 리스트가 포함되어 있기 때문에 해쉬를 쓸 수 없음"
   ]
  },
  {
   "cell_type": "markdown",
   "metadata": {},
   "source": [
    "## - 지능형 딕셔너리 (Comprehending Dict)\n",
    ": 예제: 국가코드 csv 파일 -> tuple 변환 -> Dictionary 변환 "
   ]
  },
  {
   "cell_type": "markdown",
   "metadata": {},
   "source": [
    "- (1) __csv__ 파일 불러와서 __tuple__로 변환 (파일: 패캠 제공) "
   ]
  },
  {
   "cell_type": "code",
   "execution_count": 31,
   "metadata": {},
   "outputs": [
    {
     "name": "stdout",
     "output_type": "stream",
     "text": [
      "\n",
      "[('Afghanistan', 'AF'), ('Åland Islands', 'AX'), ('Albania', 'AL'), ('Algeria', 'DZ'), ('American Samoa', 'AS'), ('Andorra', 'AD'), ('Angola', 'AO'), ('Anguilla', 'AI'), ('Antarctica', 'AQ'), ('Antigua and Barbuda', 'AG'), ('Argentina', 'AR'), ('Armenia', 'AM'), ('Aruba', 'AW'), ('Australia', 'AU'), ('Austria', 'AT'), ('Azerbaijan', 'AZ'), ('Bahamas', 'BS'), ('Bahrain', 'BH'), ('Bangladesh', 'BD'), ('Barbados', 'BB'), ('Belarus', 'BY'), ('Belgium', 'BE'), ('Belize', 'BZ'), ('Benin', 'BJ'), ('Bermuda', 'BM'), ('Bhutan', 'BT'), ('Bolivia, Plurinational State of', 'BO'), ('Bonaire, Sint Eustatius and Saba', 'BQ'), ('Bosnia and Herzegovina', 'BA'), ('Botswana', 'BW'), ('Bouvet Island', 'BV'), ('Brazil', 'BR'), ('British Indian Ocean Territory', 'IO'), ('Brunei Darussalam', 'BN'), ('Bulgaria', 'BG'), ('Burkina Faso', 'BF'), ('Burundi', 'BI'), ('Cambodia', 'KH'), ('Cameroon', 'CM'), ('Canada', 'CA'), ('Cape Verde', 'CV'), ('Cayman Islands', 'KY'), ('Central African Republic', 'CF'), ('Chad', 'TD'), ('Chile', 'CL'), ('China', 'CN'), ('Christmas Island', 'CX'), ('Cocos (Keeling) Islands', 'CC'), ('Colombia', 'CO'), ('Comoros', 'KM'), ('Congo', 'CG'), ('Congo, the Democratic Republic of the', 'CD'), ('Cook Islands', 'CK'), ('Costa Rica', 'CR'), (\"Côte d'Ivoire\", 'CI'), ('Croatia', 'HR'), ('Cuba', 'CU'), ('Curaçao', 'CW'), ('Cyprus', 'CY'), ('Czech Republic', 'CZ'), ('Denmark', 'DK'), ('Djibouti', 'DJ'), ('Dominica', 'DM'), ('Dominican Republic', 'DO'), ('Ecuador', 'EC'), ('Egypt', 'EG'), ('El Salvador', 'SV'), ('Equatorial Guinea', 'GQ'), ('Eritrea', 'ER'), ('Estonia', 'EE'), ('Ethiopia', 'ET'), ('Falkland Islands (Malvinas)', 'FK'), ('Faroe Islands', 'FO'), ('Fiji', 'FJ'), ('Finland', 'FI'), ('France', 'FR'), ('French Guiana', 'GF'), ('French Polynesia', 'PF'), ('French Southern Territories', 'TF'), ('Gabon', 'GA'), ('Gambia', 'GM'), ('Georgia', 'GE'), ('Germany', 'DE'), ('Ghana', 'GH'), ('Gibraltar', 'GI'), ('Greece', 'GR'), ('Greenland', 'GL'), ('Grenada', 'GD'), ('Guadeloupe', 'GP'), ('Guam', 'GU'), ('Guatemala', 'GT'), ('Guernsey', 'GG'), ('Guinea', 'GN'), ('Guinea-Bissau', 'GW'), ('Guyana', 'GY'), ('Haiti', 'HT'), ('Heard Island and McDonald Islands', 'HM'), ('Holy See (Vatican City State)', 'VA'), ('Honduras', 'HN'), ('Hong Kong', 'HK'), ('Hungary', 'HU'), ('Iceland', 'IS'), ('India', 'IN'), ('Indonesia', 'ID'), ('Iran, Islamic Republic of', 'IR'), ('Iraq', 'IQ'), ('Ireland', 'IE'), ('Isle of Man', 'IM'), ('Israel', 'IL'), ('Italy', 'IT'), ('Jamaica', 'JM'), ('Japan', 'JP'), ('Jersey', 'JE'), ('Jordan', 'JO'), ('Kazakhstan', 'KZ'), ('Kenya', 'KE'), ('Kiribati', 'KI'), (\"Korea, Democratic People's Republic of\", 'KP'), ('Korea, Republic of', 'KR'), ('Kuwait', 'KW'), ('Kyrgyzstan', 'KG'), (\"Lao People's Democratic Republic\", 'LA'), ('Latvia', 'LV'), ('Lebanon', 'LB'), ('Lesotho', 'LS'), ('Liberia', 'LR'), ('Libya', 'LY'), ('Liechtenstein', 'LI'), ('Lithuania', 'LT'), ('Luxembourg', 'LU'), ('Macao', 'MO'), ('Macedonia, the Former Yugoslav Republic of', 'MK'), ('Madagascar', 'MG'), ('Malawi', 'MW'), ('Malaysia', 'MY'), ('Maldives', 'MV'), ('Mali', 'ML'), ('Malta', 'MT'), ('Marshall Islands', 'MH'), ('Martinique', 'MQ'), ('Mauritania', 'MR'), ('Mauritius', 'MU'), ('Mayotte', 'YT'), ('Mexico', 'MX'), ('Micronesia, Federated States of', 'FM'), ('Moldova, Republic of', 'MD'), ('Monaco', 'MC'), ('Mongolia', 'MN'), ('Montenegro', 'ME'), ('Montserrat', 'MS'), ('Morocco', 'MA'), ('Mozambique', 'MZ'), ('Myanmar', 'MM'), ('Namibia', 'NA'), ('Nauru', 'NR'), ('Nepal', 'NP'), ('Netherlands', 'NL'), ('New Caledonia', 'NC'), ('New Zealand', 'NZ'), ('Nicaragua', 'NI'), ('Niger', 'NE'), ('Nigeria', 'NG'), ('Niue', 'NU'), ('Norfolk Island', 'NF'), ('Northern Mariana Islands', 'MP'), ('Norway', 'NO'), ('Oman', 'OM'), ('Pakistan', 'PK'), ('Palau', 'PW'), ('Palestine, State of', 'PS'), ('Panama', 'PA'), ('Papua New Guinea', 'PG'), ('Paraguay', 'PY'), ('Peru', 'PE'), ('Philippines', 'PH'), ('Pitcairn', 'PN'), ('Poland', 'PL'), ('Portugal', 'PT'), ('Puerto Rico', 'PR'), ('Qatar', 'QA'), ('Réunion', 'RE'), ('Romania', 'RO'), ('Russian Federation', 'RU'), ('Rwanda', 'RW'), ('Saint Barthélemy', 'BL'), ('Saint Helena, Ascension and Tristan da Cunha', 'SH'), ('Saint Kitts and Nevis', 'KN'), ('Saint Lucia', 'LC'), ('Saint Martin (French part)', 'MF'), ('Saint Pierre and Miquelon', 'PM'), ('Saint Vincent and the Grenadines', 'VC'), ('Samoa', 'WS'), ('San Marino', 'SM'), ('Sao Tome and Principe', 'ST'), ('Saudi Arabia', 'SA'), ('Senegal', 'SN'), ('Serbia', 'RS'), ('Seychelles', 'SC'), ('Sierra Leone', 'SL'), ('Singapore', 'SG'), ('Sint Maarten (Dutch part)', 'SX'), ('Slovakia', 'SK'), ('Slovenia', 'SI'), ('Solomon Islands', 'SB'), ('Somalia', 'SO'), ('South Africa', 'ZA'), ('South Georgia and the South Sandwich Islands', 'GS'), ('South Sudan', 'SS'), ('Spain', 'ES'), ('Sri Lanka', 'LK'), ('Sudan', 'SD'), ('Suriname', 'SR'), ('Svalbard and Jan Mayen', 'SJ'), ('Swaziland', 'SZ'), ('Sweden', 'SE'), ('Switzerland', 'CH'), ('Syrian Arab Republic', 'SY'), ('Taiwan, Province of China', 'TW'), ('Tajikistan', 'TJ'), ('Tanzania, United Republic of', 'TZ'), ('Thailand', 'TH'), ('Timor-Leste', 'TL'), ('Togo', 'TG'), ('Tokelau', 'TK'), ('Tonga', 'TO'), ('Trinidad and Tobago', 'TT'), ('Tunisia', 'TN'), ('Turkey', 'TR'), ('Turkmenistan', 'TM'), ('Turks and Caicos Islands', 'TC'), ('Tuvalu', 'TV'), ('Uganda', 'UG'), ('Ukraine', 'UA'), ('United Arab Emirates', 'AE'), ('United Kingdom', 'GB'), ('United States', 'US'), ('United States Minor Outlying Islands', 'UM'), ('Uruguay', 'UY'), ('Uzbekistan', 'UZ'), ('Vanuatu', 'VU'), ('Venezuela, Bolivarian Republic of', 'VE'), ('Viet Nam', 'VN'), ('Virgin Islands, British', 'VG'), ('Virgin Islands, U.S.', 'VI'), ('Wallis and Futuna', 'WF'), ('Western Sahara', 'EH'), ('Yemen', 'YE'), ('Zambia', 'ZM'), ('Zimbabwe', 'ZW')]\n"
     ]
    }
   ],
   "source": [
    "import csv\n",
    "from os import kill\n",
    "\n",
    "# 외부 csv -> list of tuple \n",
    "with open('./resources/test1.csv', 'r', encoding='UTF-8') as f: \n",
    "    temp = csv.reader(f)\n",
    "    # Header Skip \n",
    "    next(temp)\n",
    "    print()\n",
    "    \n",
    "    # 변환\n",
    "    NA_CODES = [tuple(x) for x in temp]\n",
    "    \n",
    "print(NA_CODES)"
   ]
  },
  {
   "cell_type": "markdown",
   "metadata": {},
   "source": [
    "- (2) **Dictionary**로 변환 (지능형 **Dictionary** 사용)"
   ]
  },
  {
   "cell_type": "code",
   "execution_count": 32,
   "metadata": {},
   "outputs": [],
   "source": [
    "n_code1 = {country: code for country, code in NA_CODES}\n",
    "n_code2 = {country.upper(): code for country, code in NA_CODES}"
   ]
  },
  {
   "cell_type": "markdown",
   "metadata": {},
   "source": [
    "## - Dict Setdefault"
   ]
  },
  {
   "cell_type": "code",
   "execution_count": 39,
   "metadata": {},
   "outputs": [],
   "source": [
    "source = (('k1', 'val1'),\n",
    "         ('k1', 'val2'),\n",
    "         ('k2', 'val3'),\n",
    "         ('k2', 'val4'),\n",
    "         ('k2', 'val5'))\n",
    "\n",
    "new_dict1 = {}\n",
    "new_dict2 = {}"
   ]
  },
  {
   "cell_type": "markdown",
   "metadata": {},
   "source": [
    "- (1) No use setdefault"
   ]
  },
  {
   "cell_type": "code",
   "execution_count": 40,
   "metadata": {},
   "outputs": [
    {
     "name": "stdout",
     "output_type": "stream",
     "text": [
      "{'k1': ['val1', 'val2'], 'k2': ['val3', 'val4', 'val5']}\n"
     ]
    }
   ],
   "source": [
    "for k, v in source: \n",
    "    if k in new_dict1: \n",
    "        new_dict1[k].append(v)\n",
    "    else: \n",
    "        new_dict1[k] = [v]\n",
    "        \n",
    "print(new_dict1)"
   ]
  },
  {
   "cell_type": "markdown",
   "metadata": {},
   "source": [
    "- (2) Use setdefault (이것의 성능이 더 좋다.)"
   ]
  },
  {
   "cell_type": "code",
   "execution_count": 41,
   "metadata": {},
   "outputs": [
    {
     "name": "stdout",
     "output_type": "stream",
     "text": [
      "{'k1': ['val1', 'val2'], 'k2': ['val3', 'val4', 'val5']}\n"
     ]
    }
   ],
   "source": [
    "for k, v in source: \n",
    "    new_dict2.setdefault(k, []).append(v)\n",
    "print(new_dict2)"
   ]
  },
  {
   "cell_type": "markdown",
   "metadata": {},
   "source": [
    "## 사용자 정의 dict 상속"
   ]
  },
  {
   "cell_type": "code",
   "execution_count": 65,
   "metadata": {},
   "outputs": [],
   "source": [
    "class UserDict(dict): \n",
    "    def __missing__(self, key): \n",
    "        print('Called: __missing__')\n",
    "        if isinstance(key, str): \n",
    "            raise KeyError(key)         \n",
    "        return self[str(key)]\n",
    "    \n",
    "    def get(self, key, default=None): \n",
    "        print('Called: __getitem__')\n",
    "        try:\n",
    "            return self[key]\n",
    "        except KeyError:\n",
    "            return default \n",
    "        \n",
    "    def __contains__(self, key):\n",
    "        print(\"Called: __contains__\")\n",
    "        return key in self.keys() or str(key) in self.keys()"
   ]
  },
  {
   "cell_type": "code",
   "execution_count": 66,
   "metadata": {},
   "outputs": [],
   "source": [
    "user_dict1 = UserDict(one=1, two=2)\n",
    "user_dict2 = UserDict({\"one\": 1, 'two': 2})\n",
    "user_dict3 = UserDict([('one', 1), ('two', 2)])"
   ]
  },
  {
   "cell_type": "code",
   "execution_count": 67,
   "metadata": {},
   "outputs": [
    {
     "name": "stdout",
     "output_type": "stream",
     "text": [
      "{'one': 1, 'two': 2}|{'one': 1, 'two': 2}|{'one': 1, 'two': 2}\n",
      "Called: __getitem__\n",
      "2\n",
      "Called: __contains__\n",
      "True\n",
      "Called: __getitem__\n",
      "Called: __missing__\n",
      "None\n",
      "Called: __contains__\n",
      "False\n"
     ]
    }
   ],
   "source": [
    "print(user_dict1, user_dict2, user_dict3, sep='|')\n",
    "print(user_dict2.get(\"two\"))\n",
    "print(\"one\" in user_dict3)\n",
    "# print(user_dict3['three'])\n",
    "print(user_dict3.get('three'))\n",
    "print('three' in user_dict3)"
   ]
  },
  {
   "cell_type": "markdown",
   "metadata": {},
   "source": [
    "## - Immutable Dict"
   ]
  },
  {
   "cell_type": "code",
   "execution_count": 73,
   "metadata": {},
   "outputs": [],
   "source": [
    "from types import MappingProxyType"
   ]
  },
  {
   "cell_type": "code",
   "execution_count": 74,
   "metadata": {},
   "outputs": [
    {
     "name": "stdout",
     "output_type": "stream",
     "text": [
      "{'key1': 'Test1'} 2288418098128\n",
      "{'key1': 'Test1'} 2288416693176\n",
      "False | True\n"
     ]
    }
   ],
   "source": [
    "d = {'key1': 'Test1'}\n",
    "# Read Only\n",
    "d_frozen = MappingProxyType(d)\n",
    "\n",
    "print(d, id(d))\n",
    "print(d_frozen, id(d_frozen))\n",
    "print(d is d_frozen, d==d_frozen, sep=' | ')"
   ]
  },
  {
   "cell_type": "code",
   "execution_count": 76,
   "metadata": {},
   "outputs": [
    {
     "ename": "TypeError",
     "evalue": "'mappingproxy' object does not support item assignment",
     "output_type": "error",
     "traceback": [
      "\u001b[1;31m---------------------------------------------------------------------------\u001b[0m",
      "\u001b[1;31mTypeError\u001b[0m                                 Traceback (most recent call last)",
      "\u001b[1;32m<ipython-input-76-e742d3ffd7c5>\u001b[0m in \u001b[0;36m<module>\u001b[1;34m\u001b[0m\n\u001b[1;32m----> 1\u001b[1;33m \u001b[0md_frozen\u001b[0m\u001b[1;33m[\u001b[0m\u001b[1;34m'key1'\u001b[0m\u001b[1;33m]\u001b[0m \u001b[1;33m=\u001b[0m \u001b[1;34m'TEST2'\u001b[0m  \u001b[1;31m# 바뀌지 않음. 에러 발생\u001b[0m\u001b[1;33m\u001b[0m\u001b[1;33m\u001b[0m\u001b[0m\n\u001b[0m",
      "\u001b[1;31mTypeError\u001b[0m: 'mappingproxy' object does not support item assignment"
     ]
    }
   ],
   "source": [
    "d_frozen['key1'] = 'TEST2'  # 바뀌지 않음. 에러 발생"
   ]
  },
  {
   "cell_type": "code",
   "execution_count": 77,
   "metadata": {},
   "outputs": [
    {
     "name": "stdout",
     "output_type": "stream",
     "text": [
      "{'key1': 'Test1', 'key2': 'TEST2'} | {'key1': 'Test1', 'key2': 'TEST2'}\n"
     ]
    }
   ],
   "source": [
    "# 원본은 수정 가능, d_frozen 동시 수정\n",
    "d['key2'] = 'TEST2'\n",
    "print(d, d_frozen, sep=' | ')"
   ]
  },
  {
   "cell_type": "markdown",
   "metadata": {},
   "source": [
    "## Set"
   ]
  },
  {
   "cell_type": "code",
   "execution_count": 78,
   "metadata": {},
   "outputs": [],
   "source": [
    "s1 = {'Apple', 'Orange', 'Apple', 'Orange', 'Kiwi'}\n",
    "s2 = set(['Apple', 'Orange', 'Apple', 'Orange', 'kiwi'])\n",
    "s3 = {3}\n",
    "s4 = set()  # {}: 빈 dictionary\n",
    "s5 = frozenset({'Apple', 'Orange', 'Apple', 'Orange', 'Kiwi'})"
   ]
  },
  {
   "cell_type": "code",
   "execution_count": 80,
   "metadata": {},
   "outputs": [],
   "source": [
    "# 추가 \n",
    "s1.add('Melon')\n",
    "# 추가 불가\n",
    "# s5.add('Melon')"
   ]
  },
  {
   "cell_type": "code",
   "execution_count": 82,
   "metadata": {},
   "outputs": [
    {
     "name": "stdout",
     "output_type": "stream",
     "text": [
      "{'Apple', 'Melon', 'Kiwi', 'Orange'} <class 'set'>\n",
      "{'Apple', 'kiwi', 'Orange'} <class 'set'>\n",
      "{3} <class 'set'>\n",
      "set() <class 'set'>\n",
      "frozenset({'Apple', 'Kiwi', 'Orange'}) <class 'frozenset'>\n"
     ]
    }
   ],
   "source": [
    "print(s1, type(s1))\n",
    "print(s2, type(s2))\n",
    "print(s3, type(s3))\n",
    "print(s4, type(s4))\n",
    "print(s5, type(s5))"
   ]
  },
  {
   "cell_type": "code",
   "execution_count": 83,
   "metadata": {},
   "outputs": [],
   "source": [
    "# - 선언 최적화 \n",
    "a = {5}  # --> 이게 더 빠르다. \n",
    "b = set([10])"
   ]
  },
  {
   "cell_type": "markdown",
   "metadata": {},
   "source": [
    "- 증명"
   ]
  },
  {
   "cell_type": "code",
   "execution_count": 84,
   "metadata": {},
   "outputs": [
    {
     "name": "stdout",
     "output_type": "stream",
     "text": [
      "  1           0 LOAD_CONST               0 (10)\n",
      "              2 BUILD_SET                1\n",
      "              4 RETURN_VALUE\n",
      "None\n",
      "\n",
      "  1           0 LOAD_NAME                0 (set)\n",
      "              2 LOAD_CONST               0 (10)\n",
      "              4 BUILD_LIST               1\n",
      "              6 CALL_FUNCTION            1\n",
      "              8 RETURN_VALUE\n",
      "None\n"
     ]
    }
   ],
   "source": [
    "from dis import dis \n",
    "print(dis('{10}'))  # --> 이 코드의 절차가 더 적다. \n",
    "print()\n",
    "print(dis('set([10])'))"
   ]
  },
  {
   "cell_type": "markdown",
   "metadata": {},
   "source": [
    "## - 지능형 집합 comprehending Set"
   ]
  },
  {
   "cell_type": "code",
   "execution_count": 87,
   "metadata": {},
   "outputs": [
    {
     "name": "stdout",
     "output_type": "stream",
     "text": [
      "{'', 'QUOTATION MARK', 'LATIN SMALL LETTER B', 'LATIN CAPITAL LETTER C WITH CEDILLA', 'LATIN CAPITAL LETTER E WITH ACUTE', 'LATIN SMALL LETTER O WITH CIRCUMFLEX', 'BROKEN BAR', 'LATIN SMALL LETTER Y WITH DIAERESIS', 'LATIN SMALL LETTER R', 'LATIN CAPITAL LETTER I WITH DIAERESIS', 'LATIN SMALL LETTER O', 'INVERTED QUESTION MARK', 'DIGIT NINE', 'LATIN CAPITAL LETTER O WITH ACUTE', 'LATIN SMALL LETTER A WITH TILDE', 'LATIN CAPITAL LETTER I', 'LATIN CAPITAL LETTER O WITH DIAERESIS', 'LATIN CAPITAL LETTER W', 'LATIN SMALL LETTER Y', 'LEFT-POINTING DOUBLE ANGLE QUOTATION MARK', 'LATIN CAPITAL LETTER Y', 'POUND SIGN', 'LATIN SMALL LETTER E', 'YEN SIGN', 'PERCENT SIGN', 'GREATER-THAN SIGN', 'LATIN CAPITAL LETTER M', 'LATIN CAPITAL LETTER F', 'LATIN SMALL LETTER K', 'ACUTE ACCENT', 'LATIN SMALL LETTER E WITH ACUTE', 'LATIN CAPITAL LETTER A WITH CIRCUMFLEX', 'MULTIPLICATION SIGN', 'CURRENCY SIGN', 'LATIN CAPITAL LETTER I WITH ACUTE', 'LEFT SQUARE BRACKET', 'LATIN CAPITAL LETTER J', 'GRAVE ACCENT', 'SECTION SIGN', 'LATIN CAPITAL LETTER A WITH DIAERESIS', 'LATIN CAPITAL LETTER ETH', 'DIGIT SEVEN', 'NO-BREAK SPACE', 'LATIN SMALL LETTER J', 'LATIN SMALL LETTER AE', 'LATIN SMALL LETTER F', 'LATIN CAPITAL LETTER P', 'LATIN SMALL LETTER N WITH TILDE', 'LATIN CAPITAL LETTER R', 'LATIN SMALL LETTER O WITH DIAERESIS', 'RIGHT CURLY BRACKET', 'SOLIDUS', 'ASTERISK', 'RIGHT-POINTING DOUBLE ANGLE QUOTATION MARK', 'LATIN SMALL LETTER S', 'LATIN SMALL LETTER E WITH CIRCUMFLEX', 'LATIN CAPITAL LETTER U WITH CIRCUMFLEX', 'LATIN CAPITAL LETTER A', 'LESS-THAN SIGN', 'LATIN CAPITAL LETTER T', 'APOSTROPHE', 'LATIN SMALL LETTER U WITH GRAVE', 'PLUS SIGN', 'LATIN SMALL LETTER G', 'SPACE', 'LATIN SMALL LETTER ETH', 'LATIN CAPITAL LETTER AE', 'RIGHT SQUARE BRACKET', 'MACRON', 'FULL STOP', 'LATIN SMALL LETTER Z', 'LATIN CAPITAL LETTER O WITH STROKE', 'RIGHT PARENTHESIS', 'DIGIT SIX', 'VULGAR FRACTION THREE QUARTERS', 'LATIN CAPITAL LETTER O WITH CIRCUMFLEX', 'LATIN CAPITAL LETTER V', 'VULGAR FRACTION ONE HALF', 'LATIN CAPITAL LETTER D', 'LATIN CAPITAL LETTER N', 'LATIN SMALL LETTER H', 'LATIN CAPITAL LETTER Q', 'LOW LINE', 'DIAERESIS', 'LATIN CAPITAL LETTER A WITH GRAVE', 'LATIN CAPITAL LETTER E WITH DIAERESIS', 'HYPHEN-MINUS', 'SEMICOLON', 'LATIN SMALL LETTER I WITH DIAERESIS', 'LATIN SMALL LETTER A', 'LATIN SMALL LETTER W', 'LATIN CAPITAL LETTER O WITH TILDE', 'SUPERSCRIPT ONE', 'DIGIT FOUR', 'LATIN SMALL LETTER Y WITH ACUTE', 'LATIN CAPITAL LETTER O WITH GRAVE', 'LATIN CAPITAL LETTER A WITH RING ABOVE', 'LATIN CAPITAL LETTER E', 'LATIN SMALL LETTER E WITH DIAERESIS', 'LATIN CAPITAL LETTER S', 'LEFT PARENTHESIS', 'NOT SIGN', 'DIGIT EIGHT', 'LATIN SMALL LETTER L', 'DIGIT ONE', 'LATIN SMALL LETTER A WITH DIAERESIS', 'LATIN SMALL LETTER P', 'LATIN CAPITAL LETTER G', 'DOLLAR SIGN', 'SOFT HYPHEN', 'MIDDLE DOT', 'COMMERCIAL AT', 'FEMININE ORDINAL INDICATOR', 'CENT SIGN', 'COLON', 'LATIN CAPITAL LETTER U', 'LATIN SMALL LETTER A WITH ACUTE', 'LATIN SMALL LETTER I WITH CIRCUMFLEX', 'LATIN SMALL LETTER O WITH STROKE', 'SUPERSCRIPT THREE', 'LATIN SMALL LETTER O WITH GRAVE', 'LATIN SMALL LETTER M', 'DIGIT ZERO', 'LATIN CAPITAL LETTER O', 'REVERSE SOLIDUS', 'LATIN CAPITAL LETTER Y WITH ACUTE', 'LATIN CAPITAL LETTER B', 'LATIN SMALL LETTER C WITH CEDILLA', 'LATIN SMALL LETTER U WITH ACUTE', 'AMPERSAND', 'EXCLAMATION MARK', 'LATIN SMALL LETTER V', 'DIVISION SIGN', 'LATIN CAPITAL LETTER A WITH TILDE', 'LATIN SMALL LETTER THORN', 'LATIN CAPITAL LETTER K', 'LATIN SMALL LETTER O WITH TILDE', 'LATIN SMALL LETTER I WITH ACUTE', 'LATIN CAPITAL LETTER E WITH GRAVE', 'LATIN SMALL LETTER I', 'NUMBER SIGN', 'VULGAR FRACTION ONE QUARTER', 'LATIN CAPITAL LETTER THORN', 'INVERTED EXCLAMATION MARK', 'MASCULINE ORDINAL INDICATOR', 'PLUS-MINUS SIGN', 'LATIN SMALL LETTER T', 'TILDE', 'LATIN SMALL LETTER U WITH DIAERESIS', 'LATIN CAPITAL LETTER U WITH ACUTE', 'PILCROW SIGN', 'CEDILLA', 'CIRCUMFLEX ACCENT', 'DIGIT THREE', 'COMMA', 'LATIN SMALL LETTER D', 'LATIN CAPITAL LETTER I WITH CIRCUMFLEX', 'LATIN SMALL LETTER I WITH GRAVE', 'DIGIT TWO', 'COPYRIGHT SIGN', 'LATIN SMALL LETTER U', 'LATIN CAPITAL LETTER Z', 'LATIN SMALL LETTER Q', 'LATIN SMALL LETTER E WITH GRAVE', 'LEFT CURLY BRACKET', 'EQUALS SIGN', 'LATIN SMALL LETTER A WITH GRAVE', 'LATIN SMALL LETTER A WITH RING ABOVE', 'LATIN SMALL LETTER SHARP S', 'LATIN SMALL LETTER N', 'LATIN CAPITAL LETTER U WITH GRAVE', 'MICRO SIGN', 'LATIN SMALL LETTER O WITH ACUTE', 'LATIN CAPITAL LETTER H', 'LATIN CAPITAL LETTER N WITH TILDE', 'LATIN CAPITAL LETTER L', 'LATIN SMALL LETTER C', 'LATIN CAPITAL LETTER X', 'LATIN SMALL LETTER X', 'LATIN CAPITAL LETTER A WITH ACUTE', 'LATIN SMALL LETTER A WITH CIRCUMFLEX', 'LATIN CAPITAL LETTER E WITH CIRCUMFLEX', 'LATIN SMALL LETTER U WITH CIRCUMFLEX', 'QUESTION MARK', 'DIGIT FIVE', 'VERTICAL LINE', 'REGISTERED SIGN', 'SUPERSCRIPT TWO', 'DEGREE SIGN', 'LATIN CAPITAL LETTER U WITH DIAERESIS', 'LATIN CAPITAL LETTER I WITH GRAVE', 'LATIN CAPITAL LETTER C'}\n"
     ]
    }
   ],
   "source": [
    "from unicodedata import name\n",
    "print({name(chr(i), '') for i in range(0, 256)})"
   ]
  }
 ],
 "metadata": {
  "kernelspec": {
   "display_name": "Python 3",
   "language": "python",
   "name": "python3"
  },
  "language_info": {
   "codemirror_mode": {
    "name": "ipython",
    "version": 3
   },
   "file_extension": ".py",
   "mimetype": "text/x-python",
   "name": "python",
   "nbconvert_exporter": "python",
   "pygments_lexer": "ipython3",
   "version": "3.7.3"
  }
 },
 "nbformat": 4,
 "nbformat_minor": 4
}
