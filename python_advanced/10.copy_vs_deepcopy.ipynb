{
 "cells": [
  {
   "cell_type": "markdown",
   "metadata": {},
   "source": [
    "# 10. copy & deep copy"
   ]
  },
  {
   "cell_type": "markdown",
   "metadata": {},
   "source": [
    "## (1) 얕은 복사 / is vs __eq__ (==)"
   ]
  },
  {
   "cell_type": "code",
   "execution_count": 1,
   "metadata": {},
   "outputs": [],
   "source": [
    "x = {'name': 'Kim', 'age': 33, 'city': 'Seoul'}\n",
    "y = x  # 얕은 복사"
   ]
  },
  {
   "cell_type": "code",
   "execution_count": 3,
   "metadata": {},
   "outputs": [
    {
     "name": "stdout",
     "output_type": "stream",
     "text": [
      "2943561248344 2943561248344\n",
      "True\n",
      "True\n",
      "{'name': 'Kim', 'age': 33, 'city': 'Seoul'}\n",
      "{'name': 'Kim', 'age': 33, 'city': 'Seoul'}\n"
     ]
    }
   ],
   "source": [
    "print(id(x), id(y))\n",
    "print(x == y)\n",
    "print(x is y)\n",
    "print(x, y, sep='\\n')"
   ]
  },
  {
   "cell_type": "markdown",
   "metadata": {},
   "source": [
    "- __ eq __ (==): 값을 비교 \n",
    "- is: 객체 주소 (정체성) 비교"
   ]
  },
  {
   "cell_type": "code",
   "execution_count": 4,
   "metadata": {},
   "outputs": [
    {
     "name": "stdout",
     "output_type": "stream",
     "text": [
      "{'name': 'Kim', 'age': 33, 'city': 'Seoul', 'class': 10}\n",
      "{'name': 'Kim', 'age': 33, 'city': 'Seoul', 'class': 10}\n"
     ]
    }
   ],
   "source": [
    "x['class'] = 10\n",
    "print(x, y, sep='\\n')"
   ]
  },
  {
   "cell_type": "code",
   "execution_count": 5,
   "metadata": {},
   "outputs": [],
   "source": [
    "z = {'name': 'Kim', 'age': 33, 'city': 'Seoul', 'class': 10}"
   ]
  },
  {
   "cell_type": "code",
   "execution_count": 6,
   "metadata": {},
   "outputs": [
    {
     "name": "stdout",
     "output_type": "stream",
     "text": [
      "{'name': 'Kim', 'age': 33, 'city': 'Seoul', 'class': 10} || {'name': 'Kim', 'age': 33, 'city': 'Seoul', 'class': 10}\n",
      "False\n",
      "True\n",
      "True\n"
     ]
    }
   ],
   "source": [
    "print(x, z, sep= ' || ')\n",
    "print(x is z)\n",
    "print(x is not z)\n",
    "print(x == z)"
   ]
  },
  {
   "cell_type": "markdown",
   "metadata": {},
   "source": [
    "- **cf)** 튜플 (불변형) 비교 "
   ]
  },
  {
   "cell_type": "code",
   "execution_count": 7,
   "metadata": {},
   "outputs": [],
   "source": [
    "tuple1 = (10, 15, [100, 1000])\n",
    "tuple2 = (10, 15, [100, 1000])"
   ]
  },
  {
   "cell_type": "code",
   "execution_count": 9,
   "metadata": {},
   "outputs": [
    {
     "name": "stdout",
     "output_type": "stream",
     "text": [
      "2943560915128 2943560914768\n",
      "False\n",
      "True\n",
      "True\n"
     ]
    }
   ],
   "source": [
    "print(id(tuple1), id(tuple2))\n",
    "print(tuple1 is tuple2)\n",
    "print(tuple1 == tuple2)\n",
    "print(tuple1.__eq__(tuple2))"
   ]
  },
  {
   "cell_type": "markdown",
   "metadata": {},
   "source": [
    "## (2) Copy & Deep Copy"
   ]
  },
  {
   "cell_type": "code",
   "execution_count": null,
   "metadata": {},
   "outputs": [],
   "source": []
  },
  {
   "cell_type": "code",
   "execution_count": null,
   "metadata": {},
   "outputs": [],
   "source": []
  }
 ],
 "metadata": {
  "kernelspec": {
   "display_name": "Python 3",
   "language": "python",
   "name": "python3"
  },
  "language_info": {
   "codemirror_mode": {
    "name": "ipython",
    "version": 3
   },
   "file_extension": ".py",
   "mimetype": "text/x-python",
   "name": "python",
   "nbconvert_exporter": "python",
   "pygments_lexer": "ipython3",
   "version": "3.7.3"
  }
 },
 "nbformat": 4,
 "nbformat_minor": 4
}
