{
 "cells": [
  {
   "cell_type": "markdown",
   "metadata": {},
   "source": [
    "# 10. copy & deep copy"
   ]
  },
  {
   "cell_type": "markdown",
   "metadata": {},
   "source": [
    "## (1) 얕은 복사 / is vs __eq__ (==)"
   ]
  },
  {
   "cell_type": "code",
   "execution_count": 1,
   "metadata": {},
   "outputs": [],
   "source": [
    "x = {'name': 'Kim', 'age': 33, 'city': 'Seoul'}\n",
    "y = x  # 얕은 복사"
   ]
  },
  {
   "cell_type": "code",
   "execution_count": 3,
   "metadata": {},
   "outputs": [
    {
     "name": "stdout",
     "output_type": "stream",
     "text": [
      "2943561248344 2943561248344\n",
      "True\n",
      "True\n",
      "{'name': 'Kim', 'age': 33, 'city': 'Seoul'}\n",
      "{'name': 'Kim', 'age': 33, 'city': 'Seoul'}\n"
     ]
    }
   ],
   "source": [
    "print(id(x), id(y))\n",
    "print(x == y)\n",
    "print(x is y)\n",
    "print(x, y, sep='\\n')"
   ]
  },
  {
   "cell_type": "markdown",
   "metadata": {},
   "source": [
    "- __ eq __ (==): 값을 비교 \n",
    "- is: 객체 주소 (정체성) 비교"
   ]
  },
  {
   "cell_type": "code",
   "execution_count": 4,
   "metadata": {},
   "outputs": [
    {
     "name": "stdout",
     "output_type": "stream",
     "text": [
      "{'name': 'Kim', 'age': 33, 'city': 'Seoul', 'class': 10}\n",
      "{'name': 'Kim', 'age': 33, 'city': 'Seoul', 'class': 10}\n"
     ]
    }
   ],
   "source": [
    "x['class'] = 10\n",
    "print(x, y, sep='\\n')"
   ]
  },
  {
   "cell_type": "code",
   "execution_count": 5,
   "metadata": {},
   "outputs": [],
   "source": [
    "z = {'name': 'Kim', 'age': 33, 'city': 'Seoul', 'class': 10}"
   ]
  },
  {
   "cell_type": "code",
   "execution_count": 6,
   "metadata": {},
   "outputs": [
    {
     "name": "stdout",
     "output_type": "stream",
     "text": [
      "{'name': 'Kim', 'age': 33, 'city': 'Seoul', 'class': 10} || {'name': 'Kim', 'age': 33, 'city': 'Seoul', 'class': 10}\n",
      "False\n",
      "True\n",
      "True\n"
     ]
    }
   ],
   "source": [
    "print(x, z, sep= ' || ')\n",
    "print(x is z)\n",
    "print(x is not z)\n",
    "print(x == z)"
   ]
  },
  {
   "cell_type": "markdown",
   "metadata": {},
   "source": [
    "- **cf)** 튜플 (불변형) 비교 "
   ]
  },
  {
   "cell_type": "code",
   "execution_count": 7,
   "metadata": {},
   "outputs": [],
   "source": [
    "tuple1 = (10, 15, [100, 1000])\n",
    "tuple2 = (10, 15, [100, 1000])"
   ]
  },
  {
   "cell_type": "code",
   "execution_count": 9,
   "metadata": {},
   "outputs": [
    {
     "name": "stdout",
     "output_type": "stream",
     "text": [
      "2943560915128 2943560914768\n",
      "False\n",
      "True\n",
      "True\n"
     ]
    }
   ],
   "source": [
    "print(id(tuple1), id(tuple2))\n",
    "print(tuple1 is tuple2)\n",
    "print(tuple1 == tuple2)\n",
    "print(tuple1.__eq__(tuple2))"
   ]
  },
  {
   "cell_type": "markdown",
   "metadata": {},
   "source": [
    "## (2) Copy & Deep Copy ( 얕은 복사, 깊은 복사 )"
   ]
  },
  {
   "cell_type": "markdown",
   "metadata": {},
   "source": [
    "- **list** 와 **tuple** 객체의 차이점"
   ]
  },
  {
   "cell_type": "code",
   "execution_count": 11,
   "metadata": {},
   "outputs": [],
   "source": [
    "t1 = [10, [100, 105], (5, 10, 15)]\n",
    "t2 = t1\n",
    "t3 = list(t1) # 새 객체를 생성 "
   ]
  },
  {
   "cell_type": "code",
   "execution_count": 13,
   "metadata": {},
   "outputs": [
    {
     "name": "stdout",
     "output_type": "stream",
     "text": [
      "True\n",
      "True\n",
      "\n",
      "True\n",
      "False\n"
     ]
    }
   ],
   "source": [
    "print(t1 == t2)\n",
    "print(t1 is t2)\n",
    "print()\n",
    "print(t1 == t3)\n",
    "print(t1 is t3)"
   ]
  },
  {
   "cell_type": "code",
   "execution_count": 14,
   "metadata": {},
   "outputs": [
    {
     "name": "stdout",
     "output_type": "stream",
     "text": [
      "[10, [100], (5, 10, 15), 1000]\n",
      "[10, [100], (5, 10, 15), 1000]\n",
      "[10, [100], (5, 10, 15)]\n"
     ]
    }
   ],
   "source": [
    "t1.append(1000)\n",
    "t1[1].remove(105)\n",
    "\n",
    "print(t1)\n",
    "print(t2)\n",
    "print(t3)"
   ]
  },
  {
   "cell_type": "code",
   "execution_count": 18,
   "metadata": {},
   "outputs": [
    {
     "name": "stdout",
     "output_type": "stream",
     "text": [
      "2943561755208 || 2943561755208\n"
     ]
    }
   ],
   "source": [
    "# t1과 t3의 객체는 다르지만, t1[1], t3[3]의 객체는 같다.\n",
    "print(id(t1[1]), id(t3[1]), sep=' || ') "
   ]
  },
  {
   "cell_type": "code",
   "execution_count": 19,
   "metadata": {},
   "outputs": [
    {
     "name": "stdout",
     "output_type": "stream",
     "text": [
      "[10, [100, 110, 120], (5, 10, 15, 110, 120), 1000]\n",
      "[10, [100, 110, 120], (5, 10, 15, 110, 120), 1000]\n",
      "[10, [100, 110, 120], (5, 10, 15)]\n"
     ]
    }
   ],
   "source": [
    "t1[1] += [110, 120]\n",
    "t1[2] += (110, 120)\n",
    "\n",
    "print(t1) # 튜플 재 할당 (객체 새로 생성) -> 데이터가 현저히 많을 경우 주의해야 한다. 객체를 새로 생성한다는 것은 데이터 손실과 메모리 차지의 가능성이 농후하기 때문. \n",
    "print(t2)\n",
    "print(t3)"
   ]
  },
  {
   "cell_type": "markdown",
   "metadata": {},
   "source": [
    "- **Copy & Deep Copy** 실습"
   ]
  },
  {
   "cell_type": "code",
   "execution_count": 28,
   "metadata": {},
   "outputs": [],
   "source": [
    "# 장바구니 클래스 \n",
    "class Basket: \n",
    "    def __init__(self, products=None): \n",
    "        if products is None: \n",
    "            self._products = []\n",
    "        else: \n",
    "            self._products = list(products) # 새로운 객체 생성 \n",
    "            \n",
    "    def put_prod(self, prod_name): \n",
    "        self._products.append(prod_name)\n",
    "        \n",
    "    def del_prod(self, prod_name): \n",
    "        self._products.remove(prod_name)"
   ]
  },
  {
   "cell_type": "code",
   "execution_count": 33,
   "metadata": {},
   "outputs": [],
   "source": [
    "import copy \n",
    "\n",
    "basket1 = Basket(['Apple', 'Bag', 'TV', 'Snack', 'Water'])\n",
    "basket2 = copy.copy(basket1)  # 얕은 복사 \n",
    "basket3 = copy.deepcopy(basket1)  # 깊은 복사 -> 객체 안에 있는 인스턴스 변수까지 참조 "
   ]
  },
  {
   "cell_type": "code",
   "execution_count": 34,
   "metadata": {},
   "outputs": [
    {
     "name": "stdout",
     "output_type": "stream",
     "text": [
      "2943562039480 || 2943562039536 || 2943562039704\n",
      "2943561756296 || 2943561756296 || 2943561996616\n"
     ]
    }
   ],
   "source": [
    "print(id(basket1), id(basket2), id(basket3), sep=' || ')\n",
    "print(id(basket1._products), id(basket2._products), id(basket3._products), sep=\" || \")"
   ]
  },
  {
   "cell_type": "code",
   "execution_count": 35,
   "metadata": {},
   "outputs": [],
   "source": [
    "basket1.put_prod('Orange')\n",
    "basket1.del_prod('Snack')"
   ]
  },
  {
   "cell_type": "code",
   "execution_count": 37,
   "metadata": {},
   "outputs": [
    {
     "name": "stdout",
     "output_type": "stream",
     "text": [
      "['Apple', 'Bag', 'TV', 'Water', 'Orange']\n",
      "['Apple', 'Bag', 'TV', 'Water', 'Orange']\n",
      "['Apple', 'Bag', 'TV', 'Snack', 'Water']\n"
     ]
    }
   ],
   "source": [
    "print(basket1._products)\n",
    "print(basket2._products)\n",
    "print(basket3._products)"
   ]
  },
  {
   "cell_type": "markdown",
   "metadata": {},
   "source": [
    "## - 함수 매개변수 전달 주의 "
   ]
  },
  {
   "cell_type": "code",
   "execution_count": 38,
   "metadata": {},
   "outputs": [],
   "source": [
    "def mul(x, y): \n",
    "    x += y \n",
    "    return x "
   ]
  },
  {
   "cell_type": "code",
   "execution_count": 40,
   "metadata": {},
   "outputs": [
    {
     "name": "stdout",
     "output_type": "stream",
     "text": [
      "15\n",
      "10\n",
      "5\n"
     ]
    }
   ],
   "source": [
    "x = 10\n",
    "y = 5\n",
    "\n",
    "print(mul(x, y), x, y, sep='\\n') # 함수 안의 x가 15라고 해서 전역변수 x의 값이 변경되지는 않는다. "
   ]
  },
  {
   "cell_type": "markdown",
   "metadata": {},
   "source": [
    "- **가변형 a** -> 원본 데이터 변경 / 함수에 전달할 떄 원본의 주소까지 넘김 "
   ]
  },
  {
   "cell_type": "code",
   "execution_count": 41,
   "metadata": {},
   "outputs": [
    {
     "name": "stdout",
     "output_type": "stream",
     "text": [
      "[10, 100, 5, 10] [10, 100, 5, 10] [5, 10]\n"
     ]
    }
   ],
   "source": [
    "a = [10, 100]\n",
    "b = [5, 10]\n",
    "\n",
    "print(mul(a, b), a, b) # ----> 확장 "
   ]
  },
  {
   "cell_type": "markdown",
   "metadata": {},
   "source": [
    "- **불변형 c** -> 원본 데이터 변경 안됨 "
   ]
  },
  {
   "cell_type": "code",
   "execution_count": 42,
   "metadata": {},
   "outputs": [
    {
     "name": "stdout",
     "output_type": "stream",
     "text": [
      "(10, 100, 5, 10) (10, 100) (5, 10)\n"
     ]
    }
   ],
   "source": [
    "c = (10, 100)\n",
    "d = (5, 10)\n",
    "print(mul(c, d), c, d)"
   ]
  },
  {
   "cell_type": "markdown",
   "metadata": {},
   "source": [
    "## - 파이썬 불변형 예외 \n",
    ": **str, bytes, frozenset, Tuple** -> 사본 생성 X, 참조 반환 (같은 값이면 id도 같다)"
   ]
  },
  {
   "cell_type": "code",
   "execution_count": 43,
   "metadata": {},
   "outputs": [],
   "source": [
    "t1 = (1, 2, 3, 4, 5)\n",
    "t2 = tuple(t1)\n",
    "t3 = t1[:]"
   ]
  },
  {
   "cell_type": "code",
   "execution_count": 44,
   "metadata": {},
   "outputs": [
    {
     "name": "stdout",
     "output_type": "stream",
     "text": [
      "True 2943560898344 2943560898344\n",
      "True 2943560898344 2943560898344\n"
     ]
    }
   ],
   "source": [
    "print(t1 is t2, id(t1), id(t2))\n",
    "print(t1 is t3, id(t1), id(t3))"
   ]
  },
  {
   "cell_type": "code",
   "execution_count": 51,
   "metadata": {},
   "outputs": [],
   "source": [
    "tt1 = (10, 20, 30, 40, 50)\n",
    "tt2 = (10, 20, 30, 40, 50)\n",
    "s1 = 'Apple'\n",
    "s2 = 'Apple'"
   ]
  },
  {
   "cell_type": "code",
   "execution_count": 52,
   "metadata": {},
   "outputs": [
    {
     "name": "stdout",
     "output_type": "stream",
     "text": [
      "False True 2943562057160 2943560899312\n",
      "True True 2943561416864 2943561416864\n"
     ]
    }
   ],
   "source": [
    "print(t4 is t5, t4 == t5, id(t4), id(t5))\n",
    "print(s1 is s2, s1 == s2, id(s1), id(s2))"
   ]
  }
 ],
 "metadata": {
  "kernelspec": {
   "display_name": "Python 3",
   "language": "python",
   "name": "python3"
  },
  "language_info": {
   "codemirror_mode": {
    "name": "ipython",
    "version": 3
   },
   "file_extension": ".py",
   "mimetype": "text/x-python",
   "name": "python",
   "nbconvert_exporter": "python",
   "pygments_lexer": "ipython3",
   "version": "3.7.3"
  }
 },
 "nbformat": 4,
 "nbformat_minor": 4
}
