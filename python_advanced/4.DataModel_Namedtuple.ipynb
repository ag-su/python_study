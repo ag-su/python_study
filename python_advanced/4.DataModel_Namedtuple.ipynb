{
 "cells": [
  {
   "cell_type": "markdown",
   "metadata": {},
   "source": [
    "# 1. 데이터 모델, 네임드 튜플"
   ]
  },
  {
   "cell_type": "markdown",
   "metadata": {},
   "source": [
    "- **참고:** https://docs.python.org/3/reference/datamodel.html\n",
    "\n",
    "\n",
    "- **내용 인용:** 객체 (objects)는 파이썬이 데이터 (data)를 추상화(abstraction)입니다. 파이썬 프로그램의 모든 데이터는 객체나 객체 간의 관계로 표현 됩니다. \n",
    "- 모든 객체는 **아이덴티티(identity), 형(type), 값(value)** 을 갖습니다. 객체의 **아이덴티티**는 한 번 만들어진 후에는 변경되지 않습니다. **메모리상에서의 객체의 주소**로 생각해도 좋습니다. **< is > 연산자**는 두 객체의 **아이덴티티**를 비교합니다 **id()** 함수는 **아이덴티티**를 정수로 표현한 값을 돌려줍니다. "
   ]
  },
  {
   "cell_type": "code",
   "execution_count": 1,
   "metadata": {},
   "outputs": [
    {
     "name": "stdout",
     "output_type": "stream",
     "text": [
      "140721968616448 <class 'int'> ['__abs__', '__add__', '__and__', '__bool__', '__ceil__', '__class__', '__delattr__', '__dir__', '__divmod__', '__doc__', '__eq__', '__float__', '__floor__', '__floordiv__', '__format__', '__ge__', '__getattribute__', '__getnewargs__', '__gt__', '__hash__', '__index__', '__init__', '__init_subclass__', '__int__', '__invert__', '__le__', '__lshift__', '__lt__', '__mod__', '__mul__', '__ne__', '__neg__', '__new__', '__or__', '__pos__', '__pow__', '__radd__', '__rand__', '__rdivmod__', '__reduce__', '__reduce_ex__', '__repr__', '__rfloordiv__', '__rlshift__', '__rmod__', '__rmul__', '__ror__', '__round__', '__rpow__', '__rrshift__', '__rshift__', '__rsub__', '__rtruediv__', '__rxor__', '__setattr__', '__sizeof__', '__str__', '__sub__', '__subclasshook__', '__truediv__', '__trunc__', '__xor__', 'bit_length', 'conjugate', 'denominator', 'from_bytes', 'imag', 'numerator', 'real', 'to_bytes']\n"
     ]
    }
   ],
   "source": [
    "a = 7 \n",
    "print(id(a), type(a), dir(a))"
   ]
  },
  {
   "cell_type": "markdown",
   "metadata": {},
   "source": [
    "## - 네임드 튜플 \n",
    ": 두 점 사이의 거리를 구하는 예제"
   ]
  },
  {
   "cell_type": "markdown",
   "metadata": {},
   "source": [
    "### (1) 일반적인 튜플 사용"
   ]
  },
  {
   "cell_type": "code",
   "execution_count": 2,
   "metadata": {},
   "outputs": [],
   "source": [
    "pt1 = (1.0, 5.0)\n",
    "pt2 = (2.5, 1.5)"
   ]
  },
  {
   "cell_type": "code",
   "execution_count": 3,
   "metadata": {},
   "outputs": [
    {
     "name": "stdout",
     "output_type": "stream",
     "text": [
      "3.8078865529319543\n"
     ]
    }
   ],
   "source": [
    "from math import sqrt \n",
    "\n",
    "line_leng1 = sqrt((pt1[0] - pt2[0]) ** 2 + (pt1[1] - pt2[1]) ** 2)\n",
    "print(line_leng1)"
   ]
  },
  {
   "cell_type": "markdown",
   "metadata": {},
   "source": [
    "### (2) 네임드 튜플 사용 "
   ]
  },
  {
   "cell_type": "markdown",
   "metadata": {},
   "source": [
    "- 네임드 튜플 선언"
   ]
  },
  {
   "cell_type": "code",
   "execution_count": 4,
   "metadata": {},
   "outputs": [],
   "source": [
    "from collections import namedtuple"
   ]
  },
  {
   "cell_type": "code",
   "execution_count": 21,
   "metadata": {},
   "outputs": [],
   "source": [
    "Point1 = namedtuple('Point', ['x', 'y'])\n",
    "Point2 = namedtuple('Point', 'x, y')\n",
    "Point3 = namedtuple('Point', 'x y')\n",
    "Point4 = namedtuple('Point', 'x y x class', rename=True)  # Default=False"
   ]
  },
  {
   "cell_type": "code",
   "execution_count": 11,
   "metadata": {},
   "outputs": [
    {
     "name": "stdout",
     "output_type": "stream",
     "text": [
      "<class '__main__.Point'>\n",
      "<class '__main__.Point'>\n",
      "<class '__main__.Point'>\n",
      "<class '__main__.Point'>\n"
     ]
    }
   ],
   "source": [
    "# 출력 \n",
    "print(Point1, Point2, Point3, Point4, sep='\\n')"
   ]
  },
  {
   "cell_type": "code",
   "execution_count": 12,
   "metadata": {},
   "outputs": [],
   "source": [
    "# Dict to Unpacking \n",
    "temp_dict = {'x': 75, 'y': 55}"
   ]
  },
  {
   "cell_type": "code",
   "execution_count": 13,
   "metadata": {},
   "outputs": [],
   "source": [
    "# 객체 생성 \n",
    "p1 = Point1(x=10, y=35)\n",
    "p2 = Point2(20, 40)\n",
    "p3 = Point3(45, y=20)\n",
    "p4 = Point4(10, 20, 30, 40)\n",
    "p5 = Point3(**temp_dict)"
   ]
  },
  {
   "cell_type": "code",
   "execution_count": 14,
   "metadata": {},
   "outputs": [
    {
     "name": "stdout",
     "output_type": "stream",
     "text": [
      "Point(x=10, y=35)\n",
      "Point(x=20, y=40)\n",
      "Point(x=45, y=20)\n",
      "Point(x=10, y=20, _2=30, _3=40)\n",
      "Point(x=75, y=55)\n"
     ]
    }
   ],
   "source": [
    "print(p1, p2, p3, p4, p5, sep='\\n')"
   ]
  },
  {
   "cell_type": "markdown",
   "metadata": {},
   "source": [
    "- 네임드 튜플 사용"
   ]
  },
  {
   "cell_type": "code",
   "execution_count": 23,
   "metadata": {},
   "outputs": [
    {
     "name": "stdout",
     "output_type": "stream",
     "text": [
      "50\n",
      "50\n",
      "65\n"
     ]
    }
   ],
   "source": [
    "print(p1[0] + p2[1])  # Index Error 주의 \n",
    "print(p1.x + p2. y)  # 클래스 변수 접근 방식 \n",
    "\n",
    "# unpacking \n",
    "x, y = p3 \n",
    "print(x + y)"
   ]
  },
  {
   "cell_type": "markdown",
   "metadata": {},
   "source": [
    "- 네임드 튜플의 메소드"
   ]
  },
  {
   "cell_type": "markdown",
   "metadata": {},
   "source": [
    "__1) _make():__ 새로운 객체 생성 (리스트 -> 네임드 튜플)"
   ]
  },
  {
   "cell_type": "code",
   "execution_count": 28,
   "metadata": {},
   "outputs": [
    {
     "name": "stdout",
     "output_type": "stream",
     "text": [
      "Point(x=7, y=8, _2=9, _3=10)\n"
     ]
    }
   ],
   "source": [
    "temp = [7, 8, 9, 10]\n",
    "p4 = Point4._make(temp)\n",
    "print(p4)"
   ]
  },
  {
   "cell_type": "markdown",
   "metadata": {},
   "source": [
    "__2) _field:__ 필드 네임 확인"
   ]
  },
  {
   "cell_type": "code",
   "execution_count": 29,
   "metadata": {},
   "outputs": [
    {
     "name": "stdout",
     "output_type": "stream",
     "text": [
      "('x', 'y') ('x', 'y') ('x', 'y')\n"
     ]
    }
   ],
   "source": [
    "print(p1._fields, p2._fields, p3._fields)"
   ]
  },
  {
   "cell_type": "markdown",
   "metadata": {},
   "source": [
    "__3) _asdict():__ OrderDict 반환"
   ]
  },
  {
   "cell_type": "code",
   "execution_count": 33,
   "metadata": {},
   "outputs": [
    {
     "name": "stdout",
     "output_type": "stream",
     "text": [
      "OrderedDict([('x', 10), ('y', 35)])\n",
      "OrderedDict([('x', 20), ('y', 40)])\n",
      "OrderedDict([('x', 45), ('y', 20)])\n",
      "OrderedDict([('x', 7), ('y', 8), ('_2', 9), ('_3', 10)])\n"
     ]
    }
   ],
   "source": [
    "print(p1._asdict(), p2._asdict(), p3._asdict(), p4._asdict(), sep='\\n')"
   ]
  },
  {
   "cell_type": "markdown",
   "metadata": {},
   "source": [
    "__4) _replace():__ 수정된 **'새로운'** 객체 반환"
   ]
  },
  {
   "cell_type": "code",
   "execution_count": 34,
   "metadata": {},
   "outputs": [
    {
     "name": "stdout",
     "output_type": "stream",
     "text": [
      "Point(x=20, y=100)\n"
     ]
    }
   ],
   "source": [
    "print(p2._replace(y=100))"
   ]
  },
  {
   "cell_type": "markdown",
   "metadata": {},
   "source": [
    "## - 예제 "
   ]
  },
  {
   "cell_type": "code",
   "execution_count": 36,
   "metadata": {},
   "outputs": [
    {
     "name": "stdout",
     "output_type": "stream",
     "text": [
      "3.8078865529319543\n",
      "True\n"
     ]
    }
   ],
   "source": [
    "# 네임드 튜플 선언 \n",
    "Point = namedtuple('Point', 'x y')\n",
    " \n",
    "# 두 점 선언 \n",
    "pt1 = Point(1.0, 5.0)\n",
    "pt2 = Point(2.5, 1.5)\n",
    "\n",
    "# 두 점 사이의 거리 계산 \n",
    "line_leng2 = sqrt((pt2.x - pt1.x) ** 2 + (pt2.y - pt1.y) ** 2)\n",
    "\n",
    "# 출력 \n",
    "print(line_leng2)\n",
    "print(line_leng1 == line_leng2)"
   ]
  },
  {
   "cell_type": "markdown",
   "metadata": {},
   "source": [
    "## - 네임드 튜플 추가 실습\n",
    ": 학생 그룹을 생성하는 예제, 4개의 반 (A, B, C, D) 에서 각각 20명의 학생이 존재"
   ]
  },
  {
   "cell_type": "markdown",
   "metadata": {},
   "source": [
    "### (1) 네임드 튜플 선언 "
   ]
  },
  {
   "cell_type": "code",
   "execution_count": 37,
   "metadata": {},
   "outputs": [],
   "source": [
    "Classes = namedtuple('Classed', ['rank', 'number'])"
   ]
  },
  {
   "cell_type": "markdown",
   "metadata": {},
   "source": [
    "### (2) 그룹 리스트 선언 (List Comprehension 사용)"
   ]
  },
  {
   "cell_type": "code",
   "execution_count": 40,
   "metadata": {},
   "outputs": [
    {
     "name": "stdout",
     "output_type": "stream",
     "text": [
      "['A', 'B', 'C', 'D']\n",
      "['1', '2', '3', '4', '5', '6', '7', '8', '9', '10', '11', '12', '13', '14', '15', '16', '17', '18', '19', '20']\n"
     ]
    }
   ],
   "source": [
    "# List Comprehension \n",
    "numbers = [str(n) for n in range(1, 21)]\n",
    "ranks = 'A B C D'.split()\n",
    "print(ranks, numbers, sep='\\n')"
   ]
  },
  {
   "cell_type": "code",
   "execution_count": 44,
   "metadata": {},
   "outputs": [
    {
     "name": "stdout",
     "output_type": "stream",
     "text": [
      "80\n",
      "A5\n"
     ]
    }
   ],
   "source": [
    "students = [Classes(rank, number) for rank in ranks for number in numbers]\n",
    "\n",
    "print(len(students))\n",
    "print(students[4].rank+students[4].number)"
   ]
  },
  {
   "cell_type": "markdown",
   "metadata": {},
   "source": [
    "### cf) 가독성이 떨어지지만 한번에 그룹리스트를 만드는 방법"
   ]
  },
  {
   "cell_type": "code",
   "execution_count": 47,
   "metadata": {},
   "outputs": [
    {
     "name": "stdout",
     "output_type": "stream",
     "text": [
      "80\n",
      "[Classed(rank='A', number='1'), Classed(rank='A', number='2'), Classed(rank='A', number='3'), Classed(rank='A', number='4'), Classed(rank='A', number='5'), Classed(rank='A', number='6'), Classed(rank='A', number='7'), Classed(rank='A', number='8'), Classed(rank='A', number='9'), Classed(rank='A', number='10'), Classed(rank='A', number='11'), Classed(rank='A', number='12'), Classed(rank='A', number='13'), Classed(rank='A', number='14'), Classed(rank='A', number='15'), Classed(rank='A', number='16'), Classed(rank='A', number='17'), Classed(rank='A', number='18'), Classed(rank='A', number='19'), Classed(rank='A', number='20'), Classed(rank='B', number='1'), Classed(rank='B', number='2'), Classed(rank='B', number='3'), Classed(rank='B', number='4'), Classed(rank='B', number='5'), Classed(rank='B', number='6'), Classed(rank='B', number='7'), Classed(rank='B', number='8'), Classed(rank='B', number='9'), Classed(rank='B', number='10'), Classed(rank='B', number='11'), Classed(rank='B', number='12'), Classed(rank='B', number='13'), Classed(rank='B', number='14'), Classed(rank='B', number='15'), Classed(rank='B', number='16'), Classed(rank='B', number='17'), Classed(rank='B', number='18'), Classed(rank='B', number='19'), Classed(rank='B', number='20'), Classed(rank='C', number='1'), Classed(rank='C', number='2'), Classed(rank='C', number='3'), Classed(rank='C', number='4'), Classed(rank='C', number='5'), Classed(rank='C', number='6'), Classed(rank='C', number='7'), Classed(rank='C', number='8'), Classed(rank='C', number='9'), Classed(rank='C', number='10'), Classed(rank='C', number='11'), Classed(rank='C', number='12'), Classed(rank='C', number='13'), Classed(rank='C', number='14'), Classed(rank='C', number='15'), Classed(rank='C', number='16'), Classed(rank='C', number='17'), Classed(rank='C', number='18'), Classed(rank='C', number='19'), Classed(rank='C', number='20'), Classed(rank='D', number='1'), Classed(rank='D', number='2'), Classed(rank='D', number='3'), Classed(rank='D', number='4'), Classed(rank='D', number='5'), Classed(rank='D', number='6'), Classed(rank='D', number='7'), Classed(rank='D', number='8'), Classed(rank='D', number='9'), Classed(rank='D', number='10'), Classed(rank='D', number='11'), Classed(rank='D', number='12'), Classed(rank='D', number='13'), Classed(rank='D', number='14'), Classed(rank='D', number='15'), Classed(rank='D', number='16'), Classed(rank='D', number='17'), Classed(rank='D', number='18'), Classed(rank='D', number='19'), Classed(rank='D', number='20')]\n"
     ]
    }
   ],
   "source": [
    "students2 = [Classes(rank, number) for rank in 'A B C D'.split() for number in [str(n) for n in range(1, 21)]]\n",
    "\n",
    "print(len(students2))\n",
    "print(students2)"
   ]
  }
 ],
 "metadata": {
  "kernelspec": {
   "display_name": "Python 3",
   "language": "python",
   "name": "python3"
  },
  "language_info": {
   "codemirror_mode": {
    "name": "ipython",
    "version": 3
   },
   "file_extension": ".py",
   "mimetype": "text/x-python",
   "name": "python",
   "nbconvert_exporter": "python",
   "pygments_lexer": "ipython3",
   "version": "3.7.3"
  }
 },
 "nbformat": 4,
 "nbformat_minor": 4
}
