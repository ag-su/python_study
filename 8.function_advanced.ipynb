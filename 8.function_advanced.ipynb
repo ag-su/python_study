{
 "cells": [
  {
   "cell_type": "markdown",
   "metadata": {},
   "source": [
    "# 8. 일급함수, 익명함수, callable, 매개변수, signature, partial"
   ]
  },
  {
   "cell_type": "markdown",
   "metadata": {},
   "source": [
    "### 일급함수 (일급 객체) - 파이썬 함수의 특징 \n",
    "1. 런타임 초기화 가능 \n",
    "2. 변수에 할당 가능 \n",
    "3. 함수 인수에 전달 가능 (ex) sorted(keys=len) - 함수 안에 함수 \n",
    "4. 함수 결과로 반환 가능 (ex) return function "
   ]
  },
  {
   "cell_type": "markdown",
   "metadata": {},
   "source": [
    "## (1) 팩토리얼 함수 구현 예제"
   ]
  },
  {
   "cell_type": "code",
   "execution_count": null,
   "metadata": {},
   "outputs": [],
   "source": []
  }
 ],
 "metadata": {
  "kernelspec": {
   "display_name": "Python 3",
   "language": "python",
   "name": "python3"
  },
  "language_info": {
   "codemirror_mode": {
    "name": "ipython",
    "version": 3
   },
   "file_extension": ".py",
   "mimetype": "text/x-python",
   "name": "python",
   "nbconvert_exporter": "python",
   "pygments_lexer": "ipython3",
   "version": "3.7.3"
  }
 },
 "nbformat": 4,
 "nbformat_minor": 4
}
