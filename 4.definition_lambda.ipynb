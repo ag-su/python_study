{
 "cells": [
  {
   "cell_type": "markdown",
   "metadata": {},
   "source": [
    "# 4. 함수 및 람다"
   ]
  },
  {
   "cell_type": "markdown",
   "metadata": {},
   "source": [
    "### 함수 정의방법\n",
    "- def 함수명(parameter):\n",
    "\n",
    "   ... code"
   ]
  },
  {
   "cell_type": "markdown",
   "metadata": {},
   "source": [
    "## (1) 출력 (print)"
   ]
  },
  {
   "cell_type": "code",
   "execution_count": 1,
   "metadata": {},
   "outputs": [],
   "source": [
    "def hello(world):\n",
    "    print(\"Hello\", world)"
   ]
  },
  {
   "cell_type": "code",
   "execution_count": 2,
   "metadata": {},
   "outputs": [
    {
     "name": "stdout",
     "output_type": "stream",
     "text": [
      "Hello Silver !\n",
      "Hello 777777\n"
     ]
    }
   ],
   "source": [
    "hello('Silver !')\n",
    "hello(777777)"
   ]
  },
  {
   "cell_type": "markdown",
   "metadata": {},
   "source": [
    "## (2) 리턴 (return)"
   ]
  },
  {
   "cell_type": "code",
   "execution_count": 3,
   "metadata": {},
   "outputs": [],
   "source": [
    "def hello_return(world):\n",
    "    val = 'Hello' + str(world)\n",
    "    return val "
   ]
  },
  {
   "cell_type": "code",
   "execution_count": 4,
   "metadata": {},
   "outputs": [
    {
     "name": "stdout",
     "output_type": "stream",
     "text": [
      "HelloSilver!!\n"
     ]
    }
   ],
   "source": [
    "str = hello_return('Silver!!')\n",
    "print(str)"
   ]
  },
  {
   "cell_type": "markdown",
   "metadata": {},
   "source": [
    "## (3) 여러 값 리턴"
   ]
  },
  {
   "cell_type": "code",
   "execution_count": 5,
   "metadata": {},
   "outputs": [],
   "source": [
    "def func_mul(x):\n",
    "    y1 = x * 100\n",
    "    y2 = x * 200\n",
    "    y3 = x * 300 \n",
    "    return y1, y2, y3 "
   ]
  },
  {
   "cell_type": "code",
   "execution_count": 6,
   "metadata": {},
   "outputs": [
    {
     "name": "stdout",
     "output_type": "stream",
     "text": [
      "<class 'int'> 10000 20000 30000\n"
     ]
    }
   ],
   "source": [
    "val1, val2, val3 = func_mul(100)\n",
    "print(type(val1), val1, val2, val3)"
   ]
  },
  {
   "cell_type": "markdown",
   "metadata": {},
   "source": [
    "## (4) 리스트 리턴"
   ]
  },
  {
   "cell_type": "code",
   "execution_count": 7,
   "metadata": {},
   "outputs": [],
   "source": [
    "def func_mul2(x):\n",
    "    y1 = x * 100\n",
    "    y2 = x * 200\n",
    "    y3 = x * 300 \n",
    "    return [y1, y2, y3]"
   ]
  },
  {
   "cell_type": "code",
   "execution_count": 8,
   "metadata": {},
   "outputs": [
    {
     "name": "stdout",
     "output_type": "stream",
     "text": [
      "[10000, 20000, 30000] <class 'list'>\n"
     ]
    }
   ],
   "source": [
    "l1 = func_mul2(100)\n",
    "print(l1, type(l1))"
   ]
  },
  {
   "cell_type": "markdown",
   "metadata": {},
   "source": [
    "## (5) 가변 인자 받기 (*args, **kwargs)"
   ]
  },
  {
   "cell_type": "markdown",
   "metadata": {},
   "source": [
    "### - *args\n",
    ": 튜플 형태로 받음 (가변 튜플)"
   ]
  },
  {
   "cell_type": "code",
   "execution_count": 10,
   "metadata": {},
   "outputs": [],
   "source": [
    "def args_func(*args):\n",
    "    print(args)"
   ]
  },
  {
   "cell_type": "code",
   "execution_count": 11,
   "metadata": {},
   "outputs": [],
   "source": [
    "def args_func2(*args):\n",
    "    for t in args:\n",
    "        print(t)"
   ]
  },
  {
   "cell_type": "code",
   "execution_count": 12,
   "metadata": {},
   "outputs": [],
   "source": [
    "def args_func3(*args):\n",
    "    for i, v in enumerate(args):\n",
    "        print(i, v)"
   ]
  },
  {
   "cell_type": "code",
   "execution_count": 15,
   "metadata": {},
   "outputs": [
    {
     "name": "stdout",
     "output_type": "stream",
     "text": [
      "('apple',)\n",
      "-------------------------\n",
      "('apple', 'banana')\n",
      "-------------------------\n",
      "apple\n",
      "banana\n",
      "orange\n",
      "-------------------------\n",
      "0 apple\n",
      "1 banana\n",
      "2 orange\n",
      "3 peach\n"
     ]
    }
   ],
   "source": [
    "args_func('apple')\n",
    "print(\"-------------------------\")\n",
    "args_func('apple', 'banana') \n",
    "print(\"-------------------------\")\n",
    "args_func2('apple', 'banana', 'orange')\n",
    "print(\"-------------------------\")\n",
    "args_func3('apple', 'banana', 'orange', 'peach')"
   ]
  },
  {
   "cell_type": "markdown",
   "metadata": {},
   "source": [
    "### - **kwargs\n",
    ": dictionary로 받음 (가변 딕셔너리)"
   ]
  },
  {
   "cell_type": "code",
   "execution_count": 16,
   "metadata": {},
   "outputs": [],
   "source": [
    "def kwargs_func(**kwargs):\n",
    "    print(kwargs)"
   ]
  },
  {
   "cell_type": "code",
   "execution_count": 17,
   "metadata": {},
   "outputs": [],
   "source": [
    "def kwargs_func2(**kwargs):\n",
    "    for k, v in kwargs.items():\n",
    "        print(k, v)"
   ]
  },
  {
   "cell_type": "code",
   "execution_count": 23,
   "metadata": {},
   "outputs": [
    {
     "name": "stdout",
     "output_type": "stream",
     "text": [
      "{'f1': 'apple'}\n",
      "----------------------------------------------------------------\n",
      "{'f1': 'apple', 'f2': 'banana', 'f3': 'orange'}\n",
      "----------------------------------------------------------------\n",
      "f1 apple\n",
      "f2 banana\n",
      "f3 orange\n",
      "f4 peach\n"
     ]
    }
   ],
   "source": [
    "kwargs_func(f1 ='apple')\n",
    "print(\"----------------------------------------------------------------\")\n",
    "kwargs_func(f1='apple', f2='banana', f3='orange')\n",
    "print(\"----------------------------------------------------------------\")\n",
    "kwargs_func2(f1='apple', f2='banana', f3='orange', f4='peach')"
   ]
  },
  {
   "cell_type": "markdown",
   "metadata": {},
   "source": [
    "### - 전체 혼합"
   ]
  },
  {
   "cell_type": "code",
   "execution_count": 24,
   "metadata": {},
   "outputs": [],
   "source": [
    "def example_mul(arg1, arg2, *args, **kwargs):\n",
    "    print(arg1, arg2, args, kwargs)"
   ]
  },
  {
   "cell_type": "code",
   "execution_count": 29,
   "metadata": {},
   "outputs": [
    {
     "name": "stdout",
     "output_type": "stream",
     "text": [
      "10 20 () {}\n",
      "10 20 (30, 'apple', 'banana') {}\n",
      "10 20 (30, 'apple', 'banana', 'orange') {'num1': 7, 'num2': 77}\n"
     ]
    }
   ],
   "source": [
    "example_mul(10, 20)\n",
    "example_mul(10, 20, 30, 'apple', 'banana')\n",
    "example_mul(10, 20, 30, 'apple', 'banana', 'orange', num1=7, num2=77)"
   ]
  },
  {
   "cell_type": "markdown",
   "metadata": {},
   "source": [
    "## (6) 중첩함수 (클로저) \n",
    "- **효율적인 메모리 관리 가능**"
   ]
  },
  {
   "cell_type": "code",
   "execution_count": 31,
   "metadata": {},
   "outputs": [],
   "source": [
    "def nested_func(num):\n",
    "    def func_in_func(num):\n",
    "        print('>>>', num)\n",
    "    print('in func')\n",
    "    func_in_func(num + 10000)"
   ]
  },
  {
   "cell_type": "code",
   "execution_count": 32,
   "metadata": {},
   "outputs": [
    {
     "name": "stdout",
     "output_type": "stream",
     "text": [
      "in func\n",
      ">>> 20000\n"
     ]
    }
   ],
   "source": [
    "nested_func(10000)"
   ]
  },
  {
   "cell_type": "markdown",
   "metadata": {},
   "source": [
    "## (7) hint\n",
    "- **인자 타입과 리턴 타입 명시해주기**"
   ]
  },
  {
   "cell_type": "code",
   "execution_count": 33,
   "metadata": {},
   "outputs": [],
   "source": [
    "def func_mul3(x: int) -> list: \n",
    "    y1 = x * 100 \n",
    "    y2 = x * 200\n",
    "    y3 = x * 300 \n",
    "    return [y1, y2, y3]"
   ]
  },
  {
   "cell_type": "code",
   "execution_count": 37,
   "metadata": {},
   "outputs": [
    {
     "data": {
      "text/plain": [
       "[300, 600, 900]"
      ]
     },
     "execution_count": 37,
     "metadata": {},
     "output_type": "execute_result"
    }
   ],
   "source": [
    "func_mul3(3)"
   ]
  },
  {
   "cell_type": "markdown",
   "metadata": {},
   "source": [
    "## (8) 람다 lambda\n",
    "- **람다식: 메모리 절약, 가독성 향상, 코드 간결**\n",
    "- **함수: 객체생성 -> 리소스(메모리) 할당 vs 람다: 즉시 실행(Heap초기화) -> 메모리 초기화**"
   ]
  },
  {
   "cell_type": "markdown",
   "metadata": {},
   "source": [
    "### - 일반 함수: 변수 할당"
   ]
  },
  {
   "cell_type": "code",
   "execution_count": 38,
   "metadata": {},
   "outputs": [],
   "source": [
    "def mul_10(num: int) -> int:\n",
    "    return num * 10 "
   ]
  },
  {
   "cell_type": "code",
   "execution_count": 42,
   "metadata": {},
   "outputs": [
    {
     "name": "stdout",
     "output_type": "stream",
     "text": [
      "<function mul_10 at 0x0000023A2BA02EA0>\n",
      "<function mul_10 at 0x0000023A2BA02EA0>\n",
      "<class 'function'>\n",
      "100\n"
     ]
    }
   ],
   "source": [
    "val_func = mul_10  # 객체 생성, 메모리 할당 \n",
    "print(mul_10)\n",
    "print(val_func)\n",
    "print(type(val_func))\n",
    "\n",
    "print(val_func(10))"
   ]
  },
  {
   "cell_type": "markdown",
   "metadata": {},
   "source": [
    "### - 람다식"
   ]
  },
  {
   "cell_type": "code",
   "execution_count": 43,
   "metadata": {},
   "outputs": [
    {
     "name": "stdout",
     "output_type": "stream",
     "text": [
      ">>> 100\n"
     ]
    }
   ],
   "source": [
    "lambda_mul_10 = lambda num: num * 10 \n",
    "print('>>>', lambda_mul_10(10))"
   ]
  },
  {
   "cell_type": "markdown",
   "metadata": {},
   "source": [
    "### - 함수의 인자에 함수 넣기 (람다 사용) "
   ]
  },
  {
   "cell_type": "code",
   "execution_count": 45,
   "metadata": {},
   "outputs": [],
   "source": [
    "def func_final(x, y, func):\n",
    "    print(x * y * func(10))"
   ]
  },
  {
   "cell_type": "code",
   "execution_count": 46,
   "metadata": {},
   "outputs": [
    {
     "name": "stdout",
     "output_type": "stream",
     "text": [
      "10000\n"
     ]
    }
   ],
   "source": [
    "func_final(10, 10, lambda_mul_10)"
   ]
  },
  {
   "cell_type": "code",
   "execution_count": 47,
   "metadata": {},
   "outputs": [
    {
     "name": "stdout",
     "output_type": "stream",
     "text": [
      "100000000\n"
     ]
    }
   ],
   "source": [
    "func_final(10, 10, lambda x: x * 100000)"
   ]
  }
 ],
 "metadata": {
  "kernelspec": {
   "display_name": "Python 3",
   "language": "python",
   "name": "python3"
  },
  "language_info": {
   "codemirror_mode": {
    "name": "ipython",
    "version": 3
   },
   "file_extension": ".py",
   "mimetype": "text/x-python",
   "name": "python",
   "nbconvert_exporter": "python",
   "pygments_lexer": "ipython3",
   "version": "3.7.3"
  }
 },
 "nbformat": 4,
 "nbformat_minor": 4
}
