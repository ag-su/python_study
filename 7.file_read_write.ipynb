{
 "cells": [
  {
   "cell_type": "markdown",
   "metadata": {},
   "source": [
    "# (7) 파일 읽기 & 쓰기"
   ]
  },
  {
   "cell_type": "markdown",
   "metadata": {},
   "source": [
    "#### - 읽기모드: r, 쓰기모드(기존 파일 삭제): w, 추가모드(파일 생성 또는 추가)\n",
    "- txt 파일: 패스트 캠퍼스 제공"
   ]
  },
  {
   "cell_type": "markdown",
   "metadata": {},
   "source": [
    "## (1) 파일 읽기"
   ]
  },
  {
   "cell_type": "markdown",
   "metadata": {},
   "source": [
    "### - 예제 1 "
   ]
  },
  {
   "cell_type": "code",
   "execution_count": 15,
   "metadata": {},
   "outputs": [],
   "source": [
    "f = open(\"./resource/review.txt\", 'r')"
   ]
  },
  {
   "cell_type": "code",
   "execution_count": 16,
   "metadata": {},
   "outputs": [
    {
     "name": "stdout",
     "output_type": "stream",
     "text": [
      "The film, projected in the form of animation,\n",
      "imparts the lesson of how wars can be eluded through reasoning and peaceful dialogues,\n",
      "which eventually paves the path for gaining a fresh perspective on an age-old problem.\n",
      "The story also happens to centre around two parallel characters, Shundi King and Hundi King,\n",
      "who are twins, but they constantly fight over unresolved issues planted in their minds\n",
      "by external forces from within their very own units.\n",
      "['_CHUNK_SIZE', '__class__', '__del__', '__delattr__', '__dict__', '__dir__', '__doc__', '__enter__', '__eq__', '__exit__', '__format__', '__ge__', '__getattribute__', '__getstate__', '__gt__', '__hash__', '__init__', '__init_subclass__', '__iter__', '__le__', '__lt__', '__ne__', '__new__', '__next__', '__reduce__', '__reduce_ex__', '__repr__', '__setattr__', '__sizeof__', '__str__', '__subclasshook__', '_checkClosed', '_checkReadable', '_checkSeekable', '_checkWritable', '_finalizing', 'buffer', 'close', 'closed', 'detach', 'encoding', 'errors', 'fileno', 'flush', 'isatty', 'line_buffering', 'mode', 'name', 'newlines', 'read', 'readable', 'readline', 'readlines', 'reconfigure', 'seek', 'seekable', 'tell', 'truncate', 'writable', 'write', 'write_through', 'writelines']\n"
     ]
    }
   ],
   "source": [
    "content = f.read()\n",
    "print(content)\n",
    "print(dir(f))\n",
    "### 반드시 close 리소스를 반환해야한다. \n",
    "f.close()"
   ]
  },
  {
   "cell_type": "markdown",
   "metadata": {},
   "source": [
    "### - 예제 2\n",
    "- **with문 사용: close 생략 가능**"
   ]
  },
  {
   "cell_type": "code",
   "execution_count": 17,
   "metadata": {},
   "outputs": [
    {
     "name": "stdout",
     "output_type": "stream",
     "text": [
      "The film, projected in the form of animation,\n",
      "imparts the lesson of how wars can be eluded through reasoning and peaceful dialogues,\n",
      "which eventually paves the path for gaining a fresh perspective on an age-old problem.\n",
      "The story also happens to centre around two parallel characters, Shundi King and Hundi King,\n",
      "who are twins, but they constantly fight over unresolved issues planted in their minds\n",
      "by external forces from within their very own units.\n",
      "['T', 'h', 'e', ' ', 'f', 'i', 'l', 'm', ',', ' ', 'p', 'r', 'o', 'j', 'e', 'c', 't', 'e', 'd', ' ', 'i', 'n', ' ', 't', 'h', 'e', ' ', 'f', 'o', 'r', 'm', ' ', 'o', 'f', ' ', 'a', 'n', 'i', 'm', 'a', 't', 'i', 'o', 'n', ',', '\\n', 'i', 'm', 'p', 'a', 'r', 't', 's', ' ', 't', 'h', 'e', ' ', 'l', 'e', 's', 's', 'o', 'n', ' ', 'o', 'f', ' ', 'h', 'o', 'w', ' ', 'w', 'a', 'r', 's', ' ', 'c', 'a', 'n', ' ', 'b', 'e', ' ', 'e', 'l', 'u', 'd', 'e', 'd', ' ', 't', 'h', 'r', 'o', 'u', 'g', 'h', ' ', 'r', 'e', 'a', 's', 'o', 'n', 'i', 'n', 'g', ' ', 'a', 'n', 'd', ' ', 'p', 'e', 'a', 'c', 'e', 'f', 'u', 'l', ' ', 'd', 'i', 'a', 'l', 'o', 'g', 'u', 'e', 's', ',', '\\n', 'w', 'h', 'i', 'c', 'h', ' ', 'e', 'v', 'e', 'n', 't', 'u', 'a', 'l', 'l', 'y', ' ', 'p', 'a', 'v', 'e', 's', ' ', 't', 'h', 'e', ' ', 'p', 'a', 't', 'h', ' ', 'f', 'o', 'r', ' ', 'g', 'a', 'i', 'n', 'i', 'n', 'g', ' ', 'a', ' ', 'f', 'r', 'e', 's', 'h', ' ', 'p', 'e', 'r', 's', 'p', 'e', 'c', 't', 'i', 'v', 'e', ' ', 'o', 'n', ' ', 'a', 'n', ' ', 'a', 'g', 'e', '-', 'o', 'l', 'd', ' ', 'p', 'r', 'o', 'b', 'l', 'e', 'm', '.', '\\n', 'T', 'h', 'e', ' ', 's', 't', 'o', 'r', 'y', ' ', 'a', 'l', 's', 'o', ' ', 'h', 'a', 'p', 'p', 'e', 'n', 's', ' ', 't', 'o', ' ', 'c', 'e', 'n', 't', 'r', 'e', ' ', 'a', 'r', 'o', 'u', 'n', 'd', ' ', 't', 'w', 'o', ' ', 'p', 'a', 'r', 'a', 'l', 'l', 'e', 'l', ' ', 'c', 'h', 'a', 'r', 'a', 'c', 't', 'e', 'r', 's', ',', ' ', 'S', 'h', 'u', 'n', 'd', 'i', ' ', 'K', 'i', 'n', 'g', ' ', 'a', 'n', 'd', ' ', 'H', 'u', 'n', 'd', 'i', ' ', 'K', 'i', 'n', 'g', ',', '\\n', 'w', 'h', 'o', ' ', 'a', 'r', 'e', ' ', 't', 'w', 'i', 'n', 's', ',', ' ', 'b', 'u', 't', ' ', 't', 'h', 'e', 'y', ' ', 'c', 'o', 'n', 's', 't', 'a', 'n', 't', 'l', 'y', ' ', 'f', 'i', 'g', 'h', 't', ' ', 'o', 'v', 'e', 'r', ' ', 'u', 'n', 'r', 'e', 's', 'o', 'l', 'v', 'e', 'd', ' ', 'i', 's', 's', 'u', 'e', 's', ' ', 'p', 'l', 'a', 'n', 't', 'e', 'd', ' ', 'i', 'n', ' ', 't', 'h', 'e', 'i', 'r', ' ', 'm', 'i', 'n', 'd', 's', '\\n', 'b', 'y', ' ', 'e', 'x', 't', 'e', 'r', 'n', 'a', 'l', ' ', 'f', 'o', 'r', 'c', 'e', 's', ' ', 'f', 'r', 'o', 'm', ' ', 'w', 'i', 't', 'h', 'i', 'n', ' ', 't', 'h', 'e', 'i', 'r', ' ', 'v', 'e', 'r', 'y', ' ', 'o', 'w', 'n', ' ', 'u', 'n', 'i', 't', 's', '.']\n",
      "<str_iterator object at 0x000002E9DB2AD588>\n"
     ]
    }
   ],
   "source": [
    "with open('./resource/review.txt', 'r') as f: \n",
    "    c = f.read()\n",
    "    print(c)\n",
    "    print(list(c))\n",
    "    print(iter(c))"
   ]
  },
  {
   "cell_type": "markdown",
   "metadata": {},
   "source": [
    "### - 예제 3\n",
    "- **strip(): 공백 제거**"
   ]
  },
  {
   "cell_type": "code",
   "execution_count": 19,
   "metadata": {},
   "outputs": [
    {
     "name": "stdout",
     "output_type": "stream",
     "text": [
      "The film, projected in the form of animation,\n",
      "imparts the lesson of how wars can be eluded through reasoning and peaceful dialogues,\n",
      "which eventually paves the path for gaining a fresh perspective on an age-old problem.\n",
      "The story also happens to centre around two parallel characters, Shundi King and Hundi King,\n",
      "who are twins, but they constantly fight over unresolved issues planted in their minds\n",
      "by external forces from within their very own units.\n"
     ]
    }
   ],
   "source": [
    "with open('./resource/review.txt', 'r') as f:\n",
    "    for c in f:\n",
    "        print(c.strip())"
   ]
  },
  {
   "cell_type": "markdown",
   "metadata": {},
   "source": [
    "### - 예제 4 "
   ]
  },
  {
   "cell_type": "code",
   "execution_count": 22,
   "metadata": {},
   "outputs": [
    {
     "name": "stdout",
     "output_type": "stream",
     "text": [
      ">>> The film, projected in the form of animation,\n",
      "imparts the lesson of how wars can be eluded through reasoning and peaceful dialogues,\n",
      "which eventually paves the path for gaining a fresh perspective on an age-old problem.\n",
      "The story also happens to centre around two parallel characters, Shundi King and Hundi King,\n",
      "who are twins, but they constantly fight over unresolved issues planted in their minds\n",
      "by external forces from within their very own units.\n",
      ">>> \n"
     ]
    }
   ],
   "source": [
    "with open(\"./resource/review.txt\", 'r') as f:\n",
    "    content = f.read()\n",
    "    print(\">>>\", content)\n",
    "    content = f.read()  ## 내용 없음\n",
    "    print('>>>', content)"
   ]
  },
  {
   "cell_type": "markdown",
   "metadata": {},
   "source": [
    "### - 예제 5: readline()"
   ]
  },
  {
   "cell_type": "code",
   "execution_count": 29,
   "metadata": {},
   "outputs": [
    {
     "name": "stdout",
     "output_type": "stream",
     "text": [
      "The film, projected in the form of animation,\n",
      "####imparts the lesson of how wars can be eluded through reasoning and peaceful dialogues,\n",
      "####which eventually paves the path for gaining a fresh perspective on an age-old problem.\n",
      "####The story also happens to centre around two parallel characters, Shundi King and Hundi King,\n",
      "####who are twins, but they constantly fight over unresolved issues planted in their minds\n",
      "####by external forces from within their very own units.####"
     ]
    }
   ],
   "source": [
    "with open('./resource/review.txt', 'r') as f:\n",
    "    line = f.readline()\n",
    "#     print(line)\n",
    "    while line:\n",
    "        print(line, end='####')\n",
    "        line = f.readline()"
   ]
  },
  {
   "cell_type": "markdown",
   "metadata": {},
   "source": [
    "### - 예제 6: readlines()"
   ]
  },
  {
   "cell_type": "code",
   "execution_count": 36,
   "metadata": {},
   "outputs": [
    {
     "name": "stdout",
     "output_type": "stream",
     "text": [
      "['The film, projected in the form of animation,\\n', 'imparts the lesson of how wars can be eluded through reasoning and peaceful dialogues,\\n', 'which eventually paves the path for gaining a fresh perspective on an age-old problem.\\n', 'The story also happens to centre around two parallel characters, Shundi King and Hundi King,\\n', 'who are twins, but they constantly fight over unresolved issues planted in their minds\\n', 'by external forces from within their very own units.']\n",
      "\n",
      "\n",
      "The film, projected in the form of animation,\n",
      "*****imparts the lesson of how wars can be eluded through reasoning and peaceful dialogues,\n",
      "*****which eventually paves the path for gaining a fresh perspective on an age-old problem.\n",
      "*****The story also happens to centre around two parallel characters, Shundi King and Hundi King,\n",
      "*****who are twins, but they constantly fight over unresolved issues planted in their minds\n",
      "*****by external forces from within their very own units.*****"
     ]
    }
   ],
   "source": [
    "with open(\"./resource/review.txt\", 'r') as f:\n",
    "        contents = f.readlines()\n",
    "        print(contents)  # 리스트로 반환 \n",
    "        print()\n",
    "        print()\n",
    "        for c in contents:\n",
    "            print(c, end='*****')"
   ]
  },
  {
   "cell_type": "markdown",
   "metadata": {},
   "source": [
    "### - 예제 7"
   ]
  },
  {
   "cell_type": "code",
   "execution_count": 42,
   "metadata": {},
   "outputs": [
    {
     "name": "stdout",
     "output_type": "stream",
     "text": [
      "[95, 78, 92, 89, 100, 66]\n",
      "---------------------------------\n",
      "Average:   86.7\n"
     ]
    }
   ],
   "source": [
    "score = []\n",
    "\n",
    "with open('./resource/score.txt', 'r') as f:\n",
    "    for line in f:\n",
    "        score.append(int(line))\n",
    "    print(score)\n",
    "    \n",
    "print('---------------------------------')\n",
    "print('Average: {:6.3}'.format(sum(score) / len(score)))"
   ]
  },
  {
   "cell_type": "markdown",
   "metadata": {},
   "source": [
    "## (2) 파일 쓰기"
   ]
  },
  {
   "cell_type": "markdown",
   "metadata": {},
   "source": [
    "### - 예제 1"
   ]
  },
  {
   "cell_type": "code",
   "execution_count": 44,
   "metadata": {},
   "outputs": [],
   "source": [
    "with open('./resource/text1.txt', 'w') as f:\n",
    "    f.write('NiceGirl!\\n')"
   ]
  },
  {
   "cell_type": "markdown",
   "metadata": {},
   "source": [
    "### - 예제 2: add"
   ]
  },
  {
   "cell_type": "code",
   "execution_count": 45,
   "metadata": {},
   "outputs": [],
   "source": [
    "with open('./resource/text1.txt', 'a') as f: \n",
    "    f.write('Goodgirl!\\n')"
   ]
  },
  {
   "cell_type": "markdown",
   "metadata": {},
   "source": [
    "### - 예제 3"
   ]
  },
  {
   "cell_type": "code",
   "execution_count": 46,
   "metadata": {},
   "outputs": [],
   "source": [
    "from random import randint"
   ]
  },
  {
   "cell_type": "code",
   "execution_count": 48,
   "metadata": {},
   "outputs": [],
   "source": [
    "with open('./resource/text2.txt', 'w') as f:\n",
    "    for cnt in range(6):\n",
    "        f.write(str(randint(1, 50)))\n",
    "        f.write('\\n')"
   ]
  },
  {
   "cell_type": "markdown",
   "metadata": {},
   "source": [
    "### - 예제 4\n",
    "- **writelines: 리스트 -> txt 파일로 저장**"
   ]
  },
  {
   "cell_type": "code",
   "execution_count": 49,
   "metadata": {},
   "outputs": [],
   "source": [
    "with open('./resource/text3.txt', 'w') as f: \n",
    "    list1 = ['kim\\n', 'Park\\n', 'Cheong\\n']\n",
    "    f.writelines(list1)"
   ]
  },
  {
   "cell_type": "markdown",
   "metadata": {},
   "source": [
    "### - 예제 5\n",
    "- **프린트 함수로 파일 생성**"
   ]
  },
  {
   "cell_type": "code",
   "execution_count": 50,
   "metadata": {},
   "outputs": [],
   "source": [
    "with open('./resource/text4.txt', 'w') as f: \n",
    "    print('Test1: silver hi!', file=f)\n",
    "    print('Test2: silver hi!', file=f)"
   ]
  }
 ],
 "metadata": {
  "kernelspec": {
   "display_name": "Python 3",
   "language": "python",
   "name": "python3"
  },
  "language_info": {
   "codemirror_mode": {
    "name": "ipython",
    "version": 3
   },
   "file_extension": ".py",
   "mimetype": "text/x-python",
   "name": "python",
   "nbconvert_exporter": "python",
   "pygments_lexer": "ipython3",
   "version": "3.7.3"
  }
 },
 "nbformat": 4,
 "nbformat_minor": 4
}
