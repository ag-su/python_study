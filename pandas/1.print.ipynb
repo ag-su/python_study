{
 "cells": [
  {
   "cell_type": "markdown",
   "metadata": {},
   "source": [
    "# 1. print 함수"
   ]
  },
  {
   "cell_type": "markdown",
   "metadata": {},
   "source": [
    "### (1) 기본 출력"
   ]
  },
  {
   "cell_type": "code",
   "execution_count": 10,
   "metadata": {},
   "outputs": [
    {
     "name": "stdout",
     "output_type": "stream",
     "text": [
      "Hello Python!\n",
      "Hello Python!\n",
      "Hello Python!\n",
      "Hello Python!\n"
     ]
    }
   ],
   "source": [
    "print('Hello Python!')\n",
    "print(\"Hello Python!\")\n",
    "print(\"\"\"Hello Python!\"\"\")\n",
    "print('''Hello Python!''')"
   ]
  },
  {
   "cell_type": "markdown",
   "metadata": {},
   "source": [
    "### (2) seperator"
   ]
  },
  {
   "cell_type": "code",
   "execution_count": 11,
   "metadata": {},
   "outputs": [
    {
     "name": "stdout",
     "output_type": "stream",
     "text": [
      "TEST\n",
      "2019-02-19\n",
      "niceman@google.com\n"
     ]
    }
   ],
   "source": [
    "print('T', 'E', 'S', 'T', sep='')\n",
    "print('2019', '02', '19', sep='-')\n",
    "print('niceman', 'google.com', sep=\"@\")"
   ]
  },
  {
   "cell_type": "markdown",
   "metadata": {},
   "source": [
    "### (3) end"
   ]
  },
  {
   "cell_type": "code",
   "execution_count": 12,
   "metadata": {},
   "outputs": [
    {
     "name": "stdout",
     "output_type": "stream",
     "text": [
      "Welcom To my house with apple\n"
     ]
    }
   ],
   "source": [
    "print('Welcom To', end=' ')\n",
    "print('my house', end=' ')\n",
    "print('with apple')"
   ]
  },
  {
   "cell_type": "markdown",
   "metadata": {},
   "source": [
    "### (4) format"
   ]
  },
  {
   "cell_type": "code",
   "execution_count": 13,
   "metadata": {},
   "outputs": [
    {
     "name": "stdout",
     "output_type": "stream",
     "text": [
      "apple and banana\n",
      "apple and banana and apple\n",
      "apple and banana\n"
     ]
    }
   ],
   "source": [
    "print('{} and {}'.format('apple', 'banana'))\n",
    "print(\"{0} and {1} and {0}\".format('apple', 'banana'))\n",
    "print('{a} and {b}'.format(a='apple', b='banana'))"
   ]
  },
  {
   "cell_type": "code",
   "execution_count": 14,
   "metadata": {},
   "outputs": [
    {
     "name": "stdout",
     "output_type": "stream",
     "text": [
      "Silver favorite number is 7\n",
      "Test1:   777, Price: 1234.57\n"
     ]
    }
   ],
   "source": [
    "print(\"%s favorite number is %d\" % ('Silver', 7))\n",
    "print(\"Test1: %5d, Price: %4.2f\" % (777, 1234.567))"
   ]
  },
  {
   "cell_type": "code",
   "execution_count": 15,
   "metadata": {},
   "outputs": [
    {
     "name": "stdout",
     "output_type": "stream",
     "text": [
      "Test1:   777, Price:  1234.57\n",
      "Test1:   777, Price:  1234.57\n"
     ]
    }
   ],
   "source": [
    "print(\"Test1: {0: 5d}, Price: {1: 4.2f}\".format(777, 1234.567))\n",
    "print('Test1: {a: 5d}, Price: {b: 4.2f}'.format(a=777, b=1234.567))"
   ]
  },
  {
   "cell_type": "markdown",
   "metadata": {},
   "source": [
    "### (5) 이스케이프 문자"
   ]
  },
  {
   "cell_type": "markdown",
   "metadata": {},
   "source": [
    "\\n : 개행\n",
    "\n",
    "\\t : 탭\n",
    "\n",
    "\\\\ : 문자\n",
    "\n",
    "\\' : 문자\n",
    "\n",
    "\\\" : 문자\n",
    "\n",
    "\\r : 캐리지 리턴\n",
    "\n",
    "\\f : 폼 피드\n",
    "\n",
    "\\a : 벨 소리\n",
    "\n",
    "\\b : 백 스페이스\n",
    "\n",
    "\\000 : 널 문자"
   ]
  },
  {
   "cell_type": "code",
   "execution_count": 16,
   "metadata": {},
   "outputs": [
    {
     "name": "stdout",
     "output_type": "stream",
     "text": [
      "'you'\n",
      "'you'\n",
      "\"you\"\n",
      "'you'\n",
      "\\you\\\n",
      "\n",
      "\n",
      "\t\t\ttest\n"
     ]
    }
   ],
   "source": [
    "print(\"'you'\")\n",
    "print('\\'you\\'')\n",
    "print('\"you\"')\n",
    "print(\"\"\"'you'\"\"\")\n",
    "print('\\\\you\\\\\\n\\n')\n",
    "print('\\t\\t\\ttest')"
   ]
  }
 ],
 "metadata": {
  "kernelspec": {
   "display_name": "Python 3",
   "language": "python",
   "name": "python3"
  },
  "language_info": {
   "codemirror_mode": {
    "name": "ipython",
    "version": 3
   },
   "file_extension": ".py",
   "mimetype": "text/x-python",
   "name": "python",
   "nbconvert_exporter": "python",
   "pygments_lexer": "ipython3",
   "version": "3.7.3"
  }
 },
 "nbformat": 4,
 "nbformat_minor": 4
}
