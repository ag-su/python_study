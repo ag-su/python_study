{
 "cells": [
  {
   "cell_type": "markdown",
   "metadata": {},
   "source": [
    "# 1. pandas 개념정리"
   ]
  },
  {
   "cell_type": "markdown",
   "metadata": {},
   "source": [
    "## - 판다스 기본 함수 \n",
    "- **데이터 파일 읽기:** read_excel(), read_csv()\n",
    "- **데이터 선택하기:** df.loc(), df.iloc()\n",
    "- **인덱스/칼럼 변경하기:** columns/index, reset_index()"
   ]
  },
  {
   "cell_type": "markdown",
   "metadata": {},
   "source": [
    "## - pandas vs excel \n",
    "- **pandas:** 가볍고 빨라서 대용량 파일 작업을 자유롭게 할 수 있다. \n",
    "- **excel:** 모든 데이터가 눈에 보인다. (데이터가 많아 직접 보기 어려울 수 있다.)\n",
    "\n"
   ]
  },
  {
   "cell_type": "markdown",
   "metadata": {},
   "source": [
    "## - pandas 구조 \n",
    "- **DataFrame:** 표 형태 \n",
    " - **index:** **DB**의 **KEY** 개념, 엑셀에서는 보통 첫 번째 열에 배치하는 데이터 (vlookup 등에 활용) \n",
    " - **columns:** 하나의 속성을 가진 데이터의 집합 -> (**index+column** 하나로 나누어 살펴볼 수 있음) \n",
    "- **Series:** 하나의 속성을 가진 데이터 집합 (**DataFrame**에서 하나의 열 데이터) "
   ]
  },
  {
   "cell_type": "markdown",
   "metadata": {},
   "source": [
    "## - pandas 설치 및 불러오기"
   ]
  },
  {
   "cell_type": "markdown",
   "metadata": {},
   "source": [
    "### (1) pandas 설치"
   ]
  },
  {
   "cell_type": "code",
   "execution_count": 1,
   "metadata": {},
   "outputs": [],
   "source": [
    "# ! pip install pandas"
   ]
  },
  {
   "cell_type": "markdown",
   "metadata": {},
   "source": [
    "### (2) pandas 불러오기"
   ]
  },
  {
   "cell_type": "code",
   "execution_count": null,
   "metadata": {},
   "outputs": [],
   "source": [
    "import pandas as pd"
   ]
  }
 ],
 "metadata": {
  "kernelspec": {
   "display_name": "Python 3",
   "language": "python",
   "name": "python3"
  },
  "language_info": {
   "codemirror_mode": {
    "name": "ipython",
    "version": 3
   },
   "file_extension": ".py",
   "mimetype": "text/x-python",
   "name": "python",
   "nbconvert_exporter": "python",
   "pygments_lexer": "ipython3",
   "version": "3.7.3"
  }
 },
 "nbformat": 4,
 "nbformat_minor": 4
}
