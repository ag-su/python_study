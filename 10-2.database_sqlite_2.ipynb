{
 "cells": [
  {
   "cell_type": "markdown",
   "metadata": {},
   "source": [
    "# 10. Sqlite 데이터베이스 연동_2\n",
    "# 테이블 조회\n"
   ]
  },
  {
   "cell_type": "markdown",
   "metadata": {},
   "source": [
    "### - Setting"
   ]
  },
  {
   "cell_type": "code",
   "execution_count": 7,
   "metadata": {},
   "outputs": [],
   "source": [
    "import sqlite3"
   ]
  },
  {
   "cell_type": "code",
   "execution_count": 8,
   "metadata": {},
   "outputs": [],
   "source": [
    "conn = sqlite3.connect('./resource/database.db')"
   ]
  },
  {
   "cell_type": "code",
   "execution_count": 9,
   "metadata": {},
   "outputs": [],
   "source": [
    "c = conn.cursor()"
   ]
  },
  {
   "cell_type": "markdown",
   "metadata": {},
   "source": [
    "## (2) 테이블 조회"
   ]
  },
  {
   "cell_type": "markdown",
   "metadata": {},
   "source": [
    "### - 전체 데이터 조회"
   ]
  },
  {
   "cell_type": "code",
   "execution_count": 13,
   "metadata": {},
   "outputs": [
    {
     "data": {
      "text/plain": [
       "<sqlite3.Cursor at 0x1f5c90848f0>"
      ]
     },
     "execution_count": 13,
     "metadata": {},
     "output_type": "execute_result"
    }
   ],
   "source": [
    "c.execute(\"SELECT * FROM users\")"
   ]
  },
  {
   "cell_type": "markdown",
   "metadata": {},
   "source": [
    "### - 커서 위치 변경"
   ]
  },
  {
   "cell_type": "markdown",
   "metadata": {},
   "source": [
    "- 1개 로우 선택: **fetchone()**"
   ]
  },
  {
   "cell_type": "code",
   "execution_count": 14,
   "metadata": {},
   "outputs": [
    {
     "name": "stdout",
     "output_type": "stream",
     "text": [
      "One: \n",
      " (1, 'KIM', 'silver@naver.com', '010-0000-0000', 'kim.com', '2021-09-21 10:49:23')\n"
     ]
    }
   ],
   "source": [
    "print('One: \\n', c.fetchone())"
   ]
  },
  {
   "cell_type": "markdown",
   "metadata": {},
   "source": [
    "- 지정 로우 선택: **fetchmany( size=n )** -> 리스트 반환"
   ]
  },
  {
   "cell_type": "code",
   "execution_count": 15,
   "metadata": {},
   "outputs": [
    {
     "name": "stdout",
     "output_type": "stream",
     "text": [
      "Three: \n",
      " [(2, 'Park', 'Park@gmail.com', '010-1111-1111', 'park.com', '2021-09-21 10:49:23'), (3, 'Lee', 'Lee@naver.com', '010-2222-2222', 'Lee.com', '2021-09-21 10:49:23'), (4, 'Jung', 'jung@gmail.com', '010-3333-3333', 'jung.com', '2021-09-21 10:49:23')]\n"
     ]
    }
   ],
   "source": [
    "print('Three: \\n', c.fetchmany(size=3))"
   ]
  },
  {
   "cell_type": "markdown",
   "metadata": {},
   "source": [
    "- 전체 로우 선택: **fetchall()**"
   ]
  },
  {
   "cell_type": "code",
   "execution_count": 16,
   "metadata": {},
   "outputs": [
    {
     "name": "stdout",
     "output_type": "stream",
     "text": [
      "All: \n",
      " [(5, 'Yoo', 'yoo@daum.net', '010-4444-4444', 'yoo.net', '2021-09-21 10:49:23')]\n"
     ]
    }
   ],
   "source": [
    "print('All: \\n', c.fetchall())"
   ]
  },
  {
   "cell_type": "code",
   "execution_count": 18,
   "metadata": {},
   "outputs": [
    {
     "name": "stdout",
     "output_type": "stream",
     "text": [
      "All: \n",
      " []\n"
     ]
    }
   ],
   "source": [
    "print('All: \\n', c.fetchall())  # 모든 데이터 조회."
   ]
  },
  {
   "cell_type": "markdown",
   "metadata": {},
   "source": [
    "### -  순회"
   ]
  },
  {
   "cell_type": "markdown",
   "metadata": {},
   "source": [
    "- 순회 1"
   ]
  },
  {
   "cell_type": "code",
   "execution_count": 20,
   "metadata": {},
   "outputs": [
    {
     "data": {
      "text/plain": [
       "<sqlite3.Cursor at 0x1f5c90848f0>"
      ]
     },
     "execution_count": 20,
     "metadata": {},
     "output_type": "execute_result"
    }
   ],
   "source": [
    "c.execute(\"SELECT * FROM users\")"
   ]
  },
  {
   "cell_type": "code",
   "execution_count": 21,
   "metadata": {},
   "outputs": [
    {
     "name": "stdout",
     "output_type": "stream",
     "text": [
      "retrieve1:  (1, 'KIM', 'silver@naver.com', '010-0000-0000', 'kim.com', '2021-09-21 10:49:23')\n",
      "retrieve1:  (2, 'Park', 'Park@gmail.com', '010-1111-1111', 'park.com', '2021-09-21 10:49:23')\n",
      "retrieve1:  (3, 'Lee', 'Lee@naver.com', '010-2222-2222', 'Lee.com', '2021-09-21 10:49:23')\n",
      "retrieve1:  (4, 'Jung', 'jung@gmail.com', '010-3333-3333', 'jung.com', '2021-09-21 10:49:23')\n",
      "retrieve1:  (5, 'Yoo', 'yoo@daum.net', '010-4444-4444', 'yoo.net', '2021-09-21 10:49:23')\n"
     ]
    }
   ],
   "source": [
    "rows = c.fetchall()\n",
    "for row in rows:\n",
    "    print('retrieve1: ', row)"
   ]
  },
  {
   "cell_type": "markdown",
   "metadata": {},
   "source": [
    "- 순회 2 "
   ]
  },
  {
   "cell_type": "code",
   "execution_count": 23,
   "metadata": {},
   "outputs": [
    {
     "data": {
      "text/plain": [
       "<sqlite3.Cursor at 0x1f5c90848f0>"
      ]
     },
     "execution_count": 23,
     "metadata": {},
     "output_type": "execute_result"
    }
   ],
   "source": [
    "c.execute(\"SELECT * FROM users\")"
   ]
  },
  {
   "cell_type": "code",
   "execution_count": 24,
   "metadata": {},
   "outputs": [
    {
     "name": "stdout",
     "output_type": "stream",
     "text": [
      "retrieve2:  (1, 'KIM', 'silver@naver.com', '010-0000-0000', 'kim.com', '2021-09-21 10:49:23')\n",
      "retrieve2:  (2, 'Park', 'Park@gmail.com', '010-1111-1111', 'park.com', '2021-09-21 10:49:23')\n",
      "retrieve2:  (3, 'Lee', 'Lee@naver.com', '010-2222-2222', 'Lee.com', '2021-09-21 10:49:23')\n",
      "retrieve2:  (4, 'Jung', 'jung@gmail.com', '010-3333-3333', 'jung.com', '2021-09-21 10:49:23')\n",
      "retrieve2:  (5, 'Yoo', 'yoo@daum.net', '010-4444-4444', 'yoo.net', '2021-09-21 10:49:23')\n"
     ]
    }
   ],
   "source": [
    "for row in c.fetchall():\n",
    "    print('retrieve2: ', row)"
   ]
  },
  {
   "cell_type": "markdown",
   "metadata": {},
   "source": [
    "- 순회 3: **가독성이 떨어질 수 있음**"
   ]
  },
  {
   "cell_type": "code",
   "execution_count": 26,
   "metadata": {},
   "outputs": [
    {
     "name": "stdout",
     "output_type": "stream",
     "text": [
      "retrieve3:  (5, 'Yoo', 'yoo@daum.net', '010-4444-4444', 'yoo.net', '2021-09-21 10:49:23')\n",
      "retrieve3:  (4, 'Jung', 'jung@gmail.com', '010-3333-3333', 'jung.com', '2021-09-21 10:49:23')\n",
      "retrieve3:  (3, 'Lee', 'Lee@naver.com', '010-2222-2222', 'Lee.com', '2021-09-21 10:49:23')\n",
      "retrieve3:  (2, 'Park', 'Park@gmail.com', '010-1111-1111', 'park.com', '2021-09-21 10:49:23')\n",
      "retrieve3:  (1, 'KIM', 'silver@naver.com', '010-0000-0000', 'kim.com', '2021-09-21 10:49:23')\n"
     ]
    }
   ],
   "source": [
    "for row in c.execute('SELECT * FROM users ORDER BY id desc'):\n",
    "    print(\"retrieve3: \", row)"
   ]
  },
  {
   "cell_type": "markdown",
   "metadata": {},
   "source": [
    "### - WHERE Retrieve"
   ]
  },
  {
   "cell_type": "markdown",
   "metadata": {},
   "source": [
    "- **방법1:** 튜플"
   ]
  },
  {
   "cell_type": "code",
   "execution_count": 29,
   "metadata": {},
   "outputs": [
    {
     "name": "stdout",
     "output_type": "stream",
     "text": [
      "param1:  (3, 'Lee', 'Lee@naver.com', '010-2222-2222', 'Lee.com', '2021-09-21 10:49:23')\n",
      "param1:  []\n"
     ]
    }
   ],
   "source": [
    "param1 = (3, )\n",
    "c.execute('SELECT * FROM users WHERE id=?', param1)\n",
    "print('param1: ', c.fetchone())\n",
    "print('param1: ', c.fetchall()) # 데이터 없음"
   ]
  },
  {
   "cell_type": "markdown",
   "metadata": {},
   "source": [
    "- **방법 2:** format"
   ]
  },
  {
   "cell_type": "code",
   "execution_count": 31,
   "metadata": {},
   "outputs": [
    {
     "name": "stdout",
     "output_type": "stream",
     "text": [
      "param2:  (4, 'Jung', 'jung@gmail.com', '010-3333-3333', 'jung.com', '2021-09-21 10:49:23')\n",
      "param2:  []\n"
     ]
    }
   ],
   "source": [
    "param2 = 4\n",
    "c.execute('SELECT * FROM users WHERE id=\"%s\"' %param2)\n",
    "print('param2: ', c.fetchone())\n",
    "print('param2: ', c.fetchall())"
   ]
  },
  {
   "cell_type": "markdown",
   "metadata": {},
   "source": [
    "- **방법3:** dictionary"
   ]
  },
  {
   "cell_type": "code",
   "execution_count": 32,
   "metadata": {},
   "outputs": [
    {
     "name": "stdout",
     "output_type": "stream",
     "text": [
      "param3:  (5, 'Yoo', 'yoo@daum.net', '010-4444-4444', 'yoo.net', '2021-09-21 10:49:23')\n",
      "param3:  []\n"
     ]
    }
   ],
   "source": [
    "c.execute('SELECT * FROM users WHERE id=:ID', {\"ID\":5})\n",
    "print('param3: ', c.fetchone())\n",
    "print(\"param3: \", c.fetchall())"
   ]
  },
  {
   "cell_type": "markdown",
   "metadata": {},
   "source": [
    "- **방법4:** IN & tuple"
   ]
  },
  {
   "cell_type": "code",
   "execution_count": 34,
   "metadata": {},
   "outputs": [
    {
     "name": "stdout",
     "output_type": "stream",
     "text": [
      "param4:  [(3, 'Lee', 'Lee@naver.com', '010-2222-2222', 'Lee.com', '2021-09-21 10:49:23'), (5, 'Yoo', 'yoo@daum.net', '010-4444-4444', 'yoo.net', '2021-09-21 10:49:23')]\n"
     ]
    }
   ],
   "source": [
    "param4 = (3, 5)\n",
    "c.execute('SELECT * FROM users WHERE id IN(?, ?)', param4)\n",
    "print('param4: ', c.fetchall())"
   ]
  },
  {
   "cell_type": "markdown",
   "metadata": {},
   "source": [
    "- **방법5:** IN * format"
   ]
  },
  {
   "cell_type": "code",
   "execution_count": 36,
   "metadata": {},
   "outputs": [
    {
     "name": "stdout",
     "output_type": "stream",
     "text": [
      "param5:  [(3, 'Lee', 'Lee@naver.com', '010-2222-2222', 'Lee.com', '2021-09-21 10:49:23'), (4, 'Jung', 'jung@gmail.com', '010-3333-3333', 'jung.com', '2021-09-21 10:49:23')]\n"
     ]
    }
   ],
   "source": [
    "c.execute('SELECT * FROM users WHERE id IN(\"%d\", \"%d\")' % (3, 4 ))\n",
    "print('param5: ', c.fetchall())"
   ]
  },
  {
   "cell_type": "markdown",
   "metadata": {},
   "source": [
    "- **방법6:** OR & dictionary"
   ]
  },
  {
   "cell_type": "code",
   "execution_count": 38,
   "metadata": {},
   "outputs": [
    {
     "name": "stdout",
     "output_type": "stream",
     "text": [
      "param6:  [(2, 'Park', 'Park@gmail.com', '010-1111-1111', 'park.com', '2021-09-21 10:49:23'), (5, 'Yoo', 'yoo@daum.net', '010-4444-4444', 'yoo.net', '2021-09-21 10:49:23')]\n"
     ]
    }
   ],
   "source": [
    "c.execute('SELECT * FROM users WHERE id=:id1 OR id=:id2', {'id1': 2, 'id2':5})\n",
    "print('param6: ', c.fetchall())"
   ]
  },
  {
   "cell_type": "markdown",
   "metadata": {},
   "source": [
    "### - Dump 출력 (중요!): conn.iterdump()\n",
    "- 테이블 생성, 값 삽입 연산들을 한 번에 볼 수 있는 파일 생성"
   ]
  },
  {
   "cell_type": "code",
   "execution_count": 39,
   "metadata": {},
   "outputs": [
    {
     "name": "stdout",
     "output_type": "stream",
     "text": [
      "Dump Print Complete\n"
     ]
    }
   ],
   "source": [
    "with conn: \n",
    "    with open(\"./resource/dump.sql\", 'w') as f: \n",
    "        for line in conn.iterdump():\n",
    "            f.write(\"%s\\n\" %line)\n",
    "        print('Dump Print Complete')"
   ]
  },
  {
   "cell_type": "markdown",
   "metadata": {},
   "source": [
    "### - 연결 해제\n",
    "- : with문을 사용했기 때문에 자동 호출된다."
   ]
  },
  {
   "cell_type": "code",
   "execution_count": 41,
   "metadata": {},
   "outputs": [],
   "source": [
    "# f.close()\n",
    "# conn.close()"
   ]
  }
 ],
 "metadata": {
  "kernelspec": {
   "display_name": "Python 3",
   "language": "python",
   "name": "python3"
  },
  "language_info": {
   "codemirror_mode": {
    "name": "ipython",
    "version": 3
   },
   "file_extension": ".py",
   "mimetype": "text/x-python",
   "name": "python",
   "nbconvert_exporter": "python",
   "pygments_lexer": "ipython3",
   "version": "3.7.3"
  }
 },
 "nbformat": 4,
 "nbformat_minor": 4
}
