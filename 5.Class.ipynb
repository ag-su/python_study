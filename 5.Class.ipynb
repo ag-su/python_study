{
 "cells": [
  {
   "cell_type": "markdown",
   "metadata": {},
   "source": [
    "# 5. 클래스, 상속, 다중상속"
   ]
  },
  {
   "cell_type": "markdown",
   "metadata": {},
   "source": [
    "### 다룰 내용\n",
    "- 클래스 변수 & 인스턴스 변수 차이 (중요) \n",
    "- 클래스 변수: 직접 사용 가능, 객체보다 먼저 생성 \n",
    "- 인스턴스 변수: 객체 마다 별도로 존재, 인스턴스 생성 후 사용 \n",
    "- 네임스페이스: 객체를 인스턴스화할 때 저장된 공간 (독립적인 공간) \n",
    "- 클래스 상속과 다중상속"
   ]
  },
  {
   "cell_type": "markdown",
   "metadata": {},
   "source": [
    "## (1) 클래스 사용"
   ]
  },
  {
   "cell_type": "markdown",
   "metadata": {},
   "source": [
    "### - 예제 1"
   ]
  },
  {
   "cell_type": "code",
   "execution_count": 2,
   "metadata": {},
   "outputs": [],
   "source": [
    "class UserInfo:\n",
    "    # 속성, 메소드 \n",
    "    def __init__(self, name):\n",
    "        self.name = name\n",
    "        print(\"init\", name)\n",
    "        \n",
    "    def user_info_p(self):\n",
    "        print(\"Name: \", self.name)"
   ]
  },
  {
   "cell_type": "code",
   "execution_count": 3,
   "metadata": {},
   "outputs": [
    {
     "name": "stdout",
     "output_type": "stream",
     "text": [
      "init Silver\n",
      "Silver\n",
      "Name:  Silver\n"
     ]
    }
   ],
   "source": [
    "user1 = UserInfo('Silver')\n",
    "print(user1.name)\n",
    "user1.user_info_p()"
   ]
  },
  {
   "cell_type": "code",
   "execution_count": 4,
   "metadata": {},
   "outputs": [
    {
     "name": "stdout",
     "output_type": "stream",
     "text": [
      "init Park\n",
      "Park\n",
      "Name:  Park\n"
     ]
    }
   ],
   "source": [
    "user2 = UserInfo(\"Park\")\n",
    "print(user2.name)\n",
    "user2.user_info_p()"
   ]
  },
  {
   "cell_type": "code",
   "execution_count": 5,
   "metadata": {},
   "outputs": [
    {
     "name": "stdout",
     "output_type": "stream",
     "text": [
      "1778683526168\n",
      "1778683526840\n"
     ]
    }
   ],
   "source": [
    "print(id(user1))\n",
    "print(id(user2))"
   ]
  },
  {
   "cell_type": "markdown",
   "metadata": {},
   "source": [
    "- **네임 스페이스 확인**"
   ]
  },
  {
   "cell_type": "code",
   "execution_count": 6,
   "metadata": {},
   "outputs": [
    {
     "name": "stdout",
     "output_type": "stream",
     "text": [
      "{'name': 'Silver'}\n",
      "{'name': 'Park'}\n"
     ]
    }
   ],
   "source": [
    "print(user1.__dict__)\n",
    "print(user2.__dict__)"
   ]
  },
  {
   "cell_type": "markdown",
   "metadata": {},
   "source": [
    "### - 예제 2\n",
    "- **self의 이해 (클래스 메소드 vs 인스턴스 메소드)**"
   ]
  },
  {
   "cell_type": "code",
   "execution_count": 10,
   "metadata": {},
   "outputs": [],
   "source": [
    "class SelfTest():\n",
    "    # 클래스 메소드\n",
    "    def function1():\n",
    "        print('function1 called !')\n",
    "    # 인스턴스 메소드\n",
    "    def function2(self):\n",
    "        print(id(self))\n",
    "        print('function2 called !')"
   ]
  },
  {
   "cell_type": "code",
   "execution_count": 11,
   "metadata": {},
   "outputs": [],
   "source": [
    "self_test = SelfTest()"
   ]
  },
  {
   "cell_type": "code",
   "execution_count": 13,
   "metadata": {},
   "outputs": [
    {
     "ename": "TypeError",
     "evalue": "function1() takes 0 positional arguments but 1 was given",
     "output_type": "error",
     "traceback": [
      "\u001b[1;31m---------------------------------------------------------------------------\u001b[0m",
      "\u001b[1;31mTypeError\u001b[0m                                 Traceback (most recent call last)",
      "\u001b[1;32m<ipython-input-13-72c448e170b9>\u001b[0m in \u001b[0;36m<module>\u001b[1;34m\u001b[0m\n\u001b[1;32m----> 1\u001b[1;33m \u001b[0mself_test\u001b[0m\u001b[1;33m.\u001b[0m\u001b[0mfunction1\u001b[0m\u001b[1;33m(\u001b[0m\u001b[1;33m)\u001b[0m\u001b[1;33m\u001b[0m\u001b[1;33m\u001b[0m\u001b[0m\n\u001b[0m",
      "\u001b[1;31mTypeError\u001b[0m: function1() takes 0 positional arguments but 1 was given"
     ]
    }
   ],
   "source": [
    "self_test.function1() # self를 인자로 받지 않기 때문에 오류가 난다! "
   ]
  },
  {
   "cell_type": "code",
   "execution_count": 14,
   "metadata": {},
   "outputs": [
    {
     "name": "stdout",
     "output_type": "stream",
     "text": [
      "function1 called !\n"
     ]
    }
   ],
   "source": [
    "SelfTest.function1()"
   ]
  },
  {
   "cell_type": "code",
   "execution_count": 16,
   "metadata": {},
   "outputs": [
    {
     "name": "stdout",
     "output_type": "stream",
     "text": [
      "1778684241848\n",
      "function2 called !\n",
      "1778684241848\n"
     ]
    }
   ],
   "source": [
    "self_test.function2()\n",
    "print(id(self_test))"
   ]
  },
  {
   "cell_type": "code",
   "execution_count": 17,
   "metadata": {},
   "outputs": [
    {
     "ename": "TypeError",
     "evalue": "function2() missing 1 required positional argument: 'self'",
     "output_type": "error",
     "traceback": [
      "\u001b[1;31m---------------------------------------------------------------------------\u001b[0m",
      "\u001b[1;31mTypeError\u001b[0m                                 Traceback (most recent call last)",
      "\u001b[1;32m<ipython-input-17-3337dba7aba9>\u001b[0m in \u001b[0;36m<module>\u001b[1;34m\u001b[0m\n\u001b[1;32m----> 1\u001b[1;33m \u001b[0mSelfTest\u001b[0m\u001b[1;33m.\u001b[0m\u001b[0mfunction2\u001b[0m\u001b[1;33m(\u001b[0m\u001b[1;33m)\u001b[0m\u001b[1;33m\u001b[0m\u001b[1;33m\u001b[0m\u001b[0m\n\u001b[0m",
      "\u001b[1;31mTypeError\u001b[0m: function2() missing 1 required positional argument: 'self'"
     ]
    }
   ],
   "source": [
    "SelfTest.function2() # 오류"
   ]
  },
  {
   "cell_type": "code",
   "execution_count": 19,
   "metadata": {},
   "outputs": [
    {
     "name": "stdout",
     "output_type": "stream",
     "text": [
      "1778684241848\n",
      "function2 called !\n"
     ]
    }
   ],
   "source": [
    "# 인자를 넣어주면 오류가 나지 않음. \n",
    "SelfTest.function2(self_test)"
   ]
  },
  {
   "cell_type": "markdown",
   "metadata": {},
   "source": [
    "### - 예제 3 \n",
    "- **클래스 변수 vs 인스턴스 변수**"
   ]
  },
  {
   "cell_type": "code",
   "execution_count": 20,
   "metadata": {},
   "outputs": [],
   "source": [
    "class WareHouse:\n",
    "    # 클래스 변수\n",
    "    stock_num = 0 \n",
    "    def __init__(self, name):\n",
    "        # 인스턴스 변수 \n",
    "        self.name = name \n",
    "        WareHouse.stock_num += 1 \n",
    "        \n",
    "    def __del__(self):\n",
    "        WareHouse.stock_num -= 1 "
   ]
  },
  {
   "cell_type": "code",
   "execution_count": 21,
   "metadata": {},
   "outputs": [],
   "source": [
    "user1 = WareHouse(\"kim\")\n",
    "user2 = WareHouse(\"park\")\n",
    "user3 = WareHouse(\"Lee\")"
   ]
  },
  {
   "cell_type": "code",
   "execution_count": 22,
   "metadata": {},
   "outputs": [
    {
     "name": "stdout",
     "output_type": "stream",
     "text": [
      "{'name': 'kim'}\n",
      "{'name': 'park'}\n",
      "{'name': 'Lee'}\n"
     ]
    }
   ],
   "source": [
    "print(user1.__dict__)\n",
    "print(user2.__dict__)\n",
    "print(user3.__dict__)"
   ]
  },
  {
   "cell_type": "code",
   "execution_count": 23,
   "metadata": {},
   "outputs": [
    {
     "name": "stdout",
     "output_type": "stream",
     "text": [
      "kim\n",
      "park\n",
      "Lee\n"
     ]
    }
   ],
   "source": [
    "print(user1.name)\n",
    "print(user2.name)\n",
    "print(user3.name)"
   ]
  },
  {
   "cell_type": "code",
   "execution_count": 24,
   "metadata": {},
   "outputs": [
    {
     "name": "stdout",
     "output_type": "stream",
     "text": [
      "{'__module__': '__main__', 'stock_num': 3, '__init__': <function WareHouse.__init__ at 0x0000019E21D748C8>, '__del__': <function WareHouse.__del__ at 0x0000019E21D749D8>, '__dict__': <attribute '__dict__' of 'WareHouse' objects>, '__weakref__': <attribute '__weakref__' of 'WareHouse' objects>, '__doc__': None}\n"
     ]
    }
   ],
   "source": [
    "print(WareHouse.__dict__)  # 클래스 자체의 네임 스페이스에서 클래스 변수 확인 가능"
   ]
  },
  {
   "cell_type": "code",
   "execution_count": 25,
   "metadata": {},
   "outputs": [
    {
     "name": "stdout",
     "output_type": "stream",
     "text": [
      "3\n",
      "3\n",
      "3\n"
     ]
    }
   ],
   "source": [
    "print(user1.stock_num) # 자신의 네임스페이스에 없으면 클래스의 네임스페이스에서 찾고, 클래스의 네임스페이스에도 없으면 그 때 오류 발생\n",
    "print(user2.stock_num)\n",
    "print(user3.stock_num)"
   ]
  },
  {
   "cell_type": "code",
   "execution_count": 26,
   "metadata": {},
   "outputs": [],
   "source": [
    "del user1 "
   ]
  },
  {
   "cell_type": "code",
   "execution_count": 27,
   "metadata": {},
   "outputs": [
    {
     "name": "stdout",
     "output_type": "stream",
     "text": [
      "2\n",
      "2\n"
     ]
    }
   ],
   "source": [
    "print(user2.stock_num)\n",
    "print(user3.stock_num)"
   ]
  },
  {
   "cell_type": "markdown",
   "metadata": {},
   "source": [
    "## (2) 클래스 상속"
   ]
  },
  {
   "cell_type": "markdown",
   "metadata": {},
   "source": [
    "### - 예제 1 "
   ]
  },
  {
   "cell_type": "markdown",
   "metadata": {},
   "source": [
    "- car: 부모 클래스"
   ]
  },
  {
   "cell_type": "code",
   "execution_count": 28,
   "metadata": {},
   "outputs": [],
   "source": [
    "class Car:\n",
    "    '''Parent Class'''\n",
    "    def __init__(self, tp, color):\n",
    "        self.type = tp\n",
    "        self.color = color \n",
    "    def show(self):\n",
    "        return 'Car Class \"Show Method!\"'"
   ]
  },
  {
   "cell_type": "markdown",
   "metadata": {},
   "source": [
    "- BmwCar: 자식 클래스 1"
   ]
  },
  {
   "cell_type": "code",
   "execution_count": 29,
   "metadata": {},
   "outputs": [],
   "source": [
    "class BmwCar(Car): \n",
    "    '''Sub Class'''\n",
    "    def __init__(self, car_name, tp, color):\n",
    "        super().__init__(tp, color)\n",
    "        self.car_name = car_name\n",
    "    def show_model(self) -> None:\n",
    "        return \"Your Car Name: %s\" % self.car_name "
   ]
  },
  {
   "cell_type": "markdown",
   "metadata": {},
   "source": [
    "- BenzCar: 자식 클래스 2 "
   ]
  },
  {
   "cell_type": "code",
   "execution_count": 37,
   "metadata": {},
   "outputs": [],
   "source": [
    "class BenzCar(Car):\n",
    "    '''Sub Class'''\n",
    "    def __init__(self, car_name, tp, color):\n",
    "        super().__init__(tp, color)\n",
    "        self.car_name = car_name\n",
    "    def show_model(self) -> None:\n",
    "        return \"Your Car Name: %s\" % self.car_name\n",
    "    def show(self):\n",
    "        print(super().show())\n",
    "        return 'Car Info: %s %s %s' %(self.car_name, self.type, self.color)"
   ]
  },
  {
   "cell_type": "markdown",
   "metadata": {},
   "source": [
    "- 사용"
   ]
  },
  {
   "cell_type": "code",
   "execution_count": 32,
   "metadata": {},
   "outputs": [],
   "source": [
    "model1 = BmwCar('520d', 'sedan', 'red')"
   ]
  },
  {
   "cell_type": "code",
   "execution_count": 33,
   "metadata": {},
   "outputs": [
    {
     "name": "stdout",
     "output_type": "stream",
     "text": [
      "red\n",
      "sedan\n",
      "520d\n",
      "Car Class \"Show Method!\"\n",
      "Your Car Name: 520d\n",
      "{'type': 'sedan', 'color': 'red', 'car_name': '520d'}\n"
     ]
    }
   ],
   "source": [
    "print(model1.color)\n",
    "print(model1.type)\n",
    "print(model1.car_name)\n",
    "print(model1.show())\n",
    "print(model1.show_model())\n",
    "print(model1.__dict__)"
   ]
  },
  {
   "cell_type": "markdown",
   "metadata": {},
   "source": [
    "- **Method Overriding**"
   ]
  },
  {
   "cell_type": "code",
   "execution_count": 38,
   "metadata": {},
   "outputs": [
    {
     "name": "stdout",
     "output_type": "stream",
     "text": [
      "Car Class \"Show Method!\"\n",
      "Car Info: 220d suv black\n"
     ]
    }
   ],
   "source": [
    "model2 = BenzCar(\"220d\", 'suv', 'black')\n",
    "print(model2.show())"
   ]
  },
  {
   "cell_type": "code",
   "execution_count": 39,
   "metadata": {},
   "outputs": [
    {
     "name": "stdout",
     "output_type": "stream",
     "text": [
      "Car Class \"Show Method!\"\n",
      "Car Info: 350s sedan silver\n"
     ]
    }
   ],
   "source": [
    "model3 = BenzCar(\"350s\", \"sedan\", 'silver')\n",
    "print(model3.show())"
   ]
  },
  {
   "cell_type": "markdown",
   "metadata": {},
   "source": [
    "- **Inheritance Info (상속정보가 리스트 형태로 나온다.)**\n",
    "- 모든 클래스는 object를 상속받는다. "
   ]
  },
  {
   "cell_type": "code",
   "execution_count": 40,
   "metadata": {},
   "outputs": [
    {
     "name": "stdout",
     "output_type": "stream",
     "text": [
      "[<class '__main__.BmwCar'>, <class '__main__.Car'>, <class 'object'>]\n",
      "[<class '__main__.BenzCar'>, <class '__main__.Car'>, <class 'object'>]\n"
     ]
    }
   ],
   "source": [
    "print(BmwCar.mro())\n",
    "print(BenzCar.mro())"
   ]
  },
  {
   "cell_type": "markdown",
   "metadata": {},
   "source": [
    "### - 예제 2: 다중 상속"
   ]
  },
  {
   "cell_type": "code",
   "execution_count": 41,
   "metadata": {},
   "outputs": [],
   "source": [
    "class X:\n",
    "    pass\n",
    "\n",
    "class Y:\n",
    "    pass\n",
    "\n",
    "class Z:\n",
    "    pass\n",
    "\n",
    "class A(X, Y):\n",
    "    pass\n",
    "\n",
    "class B(Y, Z):\n",
    "    pass\n",
    "\n",
    "class M(B, A, Z):\n",
    "    pass "
   ]
  },
  {
   "cell_type": "code",
   "execution_count": 44,
   "metadata": {
    "scrolled": true
   },
   "outputs": [
    {
     "name": "stdout",
     "output_type": "stream",
     "text": [
      "[<class '__main__.M'>, <class '__main__.B'>, <class '__main__.A'>, <class '__main__.X'>, <class '__main__.Y'>, <class '__main__.Z'>, <class 'object'>]\n",
      "-------------------------------------------------------------------------------\n",
      "[<class '__main__.A'>, <class '__main__.X'>, <class '__main__.Y'>, <class 'object'>]\n"
     ]
    }
   ],
   "source": [
    "print(M.mro())\n",
    "print(\"-------------------------------------------------------------------------------\")\n",
    "print(A.mro())"
   ]
  }
 ],
 "metadata": {
  "kernelspec": {
   "display_name": "Python 3",
   "language": "python",
   "name": "python3"
  },
  "language_info": {
   "codemirror_mode": {
    "name": "ipython",
    "version": 3
   },
   "file_extension": ".py",
   "mimetype": "text/x-python",
   "name": "python",
   "nbconvert_exporter": "python",
   "pygments_lexer": "ipython3",
   "version": "3.7.3"
  }
 },
 "nbformat": 4,
 "nbformat_minor": 4
}
